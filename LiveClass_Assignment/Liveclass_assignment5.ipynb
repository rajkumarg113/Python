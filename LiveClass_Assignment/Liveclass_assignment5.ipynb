{
 "cells": [
  {
   "cell_type": "code",
   "execution_count": 12,
   "id": "843d350d",
   "metadata": {},
   "outputs": [],
   "source": [
    "1. On amazon website we have the following available items -\n",
    "amazon_website = [(\"watch\", 5000), (\"phone\", 10000), (\"laptop\", 50000), (\"shirt\", 1000)]\n",
    "Take the user input N no. of times and find out the total cost to be paid?\n",
    "\n",
    "OR\n",
    "\n",
    "You can ask the user quntity or the count of item?\n",
    "\n",
    "if the item is not present in the amazon website then print that item as out of stock and do add it total\n",
    "\n",
    "HINT: while, for loop.. indexing"
   ]
  },
  {
   "cell_type": "code",
   "execution_count": 37,
   "id": "310b48d0",
   "metadata": {},
   "outputs": [],
   "source": [
    "amazon_website = [(\"watch\", 5000), (\"phone\", 10000), (\"laptop\", 50000), (\"shirt\", 1000)]"
   ]
  },
  {
   "cell_type": "code",
   "execution_count": 38,
   "id": "3505a73f",
   "metadata": {},
   "outputs": [
    {
     "name": "stdout",
     "output_type": "stream",
     "text": [
      "want to shopping?enter Y else N: y\n",
      "what u want to purchase?: phone\n",
      "enter quantity: 1\n",
      "want to shopping?enter Y else N: y\n",
      "what u want to purchase?: watch\n",
      "enter quantity: 1\n",
      "want to shopping?enter Y else N: n\n",
      "...............\n",
      "Your total bill is 15000\n",
      "Visit again\n"
     ]
    }
   ],
   "source": [
    "total_sum=0\n",
    "while(True):\n",
    "    mood=input(\"want to shopping?enter Y else N: \").lower()\n",
    "    if(mood=='n'):\n",
    "        print(\"...............\")\n",
    "        print(f'Your total bill is {total_sum}')\n",
    "        print(\"Visit again\")\n",
    "        break\n",
    "    elif(mood=='y'):\n",
    "        item=input('what u want to purchase?: ')\n",
    "        cnt=int(input('enter quantity: '))\n",
    "        found=False\n",
    "        for itm in amazon_website:\n",
    "            if(itm[0]==item):\n",
    "                total_sum=total_sum+itm[1]*cnt\n",
    "                found=True\n",
    "        if(found==False):\n",
    "            print(f'{item} is out of stock but soon it will be available')\n",
    "    else:\n",
    "        print(\"please enter valid input Y or N: \")\n",
    "        \n",
    "    \n",
    "    \n",
    "        "
   ]
  },
  {
   "cell_type": "markdown",
   "id": "d2b88295",
   "metadata": {},
   "source": [
    "# Q2. What will be the output of the following code snippet?"
   ]
  },
  {
   "cell_type": "code",
   "execution_count": 36,
   "id": "6417ea87",
   "metadata": {},
   "outputs": [
    {
     "name": "stdout",
     "output_type": "stream",
     "text": [
      "2 3 4 5 6 6 "
     ]
    }
   ],
   "source": [
    "arr = [1, 2, 3, 4, 5, 6]\n",
    "for i in range(1, 6):\n",
    "    arr[i - 1] = arr[i]\n",
    "for i in range(0, 6): \n",
    "    print(arr[i], end = \" \")"
   ]
  },
  {
   "cell_type": "markdown",
   "id": "6ef0bc67",
   "metadata": {},
   "source": [
    "# Q3.Write a Python program to find the repeated items of a tuple."
   ]
  },
  {
   "cell_type": "code",
   "execution_count": 51,
   "id": "9093d4a5",
   "metadata": {},
   "outputs": [],
   "source": [
    "t=('rajkumar','python','python','mca','nit agartala',1,2,3,4,1)"
   ]
  },
  {
   "cell_type": "code",
   "execution_count": 52,
   "id": "b7ae3273",
   "metadata": {},
   "outputs": [],
   "source": [
    "l=list(t)        #we store all tuplevalue in list because tuple does not have count function\n",
    "repeated={1}      # creating set \n",
    "repeated.clear()"
   ]
  },
  {
   "cell_type": "code",
   "execution_count": 55,
   "id": "d2afdb23",
   "metadata": {},
   "outputs": [
    {
     "name": "stdout",
     "output_type": "stream",
     "text": [
      "these are repeated item of tuple {'python', 1}\n"
     ]
    }
   ],
   "source": [
    "for i in l:\n",
    "    if(l.count(i)>1):\n",
    "        repeated.add(i)\n",
    "print(\"these are repeated item of tuple\",repeated)"
   ]
  },
  {
   "cell_type": "markdown",
   "id": "ace1681b",
   "metadata": {},
   "source": [
    "# Q4.Replace last value of tuples in a list with 500. Try using list comprehension"
   ]
  },
  {
   "cell_type": "code",
   "execution_count": null,
   "id": "86acea92",
   "metadata": {},
   "outputs": [],
   "source": [
    "ans>>>tuple object does not support  updation or modification because it is immutable"
   ]
  },
  {
   "cell_type": "code",
   "execution_count": null,
   "id": "8c347201",
   "metadata": {},
   "outputs": [],
   "source": []
  }
 ],
 "metadata": {
  "kernelspec": {
   "display_name": "Python 3 (ipykernel)",
   "language": "python",
   "name": "python3"
  },
  "language_info": {
   "codemirror_mode": {
    "name": "ipython",
    "version": 3
   },
   "file_extension": ".py",
   "mimetype": "text/x-python",
   "name": "python",
   "nbconvert_exporter": "python",
   "pygments_lexer": "ipython3",
   "version": "3.9.12"
  }
 },
 "nbformat": 4,
 "nbformat_minor": 5
}
