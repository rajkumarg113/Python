{
 "cells": [
  {
   "cell_type": "markdown",
   "id": "1db7b1e4",
   "metadata": {},
   "source": [
    "# Q1.Count the number of times iNeuron appears in the string."
   ]
  },
  {
   "cell_type": "code",
   "execution_count": 2,
   "id": "54aea857",
   "metadata": {},
   "outputs": [
    {
     "name": "stdout",
     "output_type": "stream",
     "text": [
      "3\n"
     ]
    }
   ],
   "source": [
    "text = \"Welcome to iNeuron, You are a part of FSDS Bootcamp 2 in iNeuron. I hope you are enjoying the course by iNeuron\"\n",
    "count=text.count('iNeuron')\n",
    "print(count)"
   ]
  },
  {
   "cell_type": "markdown",
   "id": "d9145154",
   "metadata": {},
   "source": [
    "# Q2.Check if position 5 to 11 ends with the phrase iNeuron. in the string"
   ]
  },
  {
   "cell_type": "code",
   "execution_count": 3,
   "id": "5db036e9",
   "metadata": {},
   "outputs": [
    {
     "name": "stdout",
     "output_type": "stream",
     "text": [
      "No\n"
     ]
    }
   ],
   "source": [
    "txt = \"Hello, welcome to FSDS 2.0 at iNeuron.\"\n",
    "t1=txt[5:12]\n",
    "if(t1=='iNeuron'):\n",
    "    print(\"Yes exist\")\n",
    "else:\n",
    "    print(\"No\")"
   ]
  },
  {
   "cell_type": "markdown",
   "id": "95d0bc26",
   "metadata": {},
   "source": [
    "# Q3.Write a program that takes your full name as input and displays the abbreviations of the first and middle names except the last name which is displayed as it is. For example, if your name is Sunny Bhaveen Chandra, then the output should be S.B.Chandra."
   ]
  },
  {
   "cell_type": "code",
   "execution_count": 17,
   "id": "cf087b3c",
   "metadata": {},
   "outputs": [
    {
     "name": "stdout",
     "output_type": "stream",
     "text": [
      "Enter Your Full Name first second last separated by single spacerajkumar premchand gupta\n",
      "Short form for your name is R.P.Gupta\n"
     ]
    }
   ],
   "source": [
    "name=input(\"Enter Your Full Name first second last separated by single space\")\n",
    "name=name.title()    #converting first character in uppercase if user enter all lowecase  value\n",
    "spl=name.split(\" \")      #it will return list of all three words\n",
    "short_name=spl[0][0]+\".\"+spl[1][0]+\".\"+spl[2]   \n",
    "print(f\"Short form for your name is {short_name}\")"
   ]
  },
  {
   "cell_type": "markdown",
   "id": "cefd1d8c",
   "metadata": {},
   "source": [
    "# Q4.Join all items in a list into a string, using a hash(#) character as separator:"
   ]
  },
  {
   "cell_type": "code",
   "execution_count": 23,
   "id": "df46cce4",
   "metadata": {},
   "outputs": [
    {
     "name": "stdout",
     "output_type": "stream",
     "text": [
      "your list of string after joining is  My#name#is#Rishav#Dash\n"
     ]
    }
   ],
   "source": [
    "LIST = [\"My\", \"name\", \"is\", \"Rishav\", \"Dash\"]\n",
    "modify_list=\"#\".join(LIST)\n",
    "print(\"your list of string after joining is \",modify_list)"
   ]
  },
  {
   "cell_type": "code",
   "execution_count": null,
   "id": "f951456f",
   "metadata": {},
   "outputs": [],
   "source": []
  },
  {
   "cell_type": "markdown",
   "id": "8c59dc55",
   "metadata": {},
   "source": [
    "# Q5.Write example for the following string manipulation function,"
   ]
  },
  {
   "cell_type": "code",
   "execution_count": null,
   "id": "83612e27",
   "metadata": {},
   "outputs": [],
   "source": [
    "1)isdecimal()>>>>>this will return true if string contain only decimal 0-9 example a=\"123\"\n",
    "2)islower()>>>>>>>this will return true if all character in string is in lower case else false example a=\"rajkumar\"\n",
    "3)isupper()>>>>>>>this will return true if all character in string is in upper case else false example a=\"RAJKU\"\n",
    "4)isalpha()>>>>>>>this will return true if all character in string is alphabet else false example a=\"rajHvhmar\" \n",
    "5)isnumeric()>>>>>this will return true if all strin conatin only numeric value else false example a=1.5"
   ]
  },
  {
   "cell_type": "code",
   "execution_count": null,
   "id": "b2f9449e",
   "metadata": {},
   "outputs": [],
   "source": []
  },
  {
   "cell_type": "markdown",
   "id": "1f95f509",
   "metadata": {},
   "source": [
    "# Q6.Indian PAN card format follows the following formats -AYEPC7894X  ABCDE9999Y"
   ]
  },
  {
   "cell_type": "markdown",
   "id": "3de9f8a5",
   "metadata": {},
   "source": [
    "Take user input for PAN_CARD and validate as per the above example."
   ]
  },
  {
   "cell_type": "code",
   "execution_count": 42,
   "id": "963cdc4a",
   "metadata": {},
   "outputs": [
    {
     "name": "stdout",
     "output_type": "stream",
     "text": [
      "enter your pan card number: abcdh1234l\n",
      "You Pan card is valid\n"
     ]
    }
   ],
   "source": [
    "pan=input(\"enter your pan card number: \")\n",
    "if(len(pan)!=10):\n",
    "    print(\"please enter only 10 digit pan number then it will check wheather it is valid or not\")\n",
    "else:\n",
    "    if(pan[0:5].isalpha() and pan[-1].isalpha() and pan[5:9].isdecimal()):\n",
    "        print(\"You Pan card is valid\")\n",
    "    else:\n",
    "        print(\"Not a valid pan card number\")"
   ]
  },
  {
   "cell_type": "code",
   "execution_count": null,
   "id": "96a5cdc9",
   "metadata": {},
   "outputs": [],
   "source": []
  },
  {
   "cell_type": "code",
   "execution_count": null,
   "id": "26fd1b5f",
   "metadata": {},
   "outputs": [],
   "source": []
  }
 ],
 "metadata": {
  "kernelspec": {
   "display_name": "Python 3 (ipykernel)",
   "language": "python",
   "name": "python3"
  },
  "language_info": {
   "codemirror_mode": {
    "name": "ipython",
    "version": 3
   },
   "file_extension": ".py",
   "mimetype": "text/x-python",
   "name": "python",
   "nbconvert_exporter": "python",
   "pygments_lexer": "ipython3",
   "version": "3.9.12"
  }
 },
 "nbformat": 4,
 "nbformat_minor": 5
}
