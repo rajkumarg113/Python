{
 "cells": [
  {
   "cell_type": "markdown",
   "id": "b50a977a",
   "metadata": {},
   "source": [
    "# Q1.write a function which will try to find out len of a string without using an inbuilt len function"
   ]
  },
  {
   "cell_type": "code",
   "execution_count": 3,
   "id": "7f782ebe",
   "metadata": {},
   "outputs": [
    {
     "name": "stdout",
     "output_type": "stream",
     "text": [
      "length of given string is: 8\n"
     ]
    }
   ],
   "source": [
    "def myfun(s):\n",
    "    \"\"\"this is myfun which will calculate length of string\"\"\"\n",
    "    cnt=0\n",
    "    for i in s:\n",
    "        cnt+=1\n",
    "    print(f\"length of given string is: {cnt}\")\n",
    "myfun(\"rajkumar\")"
   ]
  },
  {
   "cell_type": "markdown",
   "id": "6a9c83d8",
   "metadata": {},
   "source": [
    "# Q2.write a function which  will be able to print an index of list element without using an index function"
   ]
  },
  {
   "cell_type": "code",
   "execution_count": 26,
   "id": "55f8be02",
   "metadata": {},
   "outputs": [
    {
     "name": "stdout",
     "output_type": "stream",
     "text": [
      "Index  element\n",
      "0      1\n",
      "1      rajkumar\n",
      "2      NITA\n",
      "3      BSc CS\n",
      "4      MCA\n"
     ]
    }
   ],
   "source": [
    "def print_index(l):\n",
    "    \"\"\"my function for printing index of list element\"\"\"\n",
    "    for idx,ele in enumerate(l):\n",
    "        print(idx,\"    \",ele)\n",
    "print(\"Index  element\")\n",
    "print_index([1,\"rajkumar\",\"NITA\",\"BSc CS\",\"MCA\"])"
   ]
  },
  {
   "cell_type": "markdown",
   "id": "276660a3",
   "metadata": {},
   "source": [
    "# Q3.write a function which will be able to print an ip address of your system"
   ]
  },
  {
   "cell_type": "code",
   "execution_count": 8,
   "id": "41e47ab6",
   "metadata": {},
   "outputs": [
    {
     "name": "stdout",
     "output_type": "stream",
     "text": [
      "IP Address of your Pc is  192.168.21.95\n"
     ]
    }
   ],
   "source": [
    "import socket    #socket module related to networking function\n",
    "hname=socket.gethostname()\n",
    "ip_addrs=socket.gethostbyname(hname)\n",
    "print(\"IP Address of your Pc is \",ip_addrs)"
   ]
  },
  {
   "cell_type": "markdown",
   "id": "adfcea90",
   "metadata": {},
   "source": [
    "# Q4. write a function which will shutdown your system"
   ]
  },
  {
   "cell_type": "code",
   "execution_count": 29,
   "id": "8651506b",
   "metadata": {},
   "outputs": [],
   "source": [
    "import os\n",
    "def shutdown_fun():\n",
    "    os.system(\"shutdown /s /t 0\")    # here /t for time here time 0 sec\n",
    "shutdown_fun()"
   ]
  },
  {
   "cell_type": "markdown",
   "id": "5106385c",
   "metadata": {},
   "source": [
    "# Q5.write a function which will take input as a list with any kind of numeric value and give an out as a multiplication of \n",
    "all the numeric data l = [3.5, 6.56, 4,5,\"sudh\" , \"ineuron\" , 'fsda bootcamp 2.0']"
   ]
  },
  {
   "cell_type": "code",
   "execution_count": 30,
   "id": "c6229d97",
   "metadata": {},
   "outputs": [
    {
     "name": "stdout",
     "output_type": "stream",
     "text": [
      "multiplication is  459.19999999999993\n"
     ]
    }
   ],
   "source": [
    "def multply_numeric(l):\n",
    "    \"\"\"this function return multiplication of all numeric data present in list\"\"\"\n",
    "    ans=1\n",
    "    for i in l:\n",
    "        if(type(i)==int or  type(i)==float):\n",
    "            ans=ans*i\n",
    "    return ans\n",
    "        \n",
    "lis=[3.5, 6.56, 4,5,\"sudh\" , \"ineuron\" , 'fsda bootcamp 2.0']\n",
    "print(\"multiplication is \",multply_numeric(lis))"
   ]
  },
  {
   "cell_type": "code",
   "execution_count": 1,
   "id": "96937d1d",
   "metadata": {},
   "outputs": [],
   "source": [
    "#Thank You :)"
   ]
  },
  {
   "cell_type": "code",
   "execution_count": null,
   "id": "ea75bebb",
   "metadata": {},
   "outputs": [],
   "source": [
    "# Q6.write a function which will be able to read all the mail"
   ]
  },
  {
   "cell_type": "code",
   "execution_count": null,
   "id": "15b4416e",
   "metadata": {},
   "outputs": [],
   "source": []
  },
  {
   "cell_type": "markdown",
   "id": "f652e277",
   "metadata": {},
   "source": [
    "# Q7.wrte a function which will be able to send a email"
   ]
  },
  {
   "cell_type": "code",
   "execution_count": 3,
   "id": "feeec92c",
   "metadata": {},
   "outputs": [],
   "source": [
    "import smtplib , ssl\n",
    "port = 465  # For SSL\n",
    "smtp_server = \"smtp.gmail.com\"\n",
    "receiver_email = \"rajkumargupta2000129@gmail.com\"  # Enter your address\n",
    "sender_email = \"rajkumargupta.nit661@gmail.com\"  # Enter receiver address\n",
    "password = 'qiqtmidmeutsxxzb'\n",
    "message = \"\"\"this is my message from python code in my live class\"\"\"\n",
    "\n",
    "context = ssl.create_default_context()\n",
    "with smtplib.SMTP_SSL(smtp_server, port, context=context) as server:\n",
    "    server.login(sender_email, password)\n",
    "    server.sendmail(sender_email, receiver_email, message)"
   ]
  },
  {
   "cell_type": "markdown",
   "id": "88d553af",
   "metadata": {},
   "source": [
    "# Q8.write a function which will be able to read a doc/word file from your system"
   ]
  },
  {
   "cell_type": "code",
   "execution_count": 20,
   "id": "f1231ad0",
   "metadata": {},
   "outputs": [],
   "source": [
    "import docx2txt"
   ]
  },
  {
   "cell_type": "code",
   "execution_count": 19,
   "id": "3d1dc2d3",
   "metadata": {},
   "outputs": [
    {
     "name": "stdout",
     "output_type": "stream",
     "text": [
      "Sample Document\n",
      "\n",
      "This document was created using accessibility techniques for headings, lists, image alternate text, tables, and columns. It should be completely accessible using assistive technologies such as screen readers.\n",
      "\n",
      "Headings\n",
      "\n",
      "There are eight section headings in this document. At the beginning, \"Sample Document\" is a level 1 heading. The main section headings, such as \"Headings\" and \"Lists\" are level 2 headings. The Tables section contains two sub-headings, \"Simple Table\" and \"Complex Table,\" which are both level 3 headings.\n",
      "\n",
      "Lists\n",
      "\n",
      "The following outline of the sections of this document is an ordered (numbered) list with six items. The fifth item, \"Tables,\" contains a nested unordered (bulleted) list with two items.\n",
      "\n",
      "Headings \n",
      "\n",
      "Lists \n",
      "\n",
      "Links \n",
      "\n",
      "Images \n",
      "\n",
      "Tables \n",
      "\n",
      "Simple Tables \n",
      "\n",
      "Complex Tables \n",
      "\n",
      "Columns \n",
      "\n",
      "Links\n",
      "\n",
      "In web documents, links can point different locations on the page, different pages, or even downloadable documents, such as Word documents or PDFs:\n",
      "\n",
      "Top of this Page\n",
      "Sample Document\n",
      "Sample Document (docx)\n",
      "\n",
      "Images\n",
      "\n",
      "Documents may contain images. For example, there is an image of the web accessibility symbol to the left of this paragraph. Its alternate text is \"Web Access Symbol\".\n",
      "\n",
      "Alt text should communicate what an image means, not how it looks.\n",
      "\n",
      "\n",
      "\n",
      "\n",
      "Some images, such as charts or graphs, require long descriptions, but not all document types allow that. In web pages, long descriptions may be provided in several ways: on the page below the image, via a link below the image, or via a link on the image.\n",
      "\n",
      "\n",
      "\n",
      "Tables\n",
      "\n",
      "Simple Tables\n",
      "\n",
      "Simple tables have a uniform number of columns and rows, without any merged cells:\n",
      "\n",
      "Screen Reader\n",
      "\n",
      "Responses\n",
      "\n",
      "Share \n",
      "\n",
      "JAWS\n",
      "\n",
      "853\n",
      "\n",
      "49% \n",
      "\n",
      "NVDA\n",
      "\n",
      "238\n",
      "\n",
      "14% \n",
      "\n",
      "Window-Eyes\n",
      "\n",
      "214\n",
      "\n",
      "12% \n",
      "\n",
      "System Access\n",
      "\n",
      "181\n",
      "\n",
      "10% \n",
      "\n",
      "VoiceOver\n",
      "\n",
      "159\n",
      "\n",
      "9% \n",
      "\n",
      "\n",
      "\n",
      "Complex Tables\n",
      "\n",
      "The following is a complex table, using merged cells as headers for sections within the table. This can't be made accessible in all types of documents:\n",
      "\n",
      "\n",
      "\n",
      "May 2012\n",
      "\n",
      " September 2010\n",
      "\n",
      "Screen Reader\n",
      "\n",
      "Responses\n",
      "\n",
      "Share\n",
      "\n",
      "Responses\n",
      "\n",
      "Share \n",
      "\n",
      "JAWS\n",
      "\n",
      "853\n",
      "\n",
      "49%\n",
      "\n",
      "727\n",
      "\n",
      "59% \n",
      "\n",
      "NVDA\n",
      "\n",
      "238\n",
      "\n",
      "14%\n",
      "\n",
      "105\n",
      "\n",
      "9% \n",
      "\n",
      "Window-Eyes\n",
      "\n",
      "214\n",
      "\n",
      "12%\n",
      "\n",
      "138\n",
      "\n",
      "11% \n",
      "\n",
      "System Access\n",
      "\n",
      "181\n",
      "\n",
      "10%\n",
      "\n",
      "58\n",
      "\n",
      "5% \n",
      "\n",
      "VoiceOver\n",
      "\n",
      "159\n",
      "\n",
      "9%\n",
      "\n",
      "120\n",
      "\n",
      "10%\n",
      "\n",
      " \n",
      "\n",
      "Columns\n",
      "\n",
      "\n",
      "\n",
      "This is an example of columns. With columns, the page is split into two or more horizontal sections. Unlike tables, in which you usually read across a row and then down to the next, in columns, you read down a column and then across to the next.\n",
      "When columns are not created correctly, screen readers may run lines together, reading the first line of the first column, then the first line of the second column, then the second line of the first column, and so on. Obviously, that is not accessible.\n"
     ]
    }
   ],
   "source": [
    "res=docx2txt.process('sample3.docx')\n",
    "print(res)"
   ]
  },
  {
   "cell_type": "code",
   "execution_count": null,
   "id": "d6c1493d",
   "metadata": {},
   "outputs": [],
   "source": []
  },
  {
   "cell_type": "code",
   "execution_count": null,
   "id": "24e438ea",
   "metadata": {},
   "outputs": [],
   "source": []
  }
 ],
 "metadata": {
  "kernelspec": {
   "display_name": "Python 3 (ipykernel)",
   "language": "python",
   "name": "python3"
  },
  "language_info": {
   "codemirror_mode": {
    "name": "ipython",
    "version": 3
   },
   "file_extension": ".py",
   "mimetype": "text/x-python",
   "name": "python",
   "nbconvert_exporter": "python",
   "pygments_lexer": "ipython3",
   "version": "3.9.12"
  }
 },
 "nbformat": 4,
 "nbformat_minor": 5
}
