{
 "cells": [
  {
   "cell_type": "markdown",
   "id": "b50a977a",
   "metadata": {},
   "source": [
    "# Q1.write a function which will try to find out len of a string without using an inbuilt len function"
   ]
  },
  {
   "cell_type": "code",
   "execution_count": 3,
   "id": "7f782ebe",
   "metadata": {},
   "outputs": [
    {
     "name": "stdout",
     "output_type": "stream",
     "text": [
      "length of given string is: 8\n"
     ]
    }
   ],
   "source": [
    "def myfun(s):\n",
    "    \"\"\"this is myfun which will calculate length of string\"\"\"\n",
    "    cnt=0\n",
    "    for i in s:\n",
    "        cnt+=1\n",
    "    print(f\"length of given string is: {cnt}\")\n",
    "myfun(\"rajkumar\")"
   ]
  },
  {
   "cell_type": "markdown",
   "id": "6a9c83d8",
   "metadata": {},
   "source": [
    "# Q2.write a function which  will be able to print an index of list element without using an index function"
   ]
  },
  {
   "cell_type": "code",
   "execution_count": 26,
   "id": "55f8be02",
   "metadata": {},
   "outputs": [
    {
     "name": "stdout",
     "output_type": "stream",
     "text": [
      "Index  element\n",
      "0      1\n",
      "1      rajkumar\n",
      "2      NITA\n",
      "3      BSc CS\n",
      "4      MCA\n"
     ]
    }
   ],
   "source": [
    "def print_index(l):\n",
    "    \"\"\"my function for printing index of list element\"\"\"\n",
    "    for idx,ele in enumerate(l):\n",
    "        print(idx,\"    \",ele)\n",
    "print(\"Index  element\")\n",
    "print_index([1,\"rajkumar\",\"NITA\",\"BSc CS\",\"MCA\"])"
   ]
  },
  {
   "cell_type": "markdown",
   "id": "276660a3",
   "metadata": {},
   "source": [
    "# Q3.write a function which will be able to print an ip address of your system"
   ]
  },
  {
   "cell_type": "code",
   "execution_count": 8,
   "id": "41e47ab6",
   "metadata": {},
   "outputs": [
    {
     "name": "stdout",
     "output_type": "stream",
     "text": [
      "IP Address of your Pc is  192.168.21.95\n"
     ]
    }
   ],
   "source": [
    "import socket    #socket module related to networking function\n",
    "hname=socket.gethostname()\n",
    "ip_addrs=socket.gethostbyname(hname)\n",
    "print(\"IP Address of your Pc is \",ip_addrs)"
   ]
  },
  {
   "cell_type": "markdown",
   "id": "adfcea90",
   "metadata": {},
   "source": [
    "# Q4. write a function which will shutdown your system"
   ]
  },
  {
   "cell_type": "code",
   "execution_count": 29,
   "id": "8651506b",
   "metadata": {},
   "outputs": [],
   "source": [
    "import os\n",
    "def shutdown_fun():\n",
    "    os.system(\"shutdown /s /t 0\")    # here /t for time here time 0 sec\n",
    "shutdown_fun()"
   ]
  },
  {
   "cell_type": "markdown",
   "id": "5106385c",
   "metadata": {},
   "source": [
    "# Q5.write a function which will take input as a list with any kind of numeric value and give an out as a multiplication of \n",
    "all the numeric data l = [3.5, 6.56, 4,5,\"sudh\" , \"ineuron\" , 'fsda bootcamp 2.0']"
   ]
  },
  {
   "cell_type": "code",
   "execution_count": 30,
   "id": "c6229d97",
   "metadata": {},
   "outputs": [
    {
     "name": "stdout",
     "output_type": "stream",
     "text": [
      "multiplication is  459.19999999999993\n"
     ]
    }
   ],
   "source": [
    "def multply_numeric(l):\n",
    "    \"\"\"this function return multiplication of all numeric data present in list\"\"\"\n",
    "    ans=1\n",
    "    for i in l:\n",
    "        if(type(i)==int or  type(i)==float):\n",
    "            ans=ans*i\n",
    "    return ans\n",
    "        \n",
    "lis=[3.5, 6.56, 4,5,\"sudh\" , \"ineuron\" , 'fsda bootcamp 2.0']\n",
    "print(\"multiplication is \",multply_numeric(lis))"
   ]
  },
  {
   "cell_type": "code",
   "execution_count": null,
   "id": "96937d1d",
   "metadata": {},
   "outputs": [],
   "source": [
    "#Thank You :)"
   ]
  }
 ],
 "metadata": {
  "kernelspec": {
   "display_name": "Python 3 (ipykernel)",
   "language": "python",
   "name": "python3"
  },
  "language_info": {
   "codemirror_mode": {
    "name": "ipython",
    "version": 3
   },
   "file_extension": ".py",
   "mimetype": "text/x-python",
   "name": "python",
   "nbconvert_exporter": "python",
   "pygments_lexer": "ipython3",
   "version": "3.9.12"
  }
 },
 "nbformat": 4,
 "nbformat_minor": 5
}
