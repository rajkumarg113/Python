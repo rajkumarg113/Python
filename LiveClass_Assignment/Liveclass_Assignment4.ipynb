{
 "cells": [
  {
   "cell_type": "markdown",
   "id": "d2836205",
   "metadata": {},
   "source": [
    "# Q1. Find the largest number from the given list, use for loop."
   ]
  },
  {
   "cell_type": "code",
   "execution_count": 1,
   "id": "a08f68c5",
   "metadata": {},
   "outputs": [
    {
     "name": "stdout",
     "output_type": "stream",
     "text": [
      "largest number is  525\n"
     ]
    }
   ],
   "source": [
    "numbers = [12, 75, 150, 180, 145, 525, 50]\n",
    "import sys\n",
    "largest=-sys.maxsize      #assignming minimum negative so even if it contain negative then also it will work\n",
    "for i in numbers:\n",
    "    if(i>largest):\n",
    "        largest=i\n",
    "print(\"largest number is \",largest)\n",
    "    "
   ]
  },
  {
   "cell_type": "markdown",
   "id": "8433260b",
   "metadata": {},
   "source": [
    "# Q2.Print all the even number between (1, 12)."
   ]
  },
  {
   "cell_type": "code",
   "execution_count": 2,
   "id": "683b6991",
   "metadata": {},
   "outputs": [
    {
     "name": "stdout",
     "output_type": "stream",
     "text": [
      "2 4 6 8 10 12 "
     ]
    }
   ],
   "source": [
    "i=1\n",
    "while(i<=12):\n",
    "    if(i&1):               #bitwise and operator in odd case it is one so pass else print \n",
    "        pass\n",
    "    else:\n",
    "        print(i,end=\" \")\n",
    "    i+=1"
   ]
  },
  {
   "cell_type": "markdown",
   "id": "7688a2e2",
   "metadata": {},
   "source": [
    "# Q3. Calculate the sum of all numbers from 1 to a given number"
   ]
  },
  {
   "cell_type": "code",
   "execution_count": 6,
   "id": "bbf4e167",
   "metadata": {},
   "outputs": [
    {
     "name": "stdout",
     "output_type": "stream",
     "text": [
      "enter number: 10\n",
      "Total sum by formula  is  55\n",
      "Total sum by loop  is  55\n"
     ]
    }
   ],
   "source": [
    "n=int(input(\"enter number: \"))\n",
    "#method 1: constant time O(1) by formula \n",
    "n_natural_sum=(n*(n+1))/2\n",
    "print(\"Total sum by formula  is \",int(n_natural_sum))\n",
    "\n",
    "#method 2: O(n) time by loop\n",
    "i=1\n",
    "total_sum=0\n",
    "while(i<=n):\n",
    "    total_sum+=i\n",
    "    i+=1\n",
    "print(\"Total sum by loop  is \",total_sum)\n",
    "\n",
    "\n"
   ]
  },
  {
   "cell_type": "markdown",
   "id": "9459fde5",
   "metadata": {},
   "source": [
    "# Q4. Write a program to display only those numbers from a list that satisfy the following conditions"
   ]
  },
  {
   "cell_type": "code",
   "execution_count": null,
   "id": "727eea90",
   "metadata": {},
   "outputs": [],
   "source": [
    ">>>The number must be divisible by five\n",
    ">>>If the number is greater than 150, then skip it and move to the next number\n",
    ">>>If the number is greater than 500, then stop the loop"
   ]
  },
  {
   "cell_type": "code",
   "execution_count": 10,
   "id": "6c7f81b1",
   "metadata": {},
   "outputs": [
    {
     "name": "stdout",
     "output_type": "stream",
     "text": [
      "75\n",
      "150\n",
      "145\n"
     ]
    }
   ],
   "source": [
    "numbers = [12, 75, 150, 180, 145, 525, 50]\n",
    "for i in numbers:\n",
    "    if(i>500):       #satisfy third condition\n",
    "        break\n",
    "    elif(i<=150 and i%5==0):   #satisfy first condition\n",
    "        print(i)\n",
    "    elif(i>150):          #satisfy second condition\n",
    "        continue\n",
    "    else:\n",
    "        pass"
   ]
  },
  {
   "cell_type": "markdown",
   "id": "ed1ef7d8",
   "metadata": {},
   "source": [
    "# Q5. Print the given list in reverse order."
   ]
  },
  {
   "cell_type": "code",
   "execution_count": 15,
   "id": "94cdbc4b",
   "metadata": {},
   "outputs": [],
   "source": [
    "list1 = [10, 20, 30, 40, 50]"
   ]
  },
  {
   "cell_type": "code",
   "execution_count": 16,
   "id": "22dd355a",
   "metadata": {},
   "outputs": [
    {
     "name": "stdout",
     "output_type": "stream",
     "text": [
      "[50, 40, 30, 20, 10]\n"
     ]
    }
   ],
   "source": [
    "#method 1 by slicing\n",
    "print(list1[::-1])     #here this is only printing but no change in original list"
   ]
  },
  {
   "cell_type": "code",
   "execution_count": 17,
   "id": "6f137b37",
   "metadata": {},
   "outputs": [
    {
     "name": "stdout",
     "output_type": "stream",
     "text": [
      "50 40 30 20 "
     ]
    }
   ],
   "source": [
    "#method 2 by loop\n",
    "for i in range(len(list1)-1,0,-1):\n",
    "    print(list1[i],end=\" \")"
   ]
  },
  {
   "cell_type": "code",
   "execution_count": 18,
   "id": "5c68718d",
   "metadata": {},
   "outputs": [
    {
     "name": "stdout",
     "output_type": "stream",
     "text": [
      "[50, 40, 30, 20, 10]\n"
     ]
    }
   ],
   "source": [
    "#method 3 by reversing \n",
    "list1.reverse()        #here list element is changed their position\n",
    "print(list1)"
   ]
  },
  {
   "cell_type": "code",
   "execution_count": null,
   "id": "2781a0ef",
   "metadata": {},
   "outputs": [],
   "source": []
  }
 ],
 "metadata": {
  "kernelspec": {
   "display_name": "Python 3 (ipykernel)",
   "language": "python",
   "name": "python3"
  },
  "language_info": {
   "codemirror_mode": {
    "name": "ipython",
    "version": 3
   },
   "file_extension": ".py",
   "mimetype": "text/x-python",
   "name": "python",
   "nbconvert_exporter": "python",
   "pygments_lexer": "ipython3",
   "version": "3.9.12"
  }
 },
 "nbformat": 4,
 "nbformat_minor": 5
}
