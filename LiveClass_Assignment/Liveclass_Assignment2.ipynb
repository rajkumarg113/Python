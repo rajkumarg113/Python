{
 "cells": [
  {
   "cell_type": "markdown",
   "id": "3bdfc1b3",
   "metadata": {},
   "source": [
    "# Q1.What is indentation error? Why indentation is important? Give one simple example?"
   ]
  },
  {
   "cell_type": "code",
   "execution_count": null,
   "id": "b4deaad3",
   "metadata": {},
   "outputs": [],
   "source": [
    "#in python we have to give tab or space after we define new block of code if we forget then it show indentation error\n",
    "#indentation is important because it define which line belongs to which block so interpreter execute according to it\n",
    "if true:\n",
    "    print(\"correct indenntation is given\")\n",
    "#in above example line 2 is indented because if block is started which show line no 2 comes under if block\n"
   ]
  },
  {
   "cell_type": "code",
   "execution_count": 29,
   "id": "353d02f1",
   "metadata": {},
   "outputs": [
    {
     "name": "stdout",
     "output_type": "stream",
     "text": [
      "Hey friend, is class started?: [0-False/1-True]q\n",
      "Since class started...\n",
      "Lets concentrate\n"
     ]
    }
   ],
   "source": [
    "#Q2.Correct the following code and write the comment where you made the correction\n",
    "class_started = bool(input(\"Hey friend, is class started?: [0-False/1-True]\"))\n",
    "if class_started:\n",
    "   print(\"Since class started...\")\n",
    "   print(\"Lets concentrate\")\n",
    "else:\n",
    "   print(\"Since class is not started...\")\n",
    "   print(\"let's revise\")\n",
    "    "
   ]
  },
  {
   "cell_type": "code",
   "execution_count": null,
   "id": "2c5ceceb",
   "metadata": {},
   "outputs": [],
   "source": [
    "#ans>>>>>>>>In the above code the error is the type of input we are accepting from user i.e bool \n",
    "#but here bool is incorrect according to code logic because any how user input any value it will be true \n",
    "#so it will always run for if block\n",
    "#so for that correct input type must be int so it will treat non zero value as true and for zero it is false\n",
    "\n",
    "class_started = int(input(\"Hey friend, is class started?: [0-False/1-True]\")) \n",
    "if class_started: \n",
    "    print(\"Since class started...\") \n",
    "    print(\"Lets concentrate\") \n",
    "else: \n",
    "    print(\"Since class is not started...\")\n",
    "    print(\"let's revise\")"
   ]
  },
  {
   "cell_type": "markdown",
   "id": "3c46cca3",
   "metadata": {},
   "source": [
    "# Q3.Use if else condition to verify that dataype of input() method in python is always string."
   ]
  },
  {
   "cell_type": "code",
   "execution_count": 37,
   "id": "116a89f7",
   "metadata": {},
   "outputs": [
    {
     "name": "stdout",
     "output_type": "stream",
     "text": [
      "enter any type of value888\n",
      "your string data type is  888\n"
     ]
    }
   ],
   "source": [
    "#ans>>>>after taking input if type is not string then convert it by using type casting\n",
    "inp=input(\"enter any type of value\")\n",
    "if type(inp)!=str:\n",
    "    str(inp)\n",
    "else:\n",
    "    pass\n",
    "print(\"your string data type is \",inp)"
   ]
  },
  {
   "cell_type": "markdown",
   "id": "dfa41f9e",
   "metadata": {},
   "source": [
    "# Q4.Take 3 variables and assign integer values to them. Find the largest variable, by only using the if and else conditions."
   ]
  },
  {
   "cell_type": "code",
   "execution_count": null,
   "id": "dde478a8",
   "metadata": {},
   "outputs": [],
   "source": [
    "a=int(input(\"enter a: \"))\n",
    "b=int(input(\"enter b: \"))\n",
    "c=int(input(\"enter c: \"))\n",
    "if(a==b==c):\n",
    "    print(\"all are equal\")\n",
    "else:\n",
    "    if(a>b):\n",
    "        if(a>c):\n",
    "            print(\"a is greater\")\n",
    "        else:\n",
    "            print(\"c is greater\")\n",
    "    else:\n",
    "        if(b>c):\n",
    "            print(\"b is greater\")\n",
    "        else:\n",
    "            print(\"c is greater\")"
   ]
  },
  {
   "cell_type": "markdown",
   "id": "e5124b41",
   "metadata": {},
   "source": [
    "# Q5.What would be the solution?"
   ]
  },
  {
   "cell_type": "code",
   "execution_count": 49,
   "id": "071e9077",
   "metadata": {},
   "outputs": [],
   "source": [
    "#True\n",
    "#False\n",
    "#a = 6\n",
    "#b = 10\n",
    "#print( not ( not a == 10 or not b == 10) )"
   ]
  },
  {
   "cell_type": "code",
   "execution_count": 50,
   "id": "4c9157ba",
   "metadata": {},
   "outputs": [],
   "source": [
    "#ans::: since a==10 is false but due to not it is true and b==10 is true but due to not it is false in between we have\n",
    "# or condtion then it is true and after that we have not condition then it is false overall answer is false "
   ]
  },
  {
   "cell_type": "markdown",
   "id": "bc2f886f",
   "metadata": {},
   "source": [
    "# Q6 Find the answer as well as find out the reason behind the result? -"
   ]
  },
  {
   "cell_type": "code",
   "execution_count": null,
   "id": "0c8353e1",
   "metadata": {},
   "outputs": [],
   "source": [
    "#case 1\n",
    "#A = 5.0\n",
    "#B= 10/2\n",
    "#print(B)\n",
    "\n",
    "#>>>>ans ::: it output is false because we are using is keyword which is identity that check if they are refer \n",
    "#same object or not \n",
    "\n",
    "\n",
    "#case2\n",
    "#A = 5.0\n",
    "#B = int(10/2)\n",
    "#print(B)\n",
    "\n",
    "#>>>>ans ::: it output is false because we are using is keyword which is identity that check if they are refer \n",
    "#same object or not \n",
    "\n",
    "\n",
    "#case3\n",
    "#A = 5.0\n",
    "#B = float(10/2)\n",
    "#print(A is B)\n",
    "\n",
    "#>>>>ans ::: it output is false because we are using is keyword which is identity that check if they are refer \n",
    "#same object or not "
   ]
  },
  {
   "cell_type": "markdown",
   "id": "80b27c43",
   "metadata": {},
   "source": [
    "# Q7. Write a program that asks the user to enter a number. You should print out a message to the user, either “That number is divisible by either 3 or 5”, or “That number is not divisible by either 3 or 5”. Be sure to consider the data type of the input you are taking in from the user. Use a single if/else block to solve this problem.# "
   ]
  },
  {
   "cell_type": "code",
   "execution_count": 70,
   "id": "5931545a",
   "metadata": {},
   "outputs": [
    {
     "name": "stdout",
     "output_type": "stream",
     "text": [
      "enter number : 18\n",
      "18  is divissible by either 3 or 5\n"
     ]
    }
   ],
   "source": [
    "num=int(input(\"enter number : \"))\n",
    "if(num%3==0 or num%5==0):\n",
    "    print(num,\" is divissible by either 3 or 5\")\n",
    "else:\n",
    "    print(num,\" is not divissible by either 3 or 5\")\n",
    "    "
   ]
  },
  {
   "cell_type": "markdown",
   "id": "d0fad27e",
   "metadata": {},
   "source": [
    "# Q8.Take user input for length and width. Then calculate the area of rectangle. Also print as per length and width whether its a square of rectangle"
   ]
  },
  {
   "cell_type": "code",
   "execution_count": 74,
   "id": "247e49e2",
   "metadata": {},
   "outputs": [
    {
     "name": "stdout",
     "output_type": "stream",
     "text": [
      "enter length: 4\n",
      "enter width: 4\n",
      "Area is  16.0 it is square \n"
     ]
    }
   ],
   "source": [
    "l=float(input(\"enter length: \"))\n",
    "w=float(input(\"enter width: \"))\n",
    "print(\"Area is \",l*w,end=\" \")\n",
    "if(l==w):\n",
    "    print(\"it is square \")\n",
    "else:\n",
    "    print(\"it is rectangle\")"
   ]
  },
  {
   "cell_type": "markdown",
   "id": "69c2fa1c",
   "metadata": {},
   "source": [
    "# Q9.Take two variable radius_1 and radius_2 and calculate the area of circle_1 and circle_2. Also print which circle has large area. If area is equal then print area is equal."
   ]
  },
  {
   "cell_type": "code",
   "execution_count": 79,
   "id": "b457ea90",
   "metadata": {},
   "outputs": [
    {
     "name": "stdout",
     "output_type": "stream",
     "text": [
      "enter radius of circle 1: 2\n",
      "enter radius of circle 2: 2\n",
      "both circle have equal area\n"
     ]
    }
   ],
   "source": [
    "r1=float(input(\"enter radius of circle 1: \"))\n",
    "r2=float(input(\"enter radius of circle 2: \"))\n",
    "a1=3.14*r1**2\n",
    "a2=3.14*r2**2\n",
    "if(a1==a2):\n",
    "    print(\"both circle have equal area\")\n",
    "else:\n",
    "    if(a1>a2):\n",
    "        print(a1,\" circle1 has larger area\")\n",
    "    else:\n",
    "        print(a2, \"circle2 has larger area\")\n",
    "\n",
    "    \n"
   ]
  },
  {
   "cell_type": "markdown",
   "id": "d2391c6e",
   "metadata": {},
   "source": [
    "# Q10.Check whether a year is leap year or not. Use nested if...else to solve this problem. A leap year is exactly divisible by 4 except for century years (years ending with 00). The century year is a leap year only if it is perfectly divisible by 400."
   ]
  },
  {
   "cell_type": "code",
   "execution_count": 87,
   "id": "641233d3",
   "metadata": {},
   "outputs": [
    {
     "name": "stdout",
     "output_type": "stream",
     "text": [
      "Enter year: 200\n",
      "not leap\n"
     ]
    }
   ],
   "source": [
    "year=int(input(\"Enter year: \"))\n",
    "if(year%100==0):\n",
    "    if(year%400==0):\n",
    "        print(\"leap\")\n",
    "    else:\n",
    "        print(\"not leap\")\n",
    "else:\n",
    "    if(year%4==0):\n",
    "        print(\"leap\")\n",
    "    else:\n",
    "        print(\"not leap\")\n"
   ]
  },
  {
   "cell_type": "code",
   "execution_count": null,
   "id": "2da2a30c",
   "metadata": {},
   "outputs": [],
   "source": []
  }
 ],
 "metadata": {
  "kernelspec": {
   "display_name": "Python 3 (ipykernel)",
   "language": "python",
   "name": "python3"
  },
  "language_info": {
   "codemirror_mode": {
    "name": "ipython",
    "version": 3
   },
   "file_extension": ".py",
   "mimetype": "text/x-python",
   "name": "python",
   "nbconvert_exporter": "python",
   "pygments_lexer": "ipython3",
   "version": "3.9.12"
  }
 },
 "nbformat": 4,
 "nbformat_minor": 5
}
