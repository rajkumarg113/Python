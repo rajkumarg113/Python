{
 "cells": [
  {
   "cell_type": "markdown",
   "id": "e198bc9b",
   "metadata": {},
   "source": [
    "Question1\n",
    "Create a function that takes a string and returns a string in which each character is repeated once."
   ]
  },
  {
   "cell_type": "code",
   "execution_count": 2,
   "id": "d86175f8",
   "metadata": {},
   "outputs": [
    {
     "name": "stdout",
     "output_type": "stream",
     "text": [
      "rraajjkkuummaarr\n",
      "lleeaarrnniinngg\n",
      "ddaattaa  sscciieennccee\n"
     ]
    }
   ],
   "source": [
    "def double_char(string):\n",
    "    res = ''\n",
    "    for i in string:\n",
    "        res =res + i*2\n",
    "    return res\n",
    "print(double_char(\"rajkumar\"))\n",
    "print(double_char(\"learning\"))\n",
    "print(double_char(\"data science\"))"
   ]
  },
  {
   "cell_type": "markdown",
   "id": "772584f3",
   "metadata": {},
   "source": [
    "Question2\n",
    "Create a function that reverses a boolean value and returns the string \"boolean expected\" if another variable type is given."
   ]
  },
  {
   "cell_type": "code",
   "execution_count": 12,
   "id": "38c8162f",
   "metadata": {},
   "outputs": [
    {
     "name": "stdout",
     "output_type": "stream",
     "text": [
      "True\n",
      "False\n",
      "boolean expected\n"
     ]
    }
   ],
   "source": [
    "def reverse_bool(flag):\n",
    "    if(type(flag)==bool):\n",
    "        return not flag\n",
    "    else:\n",
    "        print(\"boolean expected\")\n",
    "print(reverse_bool(False))\n",
    "print(reverse_bool(True))\n",
    "reverse_bool(\"rajkumar\")\n"
   ]
  },
  {
   "cell_type": "markdown",
   "id": "aa0f8307",
   "metadata": {},
   "source": [
    "Question3\n",
    "Create a function that returns the thickness (in meters) of a piece of paper after folding it n number of times. The paper starts off with a thickness of 0.5mm."
   ]
  },
  {
   "cell_type": "code",
   "execution_count": 14,
   "id": "83a9ebaa",
   "metadata": {},
   "outputs": [
    {
     "name": "stdout",
     "output_type": "stream",
     "text": [
      "0.001 m\n",
      "0.008 m\n",
      "1048.576 m\n"
     ]
    }
   ],
   "source": [
    "def thickness(tck):\n",
    "    ans = 0.5\n",
    "    for i in range(tck):\n",
    "        ans*=2\n",
    "    print(ans/1000,\"m\")\n",
    "thickness(1)\n",
    "thickness(4)\n",
    "thickness(21)"
   ]
  },
  {
   "cell_type": "markdown",
   "id": "5eed9c5f",
   "metadata": {},
   "source": [
    "Question4\n",
    "Create a function that takes a single string as argument and returns an ordered list containing the indices of all capital letters in the string."
   ]
  },
  {
   "cell_type": "code",
   "execution_count": 16,
   "id": "c0ec6adb",
   "metadata": {},
   "outputs": [
    {
     "name": "stdout",
     "output_type": "stream",
     "text": [
      "index_of_caps [1, 3, 5]\n",
      "index_of_caps [1, 3, 4]\n",
      "index_of_caps []\n",
      "index_of_caps [0, 1, 2, 3, 4, 5]\n",
      "index_of_caps [1]\n"
     ]
    }
   ],
   "source": [
    "def index_of_caps(string):\n",
    "    res = []\n",
    "    for i in string:\n",
    "        if i.isupper():\n",
    "            res.append(string.index(i))\n",
    "    print(\"index_of_caps\",res)\n",
    "index_of_caps(\"eDaBiT\")\n",
    "index_of_caps(\"eQuINox\")\n",
    "index_of_caps(\"determine\")\n",
    "index_of_caps(\"STRIKE\")\n",
    "index_of_caps(\"sUn\")"
   ]
  },
  {
   "cell_type": "markdown",
   "id": "e062ac84",
   "metadata": {},
   "source": [
    "Question5\n",
    "Using list comprehensions, create a function that finds all even numbers from 1 to the given number."
   ]
  },
  {
   "cell_type": "code",
   "execution_count": 19,
   "id": "bcf81074",
   "metadata": {},
   "outputs": [
    {
     "ename": "SyntaxError",
     "evalue": "expected 'else' after 'if' expression (410082983.py, line 2)",
     "output_type": "error",
     "traceback": [
      "\u001b[1;36m  Cell \u001b[1;32mIn[19], line 2\u001b[1;36m\u001b[0m\n\u001b[1;33m    l=[x if x%2==0  for x in range(1,n+1)]\u001b[0m\n\u001b[1;37m       ^\u001b[0m\n\u001b[1;31mSyntaxError\u001b[0m\u001b[1;31m:\u001b[0m expected 'else' after 'if' expression\n"
     ]
    }
   ],
   "source": [
    "def list_compre(n):\n",
    "    l=[x if x%2==0  for x in range(1,n+1)]\n",
    "    print(l)\n",
    "    "
   ]
  },
  {
   "cell_type": "code",
   "execution_count": null,
   "id": "18475ff4",
   "metadata": {},
   "outputs": [],
   "source": []
  },
  {
   "cell_type": "code",
   "execution_count": null,
   "id": "9b9af403",
   "metadata": {},
   "outputs": [],
   "source": []
  }
 ],
 "metadata": {
  "kernelspec": {
   "display_name": "Python 3 (ipykernel)",
   "language": "python",
   "name": "python3"
  },
  "language_info": {
   "codemirror_mode": {
    "name": "ipython",
    "version": 3
   },
   "file_extension": ".py",
   "mimetype": "text/x-python",
   "name": "python",
   "nbconvert_exporter": "python",
   "pygments_lexer": "ipython3",
   "version": "3.10.9"
  }
 },
 "nbformat": 4,
 "nbformat_minor": 5
}
