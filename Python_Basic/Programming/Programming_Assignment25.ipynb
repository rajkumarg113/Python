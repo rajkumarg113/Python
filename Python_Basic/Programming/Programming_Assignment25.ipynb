{
 "cells": [
  {
   "cell_type": "markdown",
   "id": "682b47d2",
   "metadata": {},
   "source": [
    "Question1\n",
    "Create a function that takes three integer arguments (a, b, c) and returns the amount of integers which are of equal value."
   ]
  },
  {
   "cell_type": "code",
   "execution_count": 3,
   "id": "46bdfb54",
   "metadata": {},
   "outputs": [
    {
     "name": "stdout",
     "output_type": "stream",
     "text": [
      "(3, 4, 3) : 2\n",
      "(1, 1, 1) : 3\n",
      "(3, 4, 1) : 0\n",
      "(3, 3, 1) : 2\n",
      "(10, 3, 3) : 2\n"
     ]
    }
   ],
   "source": [
    "def equality(a,b,c):\n",
    "    if a==b==c :\n",
    "        print(f\"{a,b,c} : {3}\")\n",
    "    elif a==c!=b or a==b!=c or a!=b==c:\n",
    "        print(f\"{a,b,c} : {2}\")\n",
    "    else:\n",
    "        print(f\"{a,b,c} : {0}\")\n",
    "equality(3,4,3)\n",
    "equality(1,1,1)\n",
    "equality(3,4,1)\n",
    "equality(3,3,1)\n",
    "equality(10,3,3)"
   ]
  },
  {
   "cell_type": "markdown",
   "id": "dc40c02f",
   "metadata": {},
   "source": [
    "Question2\n",
    "Write a function that converts a dictionary into a list of keys-values tuples.\n"
   ]
  },
  {
   "cell_type": "code",
   "execution_count": 5,
   "id": "3ab4fbb3",
   "metadata": {},
   "outputs": [
    {
     "name": "stdout",
     "output_type": "stream",
     "text": [
      "{'D': 1, 'B': 2, 'C': 3} : [('B', 2), ('C', 3), ('D', 1)]\n",
      "{'likes': 2, 'dislikes': 3, 'followers': 10} : [('dislikes', 3), ('followers', 10), ('likes', 2)]\n"
     ]
    }
   ],
   "source": [
    "def dict_to_list(dict):\n",
    "    list = []\n",
    "    for keys,values in dict.items():\n",
    "        list.append((keys,values))\n",
    "    print(f\"{dict} : {sorted(list)}\")\n",
    "dict_to_list({\"D\":1,\"B\":2,\"C\":3})\n",
    "dict_to_list({\"likes\":2,\"dislikes\":3,\"followers\":10})"
   ]
  },
  {
   "cell_type": "markdown",
   "id": "9de21007",
   "metadata": {},
   "source": [
    "Question3\n",
    "Write a function that creates a dictionary with each (key, value) pair being the (lower case, upper case) versions of a letter, respectively.\n"
   ]
  },
  {
   "cell_type": "code",
   "execution_count": 7,
   "id": "22ea4d71",
   "metadata": {},
   "outputs": [
    {
     "name": "stdout",
     "output_type": "stream",
     "text": [
      "['p', 's'] : {'p': 'P', 's': 'S'}\n",
      "['a', 'b', 'c'] : {'a': 'A', 'b': 'B', 'c': 'C'}\n",
      "['a', 'v', 'y', 'z'] : {'a': 'A', 'v': 'V', 'y': 'Y', 'z': 'Z'}\n"
     ]
    }
   ],
   "source": [
    "def mapping_dict(list):\n",
    "    d = {}\n",
    "    for i in list:\n",
    "        d[i] = i.upper()\n",
    "    print(f\"{list} : {d}\")\n",
    "mapping_dict([\"p\",\"s\"]) \n",
    "mapping_dict([\"a\",\"b\",\"c\"])\n",
    "mapping_dict([\"a\",\"v\",\"y\",\"z\"]) "
   ]
  },
  {
   "cell_type": "markdown",
   "id": "bfb26eef",
   "metadata": {},
   "source": [
    "Question4\n",
    "Write a function, that replaces all vowels in a string with a specified vowel.\n"
   ]
  },
  {
   "cell_type": "code",
   "execution_count": 8,
   "id": "bbc86d60",
   "metadata": {},
   "outputs": [
    {
     "name": "stdout",
     "output_type": "stream",
     "text": [
      "('apples and bananas', 'u') : upplus und bununus\n",
      "('cheese casserole', 'o') : chooso cossorolo\n",
      "('stuffed jalapeno poppers', 'e') : steffed jelepene peppers\n"
     ]
    }
   ],
   "source": [
    "def vow_replace(string,vow):\n",
    "    res = ''\n",
    "    vowels = [\"a\",\"e\",\"i\",\"o\",\"u\"]\n",
    "    for i in string:\n",
    "        if i in vowels:\n",
    "            res+=vow\n",
    "        else:\n",
    "            res+=i\n",
    "    print(f\"{string,vow} : {res}\")\n",
    "vow_replace(\"apples and bananas\",\"u\")\n",
    "vow_replace(\"cheese casserole\",\"o\") \n",
    "vow_replace(\"stuffed jalapeno poppers\",\"e\") "
   ]
  },
  {
   "cell_type": "code",
   "execution_count": null,
   "id": "d6331363",
   "metadata": {},
   "outputs": [],
   "source": [
    "\n",
    "Question5\n",
    "Create a function that takes a string as input and capitalizes a letter if its ASCII code is even and returns its lower case version if its ASCII code is odd.\n"
   ]
  },
  {
   "cell_type": "code",
   "execution_count": null,
   "id": "310e56ba",
   "metadata": {},
   "outputs": [],
   "source": []
  }
 ],
 "metadata": {
  "kernelspec": {
   "display_name": "Python 3 (ipykernel)",
   "language": "python",
   "name": "python3"
  },
  "language_info": {
   "codemirror_mode": {
    "name": "ipython",
    "version": 3
   },
   "file_extension": ".py",
   "mimetype": "text/x-python",
   "name": "python",
   "nbconvert_exporter": "python",
   "pygments_lexer": "ipython3",
   "version": "3.10.9"
  }
 },
 "nbformat": 4,
 "nbformat_minor": 5
}
