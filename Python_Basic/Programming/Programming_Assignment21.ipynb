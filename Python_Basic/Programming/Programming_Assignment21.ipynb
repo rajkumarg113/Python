{
 "cells": [
  {
   "cell_type": "markdown",
   "id": "41a58b47",
   "metadata": {},
   "source": [
    "Q1. Create a function that takes a list and a number as arguments.Add the number to the end of the list,then remove the first element of the list . The function should then return the updated list."
   ]
  },
  {
   "cell_type": "code",
   "execution_count": 2,
   "id": "7cf19eb7",
   "metadata": {},
   "outputs": [
    {
     "name": "stdout",
     "output_type": "stream",
     "text": [
      "Output : [6, 7, 8, 9, 1]\n",
      "Output : [6, 3, 23, 17, 10]\n",
      "No list has been selected\n"
     ]
    }
   ],
   "source": [
    "def update_list(l,num):\n",
    "    if len(l)>1:\n",
    "        l.append(num)\n",
    "        l.remove(l[0])\n",
    "        print(f'Output : {l}')\n",
    "    else:\n",
    "        print(\"No list has been selected\")\n",
    "update_list([5,6,7,8,9],1)\n",
    "update_list([7,6,3,23,17],10)\n",
    "update_list([],6)"
   ]
  },
  {
   "cell_type": "markdown",
   "id": "dd841e32",
   "metadata": {},
   "source": [
    "Question2\n",
    "Create the function that takes a list of dictionaries and returns the sum of people's budgets.\n"
   ]
  },
  {
   "cell_type": "code",
   "execution_count": 14,
   "id": "737ea314",
   "metadata": {},
   "outputs": [
    {
     "name": "stdout",
     "output_type": "stream",
     "text": [
      "ans: 65700\n",
      "ans: 62600\n"
     ]
    }
   ],
   "source": [
    "def get_budgets(dic):\n",
    "    sum = 0\n",
    "    for i in dic:\n",
    "        sum+=i[\"budget\"]\n",
    "    print(f\"ans: {sum}\")\n",
    "get_budgets([{\"name\":\"rajkumar\",\"age\":21,\"budget\":23000},{\"name\":\"sumit\",\"age\":32,\"budget\":40000},{\"name\":\"satendra\",\"age\":16,\n",
    "                                                                                                 \"budget\":2700}]) \n",
    "get_budgets([{\"name\":\"ashish\",\"age\":21,\"budget\":29000},{\"name\":\"ramesh\",\"age\":32,\"budget\":32000},{\"name\":\"ram\",\"age\":16,\n",
    "                                                                                          \"budget\":1600}]) "
   ]
  },
  {
   "cell_type": "code",
   "execution_count": null,
   "id": "05a546d7",
   "metadata": {},
   "outputs": [],
   "source": []
  },
  {
   "cell_type": "markdown",
   "id": "19a49122",
   "metadata": {},
   "source": [
    "Question3\n",
    "Create a function that takes a string and returns a string with its letters in alphabetical order."
   ]
  },
  {
   "cell_type": "code",
   "execution_count": 13,
   "id": "2f961396",
   "metadata": {},
   "outputs": [
    {
     "name": "stdout",
     "output_type": "stream",
     "text": [
      "ans : ehllo\n",
      "ans : abdeit\n",
      "ans : acehkr\n",
      "ans : eegk\n",
      "ans : aacijprstv\n"
     ]
    }
   ],
   "source": [
    "def alphabet_order(string):\n",
    "    res= ''.join(sorted(string))\n",
    "    print(f\"ans : {res}\")\n",
    "alphabet_order(\"hello\")\n",
    "alphabet_order(\"edabit\")\n",
    "alphabet_order(\"hacker\") \n",
    "alphabet_order(\"geek\") \n",
    "alphabet_order(\"javascript\")"
   ]
  },
  {
   "cell_type": "code",
   "execution_count": null,
   "id": "6a2f51ef",
   "metadata": {},
   "outputs": [],
   "source": []
  },
  {
   "cell_type": "markdown",
   "id": "656aa20d",
   "metadata": {},
   "source": [
    "Question4\n",
    "Suppose that you invest $10,000 for 10 years at an interest rate of 6% compounded monthly. What will be the value of your investment at the end of the 10 year period?\n",
    "Create a function that accepts the principal p, the term in years t, the interest rate r, and the number of compounding periods per year n. The function returns the value at the end of term rounded to the nearest cent.\n"
   ]
  },
  {
   "cell_type": "code",
   "execution_count": 10,
   "id": "61bc88bb",
   "metadata": {},
   "outputs": [
    {
     "name": "stdout",
     "output_type": "stream",
     "text": [
      "ans=  105.0\n",
      "ans=  15399.264120852586\n",
      "ans=  2007316.2632325366\n"
     ]
    }
   ],
   "source": [
    "def compound_interest(p,t,r,n):\n",
    "    ci = p*(1+(r/n))**(n*t)\n",
    "    print(\"ans= \",ci)\n",
    "compound_interest(100,1,0.05,1) \n",
    "compound_interest(3500,15,0.1,4) \n",
    "compound_interest(100000,20,0.15,365) "
   ]
  },
  {
   "cell_type": "code",
   "execution_count": null,
   "id": "8bd33964",
   "metadata": {},
   "outputs": [],
   "source": []
  },
  {
   "cell_type": "markdown",
   "id": "2fffa2c5",
   "metadata": {},
   "source": [
    "Question5\n",
    "Write a function that takes a list of elements and returns only the integers."
   ]
  },
  {
   "cell_type": "code",
   "execution_count": 15,
   "id": "96cba19e",
   "metadata": {},
   "outputs": [
    {
     "name": "stdout",
     "output_type": "stream",
     "text": [
      "ans : [9, 2, 16]\n",
      "ans : [81, 123]\n",
      "ans : [1]\n"
     ]
    }
   ],
   "source": [
    "def return_integer(l):\n",
    "    res = []\n",
    "    for i in l:\n",
    "        if type(i)==int:\n",
    "            res.append(i)\n",
    "    print(f\"ans : {res}\")\n",
    "return_integer([9,2,\"space\",\"car\",\"lion\",16]) \n",
    "return_integer([\"hello\",81,\"basketball\",123,\"fox\"]) \n",
    "return_integer([\"Strings\",True,3.3,1])"
   ]
  },
  {
   "cell_type": "code",
   "execution_count": null,
   "id": "ff368a4d",
   "metadata": {},
   "outputs": [],
   "source": []
  },
  {
   "cell_type": "code",
   "execution_count": null,
   "id": "b6e57b68",
   "metadata": {},
   "outputs": [],
   "source": []
  },
  {
   "cell_type": "code",
   "execution_count": null,
   "id": "24296550",
   "metadata": {},
   "outputs": [],
   "source": []
  }
 ],
 "metadata": {
  "kernelspec": {
   "display_name": "Python 3 (ipykernel)",
   "language": "python",
   "name": "python3"
  },
  "language_info": {
   "codemirror_mode": {
    "name": "ipython",
    "version": 3
   },
   "file_extension": ".py",
   "mimetype": "text/x-python",
   "name": "python",
   "nbconvert_exporter": "python",
   "pygments_lexer": "ipython3",
   "version": "3.10.9"
  }
 },
 "nbformat": 4,
 "nbformat_minor": 5
}
