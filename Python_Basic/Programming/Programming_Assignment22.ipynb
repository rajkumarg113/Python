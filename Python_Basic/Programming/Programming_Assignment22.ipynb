{
 "cells": [
  {
   "cell_type": "markdown",
   "id": "364440d9",
   "metadata": {},
   "source": [
    "Question1\n",
    "Create a function that takes three parameters where:\n",
    "x is the start of the range (inclusive).\n",
    "y is the end of the range (inclusive).\n",
    "n is the divisor to be checked against.\n",
    "Return an ordered list with numbers in the range that are divisible by the third parameter n. Return an empty list if there are no numbers that are divisible by n.\n"
   ]
  },
  {
   "cell_type": "code",
   "execution_count": 1,
   "id": "f9075ebd",
   "metadata": {},
   "outputs": [
    {
     "name": "stdout",
     "output_type": "stream",
     "text": [
      "[3, 6, 9]\n",
      "[8]\n",
      "[]\n"
     ]
    }
   ],
   "source": [
    "def list_operation(start,end,divisor):\n",
    "    res = []\n",
    "    for i in range(start,end+1):\n",
    "        if i%divisor == 0:\n",
    "            res.append(i)\n",
    "    print(f\"{res}\")\n",
    "list_operation(1,10,3)\n",
    "list_operation(7,9,2)\n",
    "list_operation(15,20,7)"
   ]
  },
  {
   "cell_type": "markdown",
   "id": "8e62ee62",
   "metadata": {},
   "source": [
    "Question2\n",
    "Create a function that takes in two lists and returns True if the second list follows the first list by one element, and False otherwise. In other words, determine if the second list is the first list shifted to the right by 1.\n"
   ]
  },
  {
   "cell_type": "code",
   "execution_count": 2,
   "id": "240d9488",
   "metadata": {},
   "outputs": [
    {
     "name": "stdout",
     "output_type": "stream",
     "text": [
      "([1, 2], [5, 1]): True\n",
      "([1, 2], [5, 5]) : False\n",
      "([1, 2, 3, 4, 5], [0, 1, 2, 3, 4]): True\n",
      "([1, 2, 3, 4, 5], [5, 5, 1, 2, 3]) : False\n"
     ]
    }
   ],
   "source": [
    "def comp_list(list1,list2):\n",
    "    if len(list1) == len(list2) and len(list1)>=2 and len(list2)>=2:\n",
    "        if list1[:-1] == list2[1:]:\n",
    "            print(f\"{list1,list2}: {True}\")\n",
    "        else:\n",
    "            print(f\"{list1,list2} : {False}\")\n",
    "comp_list([1,2],[5,1])\n",
    "comp_list([1,2],[5,5])\n",
    "comp_list([1,2,3,4,5],[0,1,2,3,4])\n",
    "comp_list([1,2,3,4,5],[5,5,1,2,3]) "
   ]
  },
  {
   "cell_type": "markdown",
   "id": "9fffba5b",
   "metadata": {},
   "source": [
    "Question3\n",
    "A group of friends have decided to start a secret society. The name will be the first letter of each of their names, sorted in alphabetical order.\n",
    "Create a function that takes in a list of names and returns the name of the secret society.\n"
   ]
  },
  {
   "cell_type": "code",
   "execution_count": 6,
   "id": "02b8e559",
   "metadata": {},
   "outputs": [
    {
     "name": "stdout",
     "output_type": "stream",
     "text": [
      "['Adam', 'Sarah', 'Malcolm'] : AMS\n",
      "['Harry', 'Newt', 'Luna', 'Cho'] : CHLN\n",
      "['Phoebe', 'Chandler', 'Rachel', 'Ross', 'Monica', 'Joey'] : CJMPRR\n"
     ]
    }
   ],
   "source": [
    "def society_name(listt):\n",
    "    res = []\n",
    "    for  i in listt:\n",
    "        res.append(i[0])\n",
    "    ans = \"\".join(sorted(res))\n",
    "    \n",
    "    print(f\"{listt} : {ans}\")\n",
    "\n",
    "society_name([\"Adam\",\"Sarah\",\"Malcolm\"]) \n",
    "society_name([\"Harry\",\"Newt\",\"Luna\",\"Cho\"]) \n",
    "society_name([\"Phoebe\",\"Chandler\",\"Rachel\",\"Ross\",\"Monica\",\"Joey\"])"
   ]
  },
  {
   "cell_type": "markdown",
   "id": "64da455e",
   "metadata": {},
   "source": [
    "Question4\n",
    "An isogram is a word that has no duplicate letters. Create a function that takes a string and returns either True or False depending on whether or not it's an \"isogram\".\n"
   ]
  },
  {
   "cell_type": "code",
   "execution_count": 7,
   "id": "908d91c4",
   "metadata": {},
   "outputs": [
    {
     "name": "stdout",
     "output_type": "stream",
     "text": [
      "Algorism : True\n",
      "PasSword : False\n",
      "Consecutive : False\n"
     ]
    }
   ],
   "source": [
    "def is_isogram(string):\n",
    "    lower_str = string.lower()\n",
    "    if len(lower_str) == len(set(lower_str)):\n",
    "        print(f\"{string} : {True}\")\n",
    "    else:\n",
    "        print(f\"{string} : {False}\")\n",
    "is_isogram(\"Algorism\")\n",
    "is_isogram(\"PasSword\")\n",
    "is_isogram('Consecutive')"
   ]
  },
  {
   "cell_type": "markdown",
   "id": "22f23510",
   "metadata": {},
   "source": [
    "Question5\n",
    "Create a function that takes a string and returns True or False, depending on whether the characters are in order or not.\n"
   ]
  },
  {
   "cell_type": "code",
   "execution_count": null,
   "id": "41289291",
   "metadata": {},
   "outputs": [],
   "source": []
  },
  {
   "cell_type": "code",
   "execution_count": null,
   "id": "a9c0bec3",
   "metadata": {},
   "outputs": [],
   "source": []
  },
  {
   "cell_type": "code",
   "execution_count": null,
   "id": "b179eb25",
   "metadata": {},
   "outputs": [],
   "source": []
  },
  {
   "cell_type": "code",
   "execution_count": null,
   "id": "210ba28c",
   "metadata": {},
   "outputs": [],
   "source": []
  },
  {
   "cell_type": "code",
   "execution_count": null,
   "id": "93faf8a9",
   "metadata": {},
   "outputs": [],
   "source": []
  },
  {
   "cell_type": "code",
   "execution_count": null,
   "id": "b0c3f19e",
   "metadata": {},
   "outputs": [],
   "source": []
  }
 ],
 "metadata": {
  "kernelspec": {
   "display_name": "Python 3 (ipykernel)",
   "language": "python",
   "name": "python3"
  },
  "language_info": {
   "codemirror_mode": {
    "name": "ipython",
    "version": 3
   },
   "file_extension": ".py",
   "mimetype": "text/x-python",
   "name": "python",
   "nbconvert_exporter": "python",
   "pygments_lexer": "ipython3",
   "version": "3.10.9"
  }
 },
 "nbformat": 4,
 "nbformat_minor": 5
}
