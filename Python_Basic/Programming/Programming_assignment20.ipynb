{
 "cells": [
  {
   "cell_type": "markdown",
   "id": "75239548",
   "metadata": {},
   "source": [
    "Question1\n",
    "Create a function that takes a list of strings and integers, and filters out the list so that it returns a list of integers only."
   ]
  },
  {
   "cell_type": "code",
   "execution_count": 4,
   "id": "61095ea0",
   "metadata": {},
   "outputs": [
    {
     "name": "stdout",
     "output_type": "stream",
     "text": [
      "output:  [23, 3, 34]\n",
      "output:  [1952, 1262562]\n",
      "output:  []\n"
     ]
    }
   ],
   "source": [
    "def filter_list(l):\n",
    "    res = []\n",
    "    for i in l:\n",
    "        if type(i)==int:\n",
    "            res.append(i)\n",
    "    print(\"output: \",res)\n",
    "filter_list([23,\"rajkumar\",3,\"a\",34])\n",
    "filter_list([\"raj\",\"guptat\",1952,\"Python\",1262562])\n",
    "filter_list([\"only\",\"string\"])"
   ]
  },
  {
   "cell_type": "markdown",
   "id": "531d730b",
   "metadata": {},
   "source": [
    "Question2\n",
    "Given a list of numbers, create a function which returns the list but with each element's index in the list added to itself. This means you add 0 to the number at index 0, add 1 to the number at index 1, etc..."
   ]
  },
  {
   "cell_type": "code",
   "execution_count": 6,
   "id": "abc65fbc",
   "metadata": {},
   "outputs": [
    {
     "name": "stdout",
     "output_type": "stream",
     "text": [
      "output:  [0, 1, 2]\n",
      "output:  [1, 23, 36, 7, 9]\n",
      "output:  [521, 25, 45, 5, 14]\n"
     ]
    }
   ],
   "source": [
    "def add_indexes(l):\n",
    "    res= []\n",
    "    for i in range(len(l)):\n",
    "        res.append(i+l[i])\n",
    "    print(\"output: \",res)\n",
    "add_indexes([0,0,0])\n",
    "add_indexes([1,22,34,4,5])\n",
    "add_indexes([521,24,43,2,10])"
   ]
  },
  {
   "cell_type": "markdown",
   "id": "59bdbf1c",
   "metadata": {},
   "source": [
    "Question3\n",
    "Create a function that takes the height and radius of a cone as arguments and returns the volume of the cone rounded to the nearest hundredth. See the resources tab for the formula.\n"
   ]
  },
  {
   "cell_type": "code",
   "execution_count": 8,
   "id": "61085f89",
   "metadata": {},
   "outputs": [
    {
     "name": "stdout",
     "output_type": "stream",
     "text": [
      "5.235987755982989\n",
      "188.4955592153876\n",
      "872.3155601467658\n"
     ]
    }
   ],
   "source": [
    "import math\n",
    "def cone_volume(h,r):\n",
    "    res = ((math.pi)*(r**2)*(h/3))\n",
    "    print(res)\n",
    "cone_volume(5,1)\n",
    "cone_volume(5,6)\n",
    "cone_volume(17,7)"
   ]
  },
  {
   "cell_type": "markdown",
   "id": "6313f05c",
   "metadata": {},
   "source": [
    "Question4\n",
    "This Triangular Number Sequence is generated from a pattern of dots that form a triangle. The first 5 numbers of the sequence, or dots, are: \n",
    "1, 3, 6, 10, 15\n",
    "This means that the first triangle has just one dot, the second one has three dots, the third one has 6 dots and so on.\n",
    "Write a function that gives the number of dots with its corresponding triangle number of the sequence."
   ]
  },
  {
   "cell_type": "code",
   "execution_count": 10,
   "id": "322ace43",
   "metadata": {},
   "outputs": [
    {
     "name": "stdout",
     "output_type": "stream",
     "text": [
      "1\n",
      "21\n",
      "23220\n"
     ]
    }
   ],
   "source": [
    "def triangle(num):\n",
    "    print(int(((num)*(num+1))/2))\n",
    "triangle(1)\n",
    "triangle(6)\n",
    "triangle(215)"
   ]
  },
  {
   "cell_type": "markdown",
   "id": "3fd4837d",
   "metadata": {},
   "source": [
    "Question5\n",
    "Create a function that takes a list of numbers between 1 and 10 (excluding one number) and returns the missing number.\n"
   ]
  },
  {
   "cell_type": "code",
   "execution_count": 14,
   "id": "28f7135a",
   "metadata": {},
   "outputs": [
    {
     "name": "stdout",
     "output_type": "stream",
     "text": [
      "[1, 2, 3, 5, 6, 7, 8, 9, 10] ----->  4\n",
      "[4, 2, 3, 7, 5, 9, 1, 4, 8] ----->  6\n",
      "[4, 2, 3, 7, 5, 9, 1, 4, 8] ----->  10\n",
      "[10, 5, 1, 2, 4, 6, 8, 3, 9] ----->  7\n"
     ]
    }
   ],
   "source": [
    "def missing_num(l):\n",
    "    for i in range(1,11):\n",
    "        if i not in l:\n",
    "            print(l,\"-----> \",i)\n",
    "\n",
    "missing_num([1,2,3,5,6,7,8,9,10])\n",
    "missing_num([4,2,3,7,5,9,1,4,8])\n",
    "missing_num([10,5,1,2,4,6,8,3,9])"
   ]
  },
  {
   "cell_type": "code",
   "execution_count": null,
   "id": "a584a7fd",
   "metadata": {},
   "outputs": [],
   "source": []
  },
  {
   "cell_type": "code",
   "execution_count": null,
   "id": "f0844fff",
   "metadata": {},
   "outputs": [],
   "source": []
  },
  {
   "cell_type": "code",
   "execution_count": null,
   "id": "5e0cf133",
   "metadata": {},
   "outputs": [],
   "source": []
  }
 ],
 "metadata": {
  "kernelspec": {
   "display_name": "Python 3 (ipykernel)",
   "language": "python",
   "name": "python3"
  },
  "language_info": {
   "codemirror_mode": {
    "name": "ipython",
    "version": 3
   },
   "file_extension": ".py",
   "mimetype": "text/x-python",
   "name": "python",
   "nbconvert_exporter": "python",
   "pygments_lexer": "ipython3",
   "version": "3.10.9"
  }
 },
 "nbformat": 4,
 "nbformat_minor": 5
}
