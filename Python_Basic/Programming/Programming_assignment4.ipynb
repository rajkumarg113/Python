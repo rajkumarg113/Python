{
 "cells": [
  {
   "cell_type": "code",
   "execution_count": 1,
   "id": "70615661",
   "metadata": {},
   "outputs": [
    {
     "name": "stdout",
     "output_type": "stream",
     "text": [
      "Enter number to get table:12\n",
      "12  *  1 = 12\n",
      "12  *  2 = 24\n",
      "12  *  3 = 36\n",
      "12  *  4 = 48\n",
      "12  *  5 = 60\n",
      "12  *  6 = 72\n",
      "12  *  7 = 84\n",
      "12  *  8 = 96\n",
      "12  *  9 = 108\n",
      "12  *  10 = 120\n"
     ]
    }
   ],
   "source": [
    "#Q1.Write a Python Program to Display the multiplication Table?\n",
    "num=int(input(\"Enter number to get table:\"))\n",
    "i=1;\n",
    "while(i<11):\n",
    "    print(num,\" * \",i,\"=\",num*i)\n",
    "    i=i+1\n",
    "    "
   ]
  },
  {
   "cell_type": "code",
   "execution_count": 10,
   "id": "e498d679",
   "metadata": {},
   "outputs": [
    {
     "name": "stdout",
     "output_type": "stream",
     "text": [
      "Enter number upto u want fibonacci sequence:22\n",
      "0  \n",
      "0  \n",
      "1  \n",
      "1  \n",
      "2  \n",
      "3  \n",
      "5  \n",
      "8  \n",
      "13  \n",
      "21  \n"
     ]
    }
   ],
   "source": [
    "#Q2.Write a Python Program to Print the Fibonacci sequence?\n",
    "num=int(input(\"Enter number upto u want fibonacci sequence:\"))\n",
    "f1=-1\n",
    "f2=1\n",
    "f3=f1+f2\n",
    "while(f3<=num):\n",
    "    print(f3,\" \")\n",
    "    f3=f1+f2\n",
    "    f1=f2\n",
    "    f2=f3\n",
    "   "
   ]
  },
  {
   "cell_type": "code",
   "execution_count": 18,
   "id": "834052a1",
   "metadata": {},
   "outputs": [
    {
     "name": "stdout",
     "output_type": "stream",
     "text": [
      "Enter number:153\n",
      "Armstrong\n"
     ]
    }
   ],
   "source": [
    "#Q3.Write a Python Program to Check Armstrong Number?\n",
    "num=int(input(\"Enter number:\"))\n",
    "no=num\n",
    "total=0\n",
    "while(num):\n",
    "    rem=num%10\n",
    "    total+=(rem*rem*rem)\n",
    "    num=num//10\n",
    "if(total==no):\n",
    "    print(\"Armstrong\")\n",
    "else:\n",
    "    print(\"Not a Armstrong\")"
   ]
  },
  {
   "cell_type": "code",
   "execution_count": 25,
   "id": "9760004d",
   "metadata": {},
   "outputs": [
    {
     "name": "stdout",
     "output_type": "stream",
     "text": [
      "Enter start interval:1\n",
      "Enter end interval:200\n",
      "1\n",
      "153\n"
     ]
    }
   ],
   "source": [
    "#Q4.Write a Python Program to Find Armstrong Number in an Interval?\n",
    "start=int(input(\"Enter start interval:\"))\n",
    "end=int(input(\"Enter end interval:\"))\n",
    "for start in range(start,end):\n",
    "    no=start\n",
    "    total=0\n",
    "    while(start):\n",
    "        rem=start%10\n",
    "        total+=(rem**3)\n",
    "        start=start//10\n",
    "    if(total==no):\n",
    "        print(no)\n",
    "    else:\n",
    "        pass\n",
    "    "
   ]
  },
  {
   "cell_type": "code",
   "execution_count": 23,
   "id": "554bab8f",
   "metadata": {},
   "outputs": [
    {
     "name": "stdout",
     "output_type": "stream",
     "text": [
      "upto which number u want sum:5\n",
      "sum is  15\n"
     ]
    }
   ],
   "source": [
    "#Q5.Write a Python Program to Find the Sum of Natural Numbers?\n",
    "num=int(input(\"upto which number u want sum:\"))\n",
    "sum=0\n",
    "i=1\n",
    "while(i<=num):\n",
    "    sum=sum+i\n",
    "    i+=1\n",
    "print(\"sum is \",sum)"
   ]
  },
  {
   "cell_type": "code",
   "execution_count": null,
   "id": "784b5b2c",
   "metadata": {},
   "outputs": [],
   "source": []
  }
 ],
 "metadata": {
  "kernelspec": {
   "display_name": "Python 3 (ipykernel)",
   "language": "python",
   "name": "python3"
  },
  "language_info": {
   "codemirror_mode": {
    "name": "ipython",
    "version": 3
   },
   "file_extension": ".py",
   "mimetype": "text/x-python",
   "name": "python",
   "nbconvert_exporter": "python",
   "pygments_lexer": "ipython3",
   "version": "3.9.12"
  }
 },
 "nbformat": 4,
 "nbformat_minor": 5
}
