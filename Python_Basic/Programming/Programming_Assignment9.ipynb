{
 "cells": [
  {
   "cell_type": "markdown",
   "id": "39368ce8",
   "metadata": {},
   "source": [
    "# Write a Python program to check if the given number is a Disarium Number?\n"
   ]
  },
  {
   "cell_type": "code",
   "execution_count": 50,
   "id": "06ffec88",
   "metadata": {},
   "outputs": [
    {
     "name": "stdout",
     "output_type": "stream",
     "text": [
      "enter number to check disarium: 89\n",
      "Disarium\n"
     ]
    }
   ],
   "source": [
    "def disarium_check(n):\n",
    "    count=0\n",
    "    number=n\n",
    "    while(number):\n",
    "        number//=10\n",
    "        count+=1\n",
    "    total=0\n",
    "    num=n\n",
    "    while(num>0):\n",
    "        rem=num%10\n",
    "        total=total+rem**count\n",
    "        count-=1\n",
    "        num=num//10\n",
    "    if(total==n):\n",
    "        return \"Disarium\"\n",
    "    else:\n",
    "        return \"Not Disarium\"\n",
    "n=int(input(\"enter number to check disarium: \"))\n",
    "print(disarium_check(n))\n",
    "    "
   ]
  },
  {
   "cell_type": "markdown",
   "id": "29f2a782",
   "metadata": {},
   "source": [
    "# Write a Python program to print all disarium numbers between 1 to 100?"
   ]
  },
  {
   "cell_type": "code",
   "execution_count": 25,
   "id": "9a75e027",
   "metadata": {},
   "outputs": [
    {
     "name": "stdout",
     "output_type": "stream",
     "text": [
      "1\n",
      "2\n",
      "3\n",
      "4\n",
      "5\n",
      "6\n",
      "7\n",
      "8\n",
      "9\n",
      "89\n"
     ]
    }
   ],
   "source": [
    "def disarium_check(n):\n",
    "    \"\"\"this is my function which check will disarium number and return boolean \"\"\"\n",
    "    count=0\n",
    "    number=n\n",
    "    while(number):\n",
    "        number//=10\n",
    "        count+=1\n",
    "    total=0\n",
    "    num=n\n",
    "    while(num>0):\n",
    "        rem=num%10\n",
    "        total=total+rem**count\n",
    "        count-=1\n",
    "        num=num//10\n",
    "    if(total==n):\n",
    "        return True\n",
    "    else:\n",
    "        return False\n",
    "for i in range(1,101):\n",
    "    if(disarium_check(i)):\n",
    "        print(i)\n"
   ]
  },
  {
   "cell_type": "markdown",
   "id": "09c2eea0",
   "metadata": {},
   "source": [
    "# Write a Python program to check if the given number is Happy Number?"
   ]
  },
  {
   "cell_type": "code",
   "execution_count": 45,
   "id": "29b9e71b",
   "metadata": {},
   "outputs": [
    {
     "name": "stdout",
     "output_type": "stream",
     "text": [
      "Enter number to check happy number: 82\n",
      "82 is a happy number\n"
     ]
    }
   ],
   "source": [
    "def isHappyNumber(num):    \n",
    "    rem = sum = 0;        \n",
    "    while(num > 0):    \n",
    "        rem = num%10   \n",
    "        sum = sum + (rem*rem)   \n",
    "        num = num//10  \n",
    "    return sum; \n",
    "\n",
    "\n",
    "num=int(input(\"Enter number to check happy number: \"))\n",
    "result = num;    \n",
    "while(result != 1 and result != 4):    \n",
    "    result = isHappyNumber(result)      \n",
    "if(result == 1):    \n",
    "    print(str(num) + \" is a happy number\")       \n",
    "elif(result == 4):    \n",
    "    print(str(num) + \" is not a happy number\") \n",
    "\n"
   ]
  },
  {
   "cell_type": "markdown",
   "id": "c06f834d",
   "metadata": {},
   "source": [
    "# Write a Python program to print all happy numbers between 1 and 100?"
   ]
  },
  {
   "cell_type": "code",
   "execution_count": 47,
   "id": "d4532989",
   "metadata": {},
   "outputs": [
    {
     "name": "stdout",
     "output_type": "stream",
     "text": [
      "1\n",
      "7\n",
      "10\n",
      "13\n",
      "19\n",
      "23\n",
      "28\n",
      "31\n",
      "32\n",
      "44\n",
      "49\n",
      "68\n",
      "70\n",
      "79\n",
      "82\n",
      "86\n",
      "91\n",
      "94\n",
      "97\n",
      "100\n"
     ]
    }
   ],
   "source": [
    "for num in range(1,101):\n",
    "    result = num;    \n",
    "    while(result != 1 and result != 4):    \n",
    "        result = isHappyNumber(result)      \n",
    "    if(result == 1):    \n",
    "        print(num);     "
   ]
  },
  {
   "cell_type": "code",
   "execution_count": null,
   "id": "efc5dee0",
   "metadata": {},
   "outputs": [],
   "source": []
  },
  {
   "cell_type": "markdown",
   "id": "91985168",
   "metadata": {},
   "source": [
    "# Write a Python program to determine whether the given number is a Harshad Number?"
   ]
  },
  {
   "cell_type": "code",
   "execution_count": 32,
   "id": "7e116d2e",
   "metadata": {},
   "outputs": [
    {
     "name": "stdout",
     "output_type": "stream",
     "text": [
      "Enter number to check wheather it is harshad or not : 156\n",
      "Harshad Number\n"
     ]
    }
   ],
   "source": [
    "def check_harshad(n):\n",
    "    num=n\n",
    "    sum_num=0\n",
    "    while(num):\n",
    "        sum_num+=num%10\n",
    "        num//=10\n",
    "    if(n%sum_num==0):\n",
    "        return True\n",
    "    return False\n",
    "n=int(input(\"Enter number to check wheather it is harshad or not : \"))\n",
    "if(check_harshad(n)):\n",
    "    print(\"Harshad Number\")\n",
    "else:\n",
    "    print(\"Not Harshad Number\")"
   ]
  },
  {
   "cell_type": "markdown",
   "id": "7869f3b9",
   "metadata": {},
   "source": [
    "# Write a Python program to print all pronic numbers between 1 and 100?"
   ]
  },
  {
   "cell_type": "code",
   "execution_count": 37,
   "id": "b52e307d",
   "metadata": {},
   "outputs": [
    {
     "name": "stdout",
     "output_type": "stream",
     "text": [
      "2\n",
      "6\n",
      "12\n",
      "20\n",
      "30\n",
      "42\n",
      "56\n",
      "72\n",
      "90\n"
     ]
    }
   ],
   "source": [
    "def isPronicNumber(num):    \n",
    "    for i in range(1, num+1):        \n",
    "        if((i*(i+1)) == num):    \n",
    "            return True\n",
    "    return False; \n",
    "for i in range(1, 101):    \n",
    "    if(isPronicNumber(i)):    \n",
    "        print(i)"
   ]
  }
 ],
 "metadata": {
  "kernelspec": {
   "display_name": "Python 3 (ipykernel)",
   "language": "python",
   "name": "python3"
  },
  "language_info": {
   "codemirror_mode": {
    "name": "ipython",
    "version": 3
   },
   "file_extension": ".py",
   "mimetype": "text/x-python",
   "name": "python",
   "nbconvert_exporter": "python",
   "pygments_lexer": "ipython3",
   "version": "3.9.12"
  }
 },
 "nbformat": 4,
 "nbformat_minor": 5
}
