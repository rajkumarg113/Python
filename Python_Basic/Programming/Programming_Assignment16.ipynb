{
 "cells": [
  {
   "cell_type": "markdown",
   "id": "9997b795",
   "metadata": {},
   "source": [
    "Q1.Question1. Write a function that stutters a word as if someone is struggling to read it. The first two letters are repeated twice with an ellipsis ... and space after each, and then the word is pronounced with a question mark ?."
   ]
  },
  {
   "cell_type": "code",
   "execution_count": 2,
   "id": "bd11c724",
   "metadata": {},
   "outputs": [
    {
     "name": "stdout",
     "output_type": "stream",
     "text": [
      "Enter  the word: hjggghgv\n",
      "hj....hj....hjggghgv?\n"
     ]
    }
   ],
   "source": [
    "class word :\n",
    "    def slutter_word(self,in_string):\n",
    "        self.in_string = in_string\n",
    "        in_string = input(\"Enter  the word: \")\n",
    "        out_string = in_string.replace(in_string[0:2],((in_string[0:2]+'....')*2) + in_string[0:2]) + '?'\n",
    "        print(out_string)\n",
    "    \n",
    "obj = word()\n",
    "obj.slutter_word('incredible')"
   ]
  },
  {
   "cell_type": "markdown",
   "id": "b9afb30e",
   "metadata": {},
   "source": [
    "Q2.Question 2.Create a function that takes an angle in radians and returns the corresponding angle in degrees rounded to one decimal place."
   ]
  },
  {
   "cell_type": "code",
   "execution_count": 4,
   "id": "0441c726",
   "metadata": {},
   "outputs": [
    {
     "name": "stdout",
     "output_type": "stream",
     "text": [
      "Enter the number in radian: 65\n",
      "3724.225668350351\n",
      "Enter the number in radian: 8887\n",
      "509187.5925327626\n",
      "Enter the number in radian: 1\n",
      "57.29577951308232\n",
      "Enter the number in radian: 7\n",
      "401.07045659157626\n",
      "Enter the number in radian: 9\n",
      "515.662015617741\n"
     ]
    }
   ],
   "source": [
    "import math\n",
    "def radTodeg():\n",
    "    in_num = int(input(\"Enter the number in radian: \"))\n",
    "    out_num = (180/math.pi)*in_num\n",
    "    print(out_num)\n",
    "for x in range(5):\n",
    "    radTodeg()"
   ]
  },
  {
   "cell_type": "markdown",
   "id": "92f5a8be",
   "metadata": {},
   "source": [
    "Q3.Question 3. In this challenge, establish if a given integer num is a Curzon number. If 1 plus 2 elevated to num is exactly divisible by 1 plus 2 multiplied by num, then num is a Curzon number."
   ]
  },
  {
   "cell_type": "code",
   "execution_count": 5,
   "id": "e6e81f43",
   "metadata": {},
   "outputs": [
    {
     "name": "stdout",
     "output_type": "stream",
     "text": [
      "Enter the number: 5\n",
      "True\n",
      "Enter the number: 10\n",
      "False\n",
      "Enter the number: 23\n",
      "False\n"
     ]
    }
   ],
   "source": [
    "def isCurzon():\n",
    "    in_num = int(input(\"Enter the number: \"))\n",
    "    if ((2**in_num)+1)%((2*in_num)+1) == 0:\n",
    "        print(True)\n",
    "    else:\n",
    "        print(False)\n",
    "for i in range(3):\n",
    "    isCurzon()"
   ]
  },
  {
   "cell_type": "markdown",
   "id": "c2c8fa7e",
   "metadata": {},
   "source": [
    "Q4.Given the side length x find the area of a hexagon."
   ]
  },
  {
   "cell_type": "code",
   "execution_count": 6,
   "id": "f14440da",
   "metadata": {},
   "outputs": [
    {
     "name": "stdout",
     "output_type": "stream",
     "text": [
      "Enter the side length x: 3\n",
      "23.382685902179844\n",
      "Enter the side length x: 4\n",
      "41.569219381653056\n",
      "Enter the side length x: 5\n",
      "64.9519052838329\n"
     ]
    }
   ],
   "source": [
    "import  math\n",
    "def areaHex():\n",
    "    num = int(input(\"Enter the side length x: \"))\n",
    "    area = ((3*math.sqrt(3)/2)*(num**2))\n",
    "    print(area)\n",
    "for i in range(3):\n",
    "    areaHex()"
   ]
  },
  {
   "cell_type": "markdown",
   "id": "67ea2f73",
   "metadata": {},
   "source": [
    "Q5.Question 5. Create a function that returns a base-2 (binary) representation of a base-10 (decimal) string number. To convert is simple: ((2) means base-2 and (10) means base-10) 010101001(2) = 1 + 8 + 32 + 128."
   ]
  },
  {
   "cell_type": "code",
   "execution_count": null,
   "id": "2d231afe",
   "metadata": {},
   "outputs": [],
   "source": [
    "def binary():\n",
    "    in_num = int(input(\"enter the number: \"))\n",
    "    out_num = bin(in_num).replace('0b',' ')\n",
    "    print('Binary number is: ',out_num)\n",
    "for x in range(3):\n",
    "    binary()"
   ]
  }
 ],
 "metadata": {
  "kernelspec": {
   "display_name": "Python 3 (ipykernel)",
   "language": "python",
   "name": "python3"
  },
  "language_info": {
   "codemirror_mode": {
    "name": "ipython",
    "version": 3
   },
   "file_extension": ".py",
   "mimetype": "text/x-python",
   "name": "python",
   "nbconvert_exporter": "python",
   "pygments_lexer": "ipython3",
   "version": "3.10.9"
  }
 },
 "nbformat": 4,
 "nbformat_minor": 5
}
