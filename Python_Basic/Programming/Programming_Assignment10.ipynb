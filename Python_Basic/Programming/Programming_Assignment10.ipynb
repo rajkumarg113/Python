{
 "cells": [
  {
   "cell_type": "markdown",
   "id": "f8d3220a",
   "metadata": {},
   "source": [
    "# Q1.Write a Python program to find sum of elements in list?"
   ]
  },
  {
   "cell_type": "code",
   "execution_count": 3,
   "id": "76c13723",
   "metadata": {},
   "outputs": [
    {
     "name": "stdout",
     "output_type": "stream",
     "text": [
      "enter no of element in your list: 4\n",
      "75\n",
      "14\n",
      "56\n",
      "12\n",
      "total sum is  157\n"
     ]
    }
   ],
   "source": [
    "def sumof_list(l):\n",
    "    total_sum=0\n",
    "    for i in range(len(l)):\n",
    "        total_sum+=l[i]\n",
    "    return total_sum\n",
    "n=int(input(\"enter no of element in your list: \"))\n",
    "l=[]\n",
    "for i in range(n):\n",
    "    l.append(int(input()))\n",
    "print(\"total sum is \", sumof_list(l))"
   ]
  },
  {
   "cell_type": "markdown",
   "id": "e21578ec",
   "metadata": {},
   "source": [
    "# Q2.Write a Python program to  Multiply all numbers in the list?\n"
   ]
  },
  {
   "cell_type": "code",
   "execution_count": 7,
   "id": "2ef5ac2e",
   "metadata": {},
   "outputs": [
    {
     "name": "stdout",
     "output_type": "stream",
     "text": [
      "enter no of element in your list: 4\n",
      "10\n",
      "7\n",
      "5\n",
      "8\n",
      "total product of element is  2800\n"
     ]
    }
   ],
   "source": [
    "def multiply_list(l):\n",
    "    total_multiply=1\n",
    "    for i in range(len(l)):\n",
    "        total_multiply*=l[i]\n",
    "    return total_multiply\n",
    "n=int(input(\"enter no of element in your list: \"))\n",
    "l=[]\n",
    "for i in range(n):\n",
    "    l.append(int(input()))\n",
    "print(\"total product of element is \", multiply_list(l))"
   ]
  },
  {
   "cell_type": "markdown",
   "id": "d26c6d83",
   "metadata": {},
   "source": [
    "# Q3.Write a Python program to find smallest number in a list?"
   ]
  },
  {
   "cell_type": "code",
   "execution_count": 13,
   "id": "b5f0a761",
   "metadata": {},
   "outputs": [
    {
     "name": "stdout",
     "output_type": "stream",
     "text": [
      "enter no of element in your list: 4\n",
      "1\n",
      "45\n",
      "7\n",
      "8\n",
      "minimum element of list is  1\n"
     ]
    }
   ],
   "source": [
    "import sys\n",
    "def minvalue_list(l):\n",
    "    minvalue=sys.maxsize\n",
    "    for i in range(len(l)):\n",
    "        if(minvalue>l[i]):\n",
    "            minvalue=l[i]\n",
    "    return minvalue\n",
    "n=int(input(\"enter no of element in your list: \"))\n",
    "l=[]\n",
    "for i in range(n):\n",
    "    l.append(int(input()))\n",
    "print(\"minimum element of list is \", minvalue_list(l))"
   ]
  },
  {
   "cell_type": "markdown",
   "id": "7557769f",
   "metadata": {},
   "source": [
    "# Q4.Write a Python program to find largest number in a list?"
   ]
  },
  {
   "cell_type": "code",
   "execution_count": 15,
   "id": "0c705e73",
   "metadata": {},
   "outputs": [
    {
     "name": "stdout",
     "output_type": "stream",
     "text": [
      "enter no of element in your list: 4\n",
      "1\n",
      "45\n",
      "74\n",
      "5\n",
      "maximum element of list is  74\n"
     ]
    }
   ],
   "source": [
    "import sys\n",
    "def maxvalue_list(l):\n",
    "    maxvalue=-sys.maxsize\n",
    "    for i in range(len(l)):\n",
    "        if(maxvalue<l[i]):\n",
    "            maxvalue=l[i]\n",
    "    return maxvalue\n",
    "n=int(input(\"enter no of element in your list: \"))\n",
    "l=[]\n",
    "for i in range(n):\n",
    "    l.append(int(input()))\n",
    "print(\"maximum element of list is \", maxvalue_list(l))"
   ]
  },
  {
   "cell_type": "markdown",
   "id": "8b256ceb",
   "metadata": {},
   "source": [
    "# Q5.Write a Python program to find second largest number in a list?"
   ]
  },
  {
   "cell_type": "code",
   "execution_count": 22,
   "id": "a0960378",
   "metadata": {},
   "outputs": [
    {
     "name": "stdout",
     "output_type": "stream",
     "text": [
      "enter no of element in your list: 5\n",
      "45\n",
      "78\n",
      "25\n",
      "69\n",
      "12\n",
      "maximum element of list is  69\n"
     ]
    }
   ],
   "source": [
    "import sys\n",
    "def secmaxvalue_list(l):\n",
    "    maxvalue=-sys.maxsize\n",
    "    secmaxvalue=-sys.maxsize\n",
    "    for i in range(len(l)):\n",
    "        if(maxvalue<l[i]):\n",
    "            secmaxvaluevalue=maxvalue\n",
    "            maxvalue=l[i]\n",
    "        elif(secmaxvalue<l[i] and l[i]!=maxvalue):\n",
    "            secmaxvalue=l[i]\n",
    "        else:\n",
    "            pass\n",
    "        \n",
    "        \n",
    "    return secmaxvalue\n",
    "n=int(input(\"enter no of element in your list: \"))\n",
    "l=[]\n",
    "for i in range(n):\n",
    "    l.append(int(input()))\n",
    "print(\"maximum element of list is \", secmaxvalue_list(l))"
   ]
  },
  {
   "cell_type": "markdown",
   "id": "d2b4b8d6",
   "metadata": {},
   "source": [
    "# Q6.Write a Python program to find N largest elements from a list?"
   ]
  },
  {
   "cell_type": "code",
   "execution_count": 24,
   "id": "6802348d",
   "metadata": {},
   "outputs": [
    {
     "name": "stdout",
     "output_type": "stream",
     "text": [
      "enter no of element in your list: 5\n",
      "4\n",
      "7\n",
      "21\n",
      "45\n",
      "75\n",
      "which nth largest element u want to find? 2\n",
      "nthlargest element of list is  45\n"
     ]
    }
   ],
   "source": [
    "def nthlargest_list(l,n):\n",
    "    l.sort(reverse=True)\n",
    "    return l[N-1]\n",
    "n=int(input(\"enter no of element in your list: \"))\n",
    "l=[]\n",
    "for i in range(n):\n",
    "    l.append(int(input()))\n",
    "N=int(input(\"which nth largest element u want to find? \"))\n",
    "print(\"nthlargest element of list is \",nthlargest_list(l,N))"
   ]
  },
  {
   "cell_type": "markdown",
   "id": "81bcfc43",
   "metadata": {},
   "source": [
    "# Q7.Write a Python program to print even numbers in a list?"
   ]
  },
  {
   "cell_type": "code",
   "execution_count": 26,
   "id": "50e74887",
   "metadata": {},
   "outputs": [
    {
     "name": "stdout",
     "output_type": "stream",
     "text": [
      "enter no of element in your list: 4\n",
      "1\n",
      "4\n",
      "74\n",
      "45\n",
      "even element of list is  [4, 74]\n"
     ]
    }
   ],
   "source": [
    "def evenno_list(l):\n",
    "    newlist=[]\n",
    "    for i in range(len(l)):\n",
    "        if(l[i]%2==0):\n",
    "            newlist.append(l[i])\n",
    "    return newlist\n",
    "n=int(input(\"enter no of element in your list: \"))\n",
    "l=[]\n",
    "for i in range(n):\n",
    "    l.append(int(input()))\n",
    "print(\"even element of list is \", evenno_list(l))"
   ]
  },
  {
   "cell_type": "markdown",
   "id": "57e38e55",
   "metadata": {},
   "source": [
    "# Q8.Write a Python program to print odd numbers in a List?"
   ]
  },
  {
   "cell_type": "code",
   "execution_count": 30,
   "id": "a46ad29b",
   "metadata": {},
   "outputs": [
    {
     "name": "stdout",
     "output_type": "stream",
     "text": [
      "enter no of element in your list: 5\n",
      "14\n",
      "41\n",
      "21\n",
      "466\n",
      "142\n",
      "odd element of list is  [41, 21]\n"
     ]
    }
   ],
   "source": [
    "def oddno_list(l):\n",
    "    oddlist=[]\n",
    "    for i in range(len(l)):\n",
    "        if(l[i]%2!=0):\n",
    "            oddlist.append(l[i])\n",
    "    return oddlist\n",
    "n=int(input(\"enter no of element in your list: \"))\n",
    "l=[]\n",
    "for i in range(n):\n",
    "    l.append(int(input()))\n",
    "print(\"odd element of list is \", oddno_list(l))"
   ]
  },
  {
   "cell_type": "markdown",
   "id": "7f4ef96a",
   "metadata": {},
   "source": [
    "# Q9.Write a Python program to Remove empty List from List?"
   ]
  },
  {
   "cell_type": "code",
   "execution_count": 59,
   "id": "0d5addbc",
   "metadata": {},
   "outputs": [
    {
     "name": "stdout",
     "output_type": "stream",
     "text": [
      "After removing empty list list is===  [[1, 2, 4, 5], ['rajkumar', 'mca', 'nit agartala']]\n"
     ]
    }
   ],
   "source": [
    "l=[[1,2,4,5],[],[\"rajkumar\",\"mca\",\"nit agartala\"],[]]\n",
    "for i in l:\n",
    "    if(len(i)==0):\n",
    "        l.remove(i)\n",
    "print(\"After removing empty list list is=== \",l)\n"
   ]
  },
  {
   "cell_type": "markdown",
   "id": "3f025256",
   "metadata": {},
   "source": [
    "# Q10.Write a Python program to Cloning or Copying a list?"
   ]
  },
  {
   "cell_type": "code",
   "execution_count": 60,
   "id": "ce44ea06",
   "metadata": {},
   "outputs": [
    {
     "name": "stdout",
     "output_type": "stream",
     "text": [
      "[1, 2, 5, ['rajkumar'], 'master student']\n"
     ]
    }
   ],
   "source": [
    "l=[1,2,5,[\"rajkumar\"],\"master student\"]\n",
    "new_list=l.copy()\n",
    "print(new_list)"
   ]
  },
  {
   "cell_type": "markdown",
   "id": "9257de5b",
   "metadata": {},
   "source": [
    "# Q11.Write a Python program to Count occurrences of an element in a list?"
   ]
  },
  {
   "cell_type": "code",
   "execution_count": 66,
   "id": "5ae49393",
   "metadata": {},
   "outputs": [
    {
     "name": "stdout",
     "output_type": "stream",
     "text": [
      "enter no of element in your list: 5\n",
      "4\n",
      "1\n",
      "2\n",
      "2\n",
      "7\n",
      "for which element u want occurrence? 2\n",
      "total occurence is  2\n"
     ]
    }
   ],
   "source": [
    "def count_occur(l,x):\n",
    "    count=0\n",
    "    for i in l:\n",
    "        if(i==x):\n",
    "            count+=1\n",
    "    return count\n",
    "n=int(input(\"enter no of element in your list: \"))\n",
    "l=[]\n",
    "for i in range(n):\n",
    "    l.append(int(input()))\n",
    "x=int(input(\"for which element u want occurrence? \"))\n",
    "print(\"total occurence is \", count_occur(l,x))\n",
    "\n",
    "    \n",
    "    \n",
    "    "
   ]
  },
  {
   "cell_type": "code",
   "execution_count": null,
   "id": "9b589c5c",
   "metadata": {},
   "outputs": [],
   "source": []
  }
 ],
 "metadata": {
  "kernelspec": {
   "display_name": "Python 3 (ipykernel)",
   "language": "python",
   "name": "python3"
  },
  "language_info": {
   "codemirror_mode": {
    "name": "ipython",
    "version": 3
   },
   "file_extension": ".py",
   "mimetype": "text/x-python",
   "name": "python",
   "nbconvert_exporter": "python",
   "pygments_lexer": "ipython3",
   "version": "3.9.12"
  }
 },
 "nbformat": 4,
 "nbformat_minor": 5
}
