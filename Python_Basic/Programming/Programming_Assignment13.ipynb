{
 "cells": [
  {
   "cell_type": "markdown",
   "id": "6809a2e8",
   "metadata": {},
   "source": [
    "Question 1:\n",
    "\n",
    "Write a program that calculates and prints the value according to the given formula:\n",
    "\n",
    "Q = Square root of [(2 * C * D)/H]\n",
    "\n",
    "Following are the fixed values of C and H:\n",
    "\n",
    "C is 50. H is 30.\n",
    "\n",
    "D is the variable whose values should be input to your program in a comma-separated sequence.\n",
    "\n",
    "Example\n",
    "\n",
    "Let us assume the following comma separated input sequence is given to the program:\n",
    "\n",
    "100,150,180\n",
    "\n",
    "The output of the program should be:\n",
    "\n",
    "18,22,24\n",
    ","
   ]
  },
  {
   "cell_type": "code",
   "execution_count": 7,
   "id": "0fb02a45",
   "metadata": {},
   "outputs": [
    {
     "name": "stdout",
     "output_type": "stream",
     "text": [
      "18\n",
      "22\n",
      "24\n"
     ]
    }
   ],
   "source": [
    "from math import *\n",
    "arr=[100,150,180]\n",
    "c=50\n",
    "h=30\n",
    "i=0\n",
    "res=[]\n",
    "n=len(arr)\n",
    "while i<n:\n",
    "    d=arr[i]\n",
    "    cal=sqrt((2*c*d)/h)\n",
    "    res.append(int(cal))\n",
    "    i+=1\n",
    "for i in range(len(res)):\n",
    "    print(res[i])"
   ]
  },
  {
   "cell_type": "markdown",
   "id": "d25392a8",
   "metadata": {},
   "source": [
    "Question 2:\n",
    "Write a program which takes 2 digits, X,Y as input and generates a 2-dimensional array. The element value in the i-th row and j-th column of the array should be i*j.\n",
    "\n",
    "Note: i=0,1.., X-1; j=0,1,¡Y-1.\n",
    "\n",
    "Example\n",
    "\n",
    "Suppose the following inputs are given to the program:\n",
    "\n",
    "3,5\n",
    "\n",
    "Then, the output of the program should be:\n",
    "\n",
    "[[0, 0, 0, 0, 0], [0, 1, 2, 3, 4], [0, 2, 4, 6, 8]] \n"
   ]
  },
  {
   "cell_type": "code",
   "execution_count": 15,
   "id": "3912a01e",
   "metadata": {},
   "outputs": [
    {
     "name": "stdout",
     "output_type": "stream",
     "text": [
      "Enter value of X3\n",
      "Enter value of Y5\n",
      "[[0, 0, 0, 0, 0], [0, 0, 0, 0, 0], [0, 0, 0, 0, 0]]\n",
      "[[0, 2, 4, 6, 8], [0, 2, 4, 6, 8], [0, 2, 4, 6, 8]]\n"
     ]
    }
   ],
   "source": [
    "X=int(input(\"Enter value of X\"))\n",
    "Y=int(input(\"Enter value of Y\"))\n",
    "res=[[0]* Y]*X\n",
    "print(res)\n",
    "for i in range(0,X):\n",
    "    for j in range(0,Y):\n",
    "        res[i][j]=i*j\n",
    "print(res)"
   ]
  },
  {
   "cell_type": "markdown",
   "id": "2b149b47",
   "metadata": {},
   "source": [
    "Question 3:\n",
    "Write a program that accepts a comma separated sequence of words as input and prints the words in a comma-separated sequence after sorting them alphabetically.\n",
    "\n",
    "Suppose the following input is supplied to the program:\n",
    "\n",
    "without,hello,bag,world\n",
    "\n",
    "Then, the output should be:\n",
    "\n",
    "bag,hello,without,world\n"
   ]
  },
  {
   "cell_type": "code",
   "execution_count": 73,
   "id": "99929991",
   "metadata": {},
   "outputs": [
    {
     "name": "stdout",
     "output_type": "stream",
     "text": [
      "Enter string separate each string by comma: gupta,rajkumar,premchand,aaa,xxx,zz\n",
      "aaa,gupta,premchand,rajkumar,xxx,zz,"
     ]
    }
   ],
   "source": [
    "s=input(\"Enter string separate each string by comma: \")\n",
    "l=s.split(',')\n",
    "l.sort()\n",
    "for i in range(len(l)):\n",
    "    print(l[i],end=',')"
   ]
  },
  {
   "cell_type": "markdown",
   "id": "27a5f65d",
   "metadata": {},
   "source": [
    "Question 4:\n",
    "Write a program that accepts a sequence of whitespace separated words as input and prints the words after removing all duplicate words and sorting them alphanumerically.\n",
    "\n",
    "Suppose the following input is supplied to the program:\n",
    "\n",
    "hello world and practice makes perfect and hello world again\n",
    "\n",
    "Then, the output should be:\n",
    "\n",
    "again and hello makes perfect practice world\n"
   ]
  },
  {
   "cell_type": "code",
   "execution_count": 37,
   "id": "b1ee78b9",
   "metadata": {},
   "outputs": [
    {
     "name": "stdout",
     "output_type": "stream",
     "text": [
      "enter string separeted by white space: rajkumar gupta is learning data science\n",
      "data gupta is learning rajkumar science "
     ]
    }
   ],
   "source": [
    "s=input(\"enter string separeted by white space: \")\n",
    "l=s.split(' ')\n",
    "l.sort()\n",
    "for i in range(len(l)):\n",
    "    print(l[i],end=' ')"
   ]
  },
  {
   "cell_type": "markdown",
   "id": "abe9ac94",
   "metadata": {},
   "source": [
    "Question 5:\n",
    "Write a program that accepts a sentence and calculate the number of letters and digits.\n",
    "\n",
    "Suppose the following input is supplied to the program:\n",
    "\n",
    "hello world! 123\n",
    "\n",
    "Then, the output should be:\n",
    "\n",
    "LETTERS 10\n",
    "\n",
    "DIGITS 3\n"
   ]
  },
  {
   "cell_type": "code",
   "execution_count": 57,
   "id": "87db49d8",
   "metadata": {},
   "outputs": [
    {
     "name": "stdout",
     "output_type": "stream",
     "text": [
      "enter any sentance: nbhv56v7676###$\n",
      "LETTER  5\n",
      "DIGITS  6\n"
     ]
    }
   ],
   "source": [
    "import sys\n",
    "sen=input(\"enter any sentance: \")\n",
    "letter_len=0\n",
    "num_len=0\n",
    "for i in range(len(sen)):\n",
    "    if sen[i].isalpha()==True:\n",
    "        letter_len+=1\n",
    "    elif sen[i].isnumeric()==True :\n",
    "        num_len+=1\n",
    "    else:\n",
    "        pass\n",
    "print(\"LETTER \",letter_len)\n",
    "print(\"DIGITS \",num_len)"
   ]
  },
  {
   "cell_type": "markdown",
   "id": "fd729068",
   "metadata": {},
   "source": [
    "Question 6:\n",
    "A website requires the users to input username and password to register. Write a program to check the validity of password input by users.\n",
    "\n",
    "Following are the criteria for checking the password:\n",
    "\n",
    "1. At least 1 letter between [a-z]\n",
    "\n",
    "2. At least 1 number between [0-9]\n",
    "\n",
    "1. At least 1 letter between [A-Z]\n",
    "\n",
    "3. At least 1 character from [$#@]\n",
    "\n",
    "4. Minimum length of transaction password: 6\n",
    "\n",
    "5. Maximum length of transaction password: 12\n",
    "\n",
    "Your program should accept a sequence of comma separated passwords and will check them according to the above criteria. Passwords that match the criteria are to be printed, each separated by a comma.\n",
    "\n",
    "Example\n",
    "\n",
    "If the following passwords are given as input to the program:\n",
    "\n",
    "ABd1234@1,a F1#,2w3E*,2We3345\n",
    "\n",
    "Then, the output of the program should be:\n",
    "\n",
    "ABd1234@1"
   ]
  },
  {
   "cell_type": "code",
   "execution_count": 72,
   "id": "c74560c4",
   "metadata": {},
   "outputs": [
    {
     "name": "stdout",
     "output_type": "stream",
     "text": [
      "Enter password separated by comma:ABd1234@1,a F1#,2w3E*,2We3345\n",
      "['ABd1234@1']\n"
     ]
    }
   ],
   "source": [
    "list_pas=input(\"Enter password separated by comma:\")\n",
    "l=list_pas.split(',')\n",
    "res=[]\n",
    "for i in range(len(l)):\n",
    "    pas=l[i]\n",
    "    capital=0\n",
    "    small=0\n",
    "    num=0\n",
    "    spc=0\n",
    "    if(len(pas)<6 or len(pas)>12):\n",
    "            continue\n",
    "    else:\n",
    "        for i in range(len(pas)):\n",
    "            if ord(pas[i])>=97 and ord(pas[i])<=122:\n",
    "                capital+=1\n",
    "            elif ord(pas[i])>=65 and ord(pas[i])<=90:\n",
    "                small+=1\n",
    "            elif ord(pas[i])>=48 and ord(pas[i])<=57:\n",
    "                num+=1\n",
    "            elif ord(pas[i])==35 or ord(pas[i])==36 or ord(pas[i])==64:\n",
    "                spc+=1\n",
    "            else:\n",
    "                pass\n",
    "    if(capital!=0 and small!=0 and num!=0 and spc!=0):\n",
    "        res.append(pas)\n",
    "    else:\n",
    "        pass\n",
    "print(res)\n",
    "        \n",
    "                \n",
    "    \n",
    "\n",
    "        \n",
    "    \n",
    "    "
   ]
  },
  {
   "cell_type": "code",
   "execution_count": null,
   "id": "d45cbcdd",
   "metadata": {},
   "outputs": [],
   "source": []
  },
  {
   "cell_type": "code",
   "execution_count": null,
   "id": "45d29cf6",
   "metadata": {},
   "outputs": [],
   "source": []
  }
 ],
 "metadata": {
  "kernelspec": {
   "display_name": "Python 3 (ipykernel)",
   "language": "python",
   "name": "python3"
  },
  "language_info": {
   "codemirror_mode": {
    "name": "ipython",
    "version": 3
   },
   "file_extension": ".py",
   "mimetype": "text/x-python",
   "name": "python",
   "nbconvert_exporter": "python",
   "pygments_lexer": "ipython3",
   "version": "3.10.9"
  }
 },
 "nbformat": 4,
 "nbformat_minor": 5
}
