{
 "cells": [
  {
   "cell_type": "markdown",
   "id": "b97b7f2c",
   "metadata": {},
   "source": [
    "# Q1.Write a Python program to Extract Unique values dictionary values?"
   ]
  },
  {
   "cell_type": "code",
   "execution_count": 1,
   "id": "5ac5a71a",
   "metadata": {},
   "outputs": [
    {
     "name": "stdout",
     "output_type": "stream",
     "text": [
      "['rajkumar', 'bindu', 'premchand', 'shrimati devi', 'sapna']\n"
     ]
    }
   ],
   "source": [
    "dic={'key1':'rajkumar','key2':'premchand','key3':'shrimati devi','key4':'sapna','key5':'bindu','key6':\n",
    "          'rajkumar'}\n",
    "print(list(set(dic.values())))"
   ]
  },
  {
   "cell_type": "markdown",
   "id": "eff1906c",
   "metadata": {},
   "source": [
    "# Q2.Write a Python program to find the sum of all items in a dictionary?"
   ]
  },
  {
   "cell_type": "code",
   "execution_count": 2,
   "id": "35057f33",
   "metadata": {},
   "outputs": [
    {
     "name": "stdout",
     "output_type": "stream",
     "text": [
      "209\n"
     ]
    }
   ],
   "source": [
    "d2={'key1':52,'key2':17,'key3':45,'key4':45,'key5':25,'key6':25}\n",
    "print(sum(d2.values()))"
   ]
  },
  {
   "cell_type": "markdown",
   "id": "1412d68b",
   "metadata": {},
   "source": [
    "# Q3.Write a Python program to Merging two Dictionaries?"
   ]
  },
  {
   "cell_type": "code",
   "execution_count": 3,
   "id": "27a712e5",
   "metadata": {},
   "outputs": [
    {
     "name": "stdout",
     "output_type": "stream",
     "text": [
      "{'key1': 'rajkumar', 'key2': 'premchand', 'key3': 'shrimati devi', 'key4': 'sapna', 'key5': 'bindu', 'key6': 'rajkumar', 'key11': 52, 'key22': 17, 'key33': 45, 'key44': 45, 'key55': 25, 'key66': 25}\n"
     ]
    }
   ],
   "source": [
    "d3={'key1':'rajkumar','key2':'premchand','key3':'shrimati devi','key4':'sapna','key5':'bindu','key6':\n",
    "          'rajkumar'}\n",
    "d4={'key11':52,'key22':17,'key33':45,'key44':45,'key55':25,'key66':25}\n",
    "d3.update(d4)\n",
    "print(d3)"
   ]
  },
  {
   "cell_type": "markdown",
   "id": "cdd0d0e2",
   "metadata": {},
   "source": [
    "# Q4.Write a Python program to convert key-values list to flat dictionary?"
   ]
  },
  {
   "cell_type": "code",
   "execution_count": 4,
   "id": "78389dfb",
   "metadata": {},
   "outputs": [
    {
     "name": "stdout",
     "output_type": "stream",
     "text": [
      "{'key1': 'val1', 'key2': 'val2', 'key3': 'val3', 'key4': 'val4', 'key5': 'val5'}\n"
     ]
    }
   ],
   "source": [
    "l=[('key1','val1'),('key2','val2'),('key3','val3'),('key4','val4'),('key5','val5')]\n",
    "print(dict(l))\n"
   ]
  },
  {
   "cell_type": "code",
   "execution_count": null,
   "id": "b303d716",
   "metadata": {},
   "outputs": [],
   "source": []
  },
  {
   "cell_type": "markdown",
   "id": "9c133a56",
   "metadata": {},
   "source": [
    "# Q5.Write a Python program to insertion at the beginning in OrderedDict?"
   ]
  },
  {
   "cell_type": "code",
   "execution_count": 5,
   "id": "95249bb3",
   "metadata": {},
   "outputs": [
    {
     "name": "stdout",
     "output_type": "stream",
     "text": [
      "OrderedDict([('key4', '500'), ('key', '100'), ('key1', '200'), ('key2', '300'), ('key3', '400')])\n"
     ]
    }
   ],
   "source": [
    "from collections import OrderedDict\n",
    "dic = OrderedDict([('key','100'),('key1','200'),('key2','300'),('key3','400')])\n",
    "new_dic = OrderedDict([('key4','500')])\n",
    "res = OrderedDict(list(new_dic.items()) + list(dic.items()))\n",
    "print(res)\n"
   ]
  },
  {
   "cell_type": "markdown",
   "id": "4293345a",
   "metadata": {},
   "source": [
    "# Q6.Write a Python program to check order of character in string using OrderedDict()?"
   ]
  },
  {
   "cell_type": "code",
   "execution_count": 6,
   "id": "28ccdb84",
   "metadata": {},
   "outputs": [
    {
     "name": "stdout",
     "output_type": "stream",
     "text": [
      "{'key1': 100, 'key2': 200, 'key3': 300, 'key4': 400}\n",
      "OrderedDict([('key1', 100), ('key2', 200), ('key3', 300), ('key4', 400)])\n"
     ]
    }
   ],
   "source": [
    "from collections import OrderedDict\n",
    "dic = {'key1':100,'key2':200,'key3':300,'key4':400}\n",
    "print(dic)\n",
    "\n",
    "ord_dic = OrderedDict(dic)\n",
    "print(ord_dic)"
   ]
  },
  {
   "cell_type": "markdown",
   "id": "83b1d032",
   "metadata": {},
   "source": [
    "# Q7.Write a Python program to sort Python Dictionaries by Key or Value?"
   ]
  },
  {
   "cell_type": "code",
   "execution_count": 7,
   "id": "2aba7300",
   "metadata": {},
   "outputs": [
    {
     "name": "stdout",
     "output_type": "stream",
     "text": [
      "Sorted Dictionary are :\n",
      "OrderedDict([('a', 'Architect Engineer'), ('d', 'Data Analyst'), ('w', 'Data Engineer'), ('z', 'Data Scientist')])\n"
     ]
    }
   ],
   "source": [
    "from collections import OrderedDict\n",
    "dict = {'z':'Data Scientist','w':'Data Engineer','d':'Data Analyst','a':'ML Engineer'}\n",
    "print(\"Sorted Dictionary are :\")\n",
    "print( OrderedDict(sorted(dict.items())))"
   ]
  }
 ],
 "metadata": {
  "kernelspec": {
   "display_name": "Python 3 (ipykernel)",
   "language": "python",
   "name": "python3"
  },
  "language_info": {
   "codemirror_mode": {
    "name": "ipython",
    "version": 3
   },
   "file_extension": ".py",
   "mimetype": "text/x-python",
   "name": "python",
   "nbconvert_exporter": "python",
   "pygments_lexer": "ipython3",
   "version": "3.9.12"
  }
 },
 "nbformat": 4,
 "nbformat_minor": 5
}
