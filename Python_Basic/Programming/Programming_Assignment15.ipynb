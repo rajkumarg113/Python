{
 "cells": [
  {
   "cell_type": "markdown",
   "id": "fac0aac1",
   "metadata": {},
   "source": [
    "Q1.Please write a program using generator to print the numbers which can be divisible by 5 and 7 between 0 and n in comma separated form while n is input by console."
   ]
  },
  {
   "cell_type": "code",
   "execution_count": 2,
   "id": "a801e414",
   "metadata": {},
   "outputs": [
    {
     "name": "stdout",
     "output_type": "stream",
     "text": [
      "0 35 70 105 140 175 210 245 280 315 350 385 420 455 490 "
     ]
    }
   ],
   "source": [
    "class generator:\n",
    "    def __init__(self,num):\n",
    "        self.n= num\n",
    "    def get_num(self):\n",
    "        for i in range(0,self.n+1):\n",
    "            if i%5==0 and i%7==0:\n",
    "                yield i\n",
    "obj = generator(500)\n",
    "for i in obj.get_num():\n",
    "    print(i,end=' ')"
   ]
  },
  {
   "cell_type": "markdown",
   "id": "f8a7632d",
   "metadata": {},
   "source": [
    "Q2.Please write a program using generator to print the even numbers between 0 and n in comma separated form while n is input by console."
   ]
  },
  {
   "cell_type": "code",
   "execution_count": 4,
   "id": "e2aa5a9d",
   "metadata": {},
   "outputs": [
    {
     "name": "stdout",
     "output_type": "stream",
     "text": [
      "0 2 4 6 8 10 12 14 16 18 "
     ]
    }
   ],
   "source": [
    "def genEven(in_num):\n",
    "    for i in range(in_num):\n",
    "        if i % 2 == 0:\n",
    "            yield i\n",
    "for i in genEven(20):\n",
    "    print(i,end=' ')"
   ]
  },
  {
   "cell_type": "markdown",
   "id": "c9ce9428",
   "metadata": {},
   "source": [
    "Q3.Please write a program using list comprehension to print the Fibonacci Sequence in comma separated form with a given n input by console."
   ]
  },
  {
   "cell_type": "code",
   "execution_count": 8,
   "id": "0545b592",
   "metadata": {},
   "outputs": [
    {
     "name": "stdout",
     "output_type": "stream",
     "text": [
      "[0, 1, 1, 2, 3, 5, 8, 13, 21, 34]\n"
     ]
    }
   ],
   "source": [
    "def fib(n):\n",
    "    if n==0 or n==1:\n",
    "        return n\n",
    "    else:\n",
    "        return (fib(n-1)+fib(n-2))\n",
    "print([fib(x) for x  in range(10)])\n",
    "    "
   ]
  },
  {
   "cell_type": "markdown",
   "id": "a53df703",
   "metadata": {},
   "source": [
    "Q4.Assuming that we have some email addresses in the \"username@companyname.com\" format, please write program to print the user name of a given email address. Both user names and company names are composed of letters only."
   ]
  },
  {
   "cell_type": "code",
   "execution_count": 9,
   "id": "c126b67e",
   "metadata": {},
   "outputs": [
    {
     "name": "stdout",
     "output_type": "stream",
     "text": [
      "Enter the emailid in format 'username@copyname' : rajkumargrs113@company.com\n",
      "rajkumargrs113\n"
     ]
    }
   ],
   "source": [
    "def getUsername():\n",
    "    string= input(\"Enter the emailid in format 'username@copyname' : \")\n",
    "    l = string.split(\"@\")\n",
    "    print(l[0])\n",
    "getUsername()"
   ]
  },
  {
   "cell_type": "markdown",
   "id": "4f1dec79",
   "metadata": {},
   "source": [
    "Q5.Define a class named Shape and its subclass Square. The Square class has an init function which takes a length as argument. Both classes have a area function which can print the area of the shape where Shape's area is 0 by default."
   ]
  },
  {
   "cell_type": "code",
   "execution_count": 10,
   "id": "b4a84913",
   "metadata": {},
   "outputs": [
    {
     "name": "stdout",
     "output_type": "stream",
     "text": [
      "10000\n"
     ]
    }
   ],
   "source": [
    "class shape:\n",
    "    def area(self):\n",
    "        return 0\n",
    "class square(shape):\n",
    "    def __init__(self,l):\n",
    "        self.length = l\n",
    "    def area(self):\n",
    "        return self.length*self.length\n",
    "obj=square(100)\n",
    "print(obj.area())"
   ]
  },
  {
   "cell_type": "code",
   "execution_count": null,
   "id": "a6a9b6ae",
   "metadata": {},
   "outputs": [],
   "source": []
  }
 ],
 "metadata": {
  "kernelspec": {
   "display_name": "Python 3 (ipykernel)",
   "language": "python",
   "name": "python3"
  },
  "language_info": {
   "codemirror_mode": {
    "name": "ipython",
    "version": 3
   },
   "file_extension": ".py",
   "mimetype": "text/x-python",
   "name": "python",
   "nbconvert_exporter": "python",
   "pygments_lexer": "ipython3",
   "version": "3.10.9"
  }
 },
 "nbformat": 4,
 "nbformat_minor": 5
}
