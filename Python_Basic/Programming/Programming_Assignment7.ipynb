{
 "cells": [
  {
   "cell_type": "markdown",
   "id": "0cf030ef",
   "metadata": {},
   "source": [
    "# Write a Python Program to find sum of array?"
   ]
  },
  {
   "cell_type": "code",
   "execution_count": 5,
   "id": "8897f8df",
   "metadata": {},
   "outputs": [
    {
     "name": "stdout",
     "output_type": "stream",
     "text": [
      "enter size of array2\n",
      "enter element of array: 1\n",
      "enter element of array: 2\n",
      "Tota sum of your array is 3\n"
     ]
    }
   ],
   "source": [
    "n=int(input(\"enter size of array\"))\n",
    "arr=[]\n",
    "i=0\n",
    "total=0\n",
    "while(i<n):\n",
    "    ele=int(input(\"enter element of array: \"))\n",
    "    arr.append(ele)\n",
    "    total+=arr[i]\n",
    "    i+=1;\n",
    "print(\"Total sum of your array is {}\".format(total))\n",
    "\n"
   ]
  },
  {
   "cell_type": "markdown",
   "id": "2b7ba123",
   "metadata": {},
   "source": [
    "# Write a Python Program to find largest element in an array?\n"
   ]
  },
  {
   "cell_type": "code",
   "execution_count": 9,
   "id": "cd154fd6",
   "metadata": {},
   "outputs": [
    {
     "name": "stdout",
     "output_type": "stream",
     "text": [
      "enter size of array5\n",
      "enter element of array: 1\n",
      "enter element of array: 7\n",
      "enter element of array: 43\n",
      "enter element of array: 89\n",
      "enter element of array: 12\n",
      "The maximum element of your array is 89\n"
     ]
    }
   ],
   "source": [
    "n=int(input(\"enter size of array\"))\n",
    "arr=[]\n",
    "while(n):\n",
    "    ele=int(input(\"enter element of array: \"))\n",
    "    arr.append(ele)\n",
    "    n-=1\n",
    "max_ele=arr[0]\n",
    "for i in arr:\n",
    "    if(i>max_ele):\n",
    "        max_ele=i\n",
    "print(\"The maximum element of your array is {}\".format(max_ele))"
   ]
  },
  {
   "cell_type": "markdown",
   "id": "db04ed4f",
   "metadata": {},
   "source": [
    "# Write a Python Program for array rotation?"
   ]
  },
  {
   "cell_type": "code",
   "execution_count": 12,
   "id": "c7819ec5",
   "metadata": {
    "scrolled": true
   },
   "outputs": [
    {
     "name": "stdout",
     "output_type": "stream",
     "text": [
      "enter size of array5\n",
      "enter element of array: 1\n",
      "enter element of array: 2\n",
      "enter element of array: 3\n",
      "enter element of array: 4\n",
      "enter element of array: 5\n",
      "your original array is: [1, 2, 3, 4, 5]\n",
      "after left rotation your array:   [2, 3, 4, 5, 1]\n"
     ]
    }
   ],
   "source": [
    "n=int(input(\"enter size of array\"))\n",
    "arr=[]\n",
    "while(n):\n",
    "    ele=int(input(\"enter element of array: \"))\n",
    "    arr.append(ele)\n",
    "    n-=1\n",
    "print(\"your original array is:\",arr)\n",
    "tmp=arr[0]\n",
    "for i in range(len(arr)-1):\n",
    "    arr[i]=arr[i+1]\n",
    "arr[len(arr)-1]=tmp\n",
    "print(\"after left rotation your array:  \",arr)"
   ]
  },
  {
   "cell_type": "markdown",
   "id": "bc997091",
   "metadata": {},
   "source": [
    "# Write a Python Program to Split the array and add the first part to the end?\n",
    " "
   ]
  },
  {
   "cell_type": "code",
   "execution_count": 58,
   "id": "2d8bce3b",
   "metadata": {},
   "outputs": [
    {
     "name": "stdout",
     "output_type": "stream",
     "text": [
      "[5, 6, 7, 1, 2, 3]\n"
     ]
    }
   ],
   "source": [
    "a=[1,2,3,5,6,7]\n",
    "tmp=[]\n",
    "def split_add(a,k):\n",
    "    for i in range(0,k):\n",
    "        tmp.append(a[i])     #here storing first part\n",
    "    for j in range(0,k):\n",
    "        a[j]=a[j+k]          #here storing second part in place first part \n",
    "    for t in range(k):\n",
    "        a[t+k]=tmp[t]          #here storing first part in place of second part\n",
    "    return a\n"
   ]
  },
  {
   "cell_type": "code",
   "execution_count": null,
   "id": "9f72aaa1",
   "metadata": {},
   "outputs": [],
   "source": []
  },
  {
   "cell_type": "markdown",
   "id": "f9b684fe",
   "metadata": {},
   "source": [
    "# Write a Python Program to check if given array is Monotonic?"
   ]
  },
  {
   "cell_type": "code",
   "execution_count": 47,
   "id": "e2cd8449",
   "metadata": {},
   "outputs": [],
   "source": [
    "def check_monotonic(a):\n",
    "    \"\"\"this function tells you monotonic nature of your array\n",
    "    montonic means either increasing or decreasing continous\"\"\"\n",
    "    asc,desc=0,0\n",
    "    for i in range(1,len(a)):\n",
    "        if(a[i]>a[i-1]):\n",
    "            asc=asc+1\n",
    "        else:\n",
    "            desc=desc+1\n",
    "    if(asc==len(a)-1 or desc==len(a)-1):\n",
    "        print(\"yes\")\n",
    "    else:\n",
    "        print(\"no\")\n",
    "    \n"
   ]
  },
  {
   "cell_type": "code",
   "execution_count": 45,
   "id": "f5869e7e",
   "metadata": {},
   "outputs": [
    {
     "name": "stdout",
     "output_type": "stream",
     "text": [
      "yes\n"
     ]
    }
   ],
   "source": [
    "check_monotonic([10,9,5,4])"
   ]
  },
  {
   "cell_type": "code",
   "execution_count": null,
   "id": "9a61a0e2",
   "metadata": {},
   "outputs": [],
   "source": []
  }
 ],
 "metadata": {
  "kernelspec": {
   "display_name": "Python 3 (ipykernel)",
   "language": "python",
   "name": "python3"
  },
  "language_info": {
   "codemirror_mode": {
    "name": "ipython",
    "version": 3
   },
   "file_extension": ".py",
   "mimetype": "text/x-python",
   "name": "python",
   "nbconvert_exporter": "python",
   "pygments_lexer": "ipython3",
   "version": "3.9.12"
  }
 },
 "nbformat": 4,
 "nbformat_minor": 5
}
