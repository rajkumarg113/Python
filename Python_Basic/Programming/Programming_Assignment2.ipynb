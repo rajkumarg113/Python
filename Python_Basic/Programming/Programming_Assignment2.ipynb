{
 "cells": [
  {
   "cell_type": "code",
   "execution_count": 1,
   "id": "dfaef4ca",
   "metadata": {},
   "outputs": [],
   "source": [
    "#Q1.Write a Python program to convert kilometers to miles?"
   ]
  },
  {
   "cell_type": "code",
   "execution_count": 6,
   "id": "a64e8ca6",
   "metadata": {},
   "outputs": [
    {
     "name": "stdout",
     "output_type": "stream",
     "text": [
      "Enter your distance in kilometer:3\n",
      "your distance in mile is 1.8641130000000001\n"
     ]
    }
   ],
   "source": [
    "km=int(input(\"Enter your distance in kilometer:\"))\n",
    "mile=km*0.621371\n",
    "print(\"your distance in mile is {}\".format(mile))"
   ]
  },
  {
   "cell_type": "code",
   "execution_count": 7,
   "id": "1e55bccb",
   "metadata": {},
   "outputs": [],
   "source": [
    "#Q2.Write a Python program to convert Celsius to Fahrenheit?"
   ]
  },
  {
   "cell_type": "code",
   "execution_count": 10,
   "id": "5f5a2b2c",
   "metadata": {},
   "outputs": [
    {
     "name": "stdout",
     "output_type": "stream",
     "text": [
      "Enter temperature in celcius:7\n",
      "Temperature in fahrenheit is 44.6\n"
     ]
    }
   ],
   "source": [
    "cel=float(input(\"Enter temperature in celcius:\"))\n",
    "feh=(cel*1.8)+32\n",
    "print(\"Temperature in fahrenheit is {}\".format(feh))"
   ]
  },
  {
   "cell_type": "code",
   "execution_count": 11,
   "id": "25f1c57c",
   "metadata": {},
   "outputs": [],
   "source": [
    "#Q3.Write a Python program to display calendar?"
   ]
  },
  {
   "cell_type": "code",
   "execution_count": 17,
   "id": "7f3841f2",
   "metadata": {},
   "outputs": [
    {
     "name": "stdout",
     "output_type": "stream",
     "text": [
      "Enter year: 1947\n",
      "Enter month: 08\n",
      "    August 1947\n",
      "Mo Tu We Th Fr Sa Su\n",
      "             1  2  3\n",
      " 4  5  6  7  8  9 10\n",
      "11 12 13 14 15 16 17\n",
      "18 19 20 21 22 23 24\n",
      "25 26 27 28 29 30 31\n",
      "\n"
     ]
    }
   ],
   "source": [
    "import calendar\n",
    "yyyy=int(input(\"Enter year: \"))\n",
    "mm=int(input(\"Enter month: \"))\n",
    "print(calendar.month(yyyy,mm))"
   ]
  },
  {
   "cell_type": "code",
   "execution_count": 18,
   "id": "c1f19bdc",
   "metadata": {},
   "outputs": [],
   "source": [
    "#Q4.Write a Python program to solve quadratic equation?"
   ]
  },
  {
   "cell_type": "code",
   "execution_count": 34,
   "id": "0fd38273",
   "metadata": {},
   "outputs": [
    {
     "name": "stdout",
     "output_type": "stream",
     "text": [
      "Enter coefficient of x square1\n",
      "Enter coefficient of x 2\n",
      "Enter constant coefficient 1\n",
      "real and same roots\n",
      "-1.0\n"
     ]
    }
   ],
   "source": [
    "import math\n",
    "a=int(input(\"Enter coefficient of x square\"))\n",
    "b=int(input(\"Enter coefficient of x \"))\n",
    "c=int(input(\"Enter constant coefficient \"))\n",
    "D=b**2-4*a*c  # here D is Discrement\n",
    "sqrt_D=math.sqrt(abs(D))\n",
    "if D>0: \n",
    "    print(\"real and different roots\") \n",
    "    print((-b+sqrt_D)/(2*a),end=' ') \n",
    "    print((-b-sqrt_D)/(2*a)) \n",
    "elif D==0: \n",
    "    print(\"real and same roots\") \n",
    "    print(-b/(2*a)) \n",
    "else:\n",
    "    print(\"Complex Roots\")\n",
    "    print(- b/(2*a),\"+i\",sqrt_D) \n",
    "    print(- b/(2*a),\"-i\",sqrt_D)"
   ]
  },
  {
   "cell_type": "code",
   "execution_count": null,
   "id": "e92502cf",
   "metadata": {},
   "outputs": [],
   "source": [
    "#Q5.Write a Python program to swap two variables without temp variable?"
   ]
  },
  {
   "cell_type": "code",
   "execution_count": 35,
   "id": "0160add7",
   "metadata": {},
   "outputs": [
    {
     "name": "stdout",
     "output_type": "stream",
     "text": [
      "enter value of a: 2\n",
      "enter value of b: 4\n",
      "Before swapping a=2 b=4\n",
      "After swapping a=4 b=2\n"
     ]
    }
   ],
   "source": [
    "a=int(input(\"enter value of a: \"))\n",
    "b=int(input(\"enter value of b: \"))\n",
    "print(\"Before swapping a={} b={}\".format(a,b))\n",
    "a=a+b\n",
    "b=a-b\n",
    "a=a-b\n",
    "print(\"After swapping a={} b={}\".format(a,b))"
   ]
  },
  {
   "cell_type": "code",
   "execution_count": null,
   "id": "c6cfe434",
   "metadata": {},
   "outputs": [],
   "source": []
  }
 ],
 "metadata": {
  "kernelspec": {
   "display_name": "Python 3 (ipykernel)",
   "language": "python",
   "name": "python3"
  },
  "language_info": {
   "codemirror_mode": {
    "name": "ipython",
    "version": 3
   },
   "file_extension": ".py",
   "mimetype": "text/x-python",
   "name": "python",
   "nbconvert_exporter": "python",
   "pygments_lexer": "ipython3",
   "version": "3.9.12"
  }
 },
 "nbformat": 4,
 "nbformat_minor": 5
}
