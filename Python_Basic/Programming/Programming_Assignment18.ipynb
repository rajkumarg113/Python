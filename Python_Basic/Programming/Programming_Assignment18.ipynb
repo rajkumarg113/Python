{
 "cells": [
  {
   "cell_type": "markdown",
   "id": "4be4bacc",
   "metadata": {},
   "source": [
    "Question 1\n",
    "Create a function that takes a list of non-negative integers and strings and return a new list without the strings.\n"
   ]
  },
  {
   "cell_type": "code",
   "execution_count": 1,
   "id": "b7d8ae36",
   "metadata": {},
   "outputs": [
    {
     "name": "stdout",
     "output_type": "stream",
     "text": [
      "[1, 3, 7]\n"
     ]
    }
   ],
   "source": [
    "def filter_list(l):\n",
    "    res=[]\n",
    "    for i in l:\n",
    "        if(type(i)==int):\n",
    "            res.append(i)\n",
    "    print(res)\n",
    "filter_list([1,3,\"gvh\",7,\"bh\"])"
   ]
  },
  {
   "cell_type": "code",
   "execution_count": null,
   "id": "43c6b561",
   "metadata": {},
   "outputs": [],
   "source": []
  },
  {
   "cell_type": "markdown",
   "id": "3396cdb1",
   "metadata": {},
   "source": [
    "Question 2\n",
    "The \"Reverser\" takes a string as input and returns that string in reverse order, with the opposite case."
   ]
  },
  {
   "cell_type": "code",
   "execution_count": 2,
   "id": "ce449abf",
   "metadata": {},
   "outputs": [
    {
     "name": "stdout",
     "output_type": "stream",
     "text": [
      "ATPUg RAMUKJAR\n"
     ]
    }
   ],
   "source": [
    "def reverse(string):\n",
    "    res=string[::-1].swapcase()\n",
    "    print(res)\n",
    "\n",
    "reverse(\"rajkumar Gupta\")\n",
    "    "
   ]
  },
  {
   "cell_type": "code",
   "execution_count": null,
   "id": "fb8ebe5f",
   "metadata": {},
   "outputs": [],
   "source": []
  },
  {
   "cell_type": "markdown",
   "id": "60f4ad9c",
   "metadata": {},
   "source": [
    "Question 3\n",
    "You can assign variables from lists like this:\n",
    "lst = [1, 2, 3, 4, 5, 6]\n",
    "first = lst[0]\n",
    "middle = lst[1:-1]\n",
    "last = lst[-1]\n"
   ]
  },
  {
   "cell_type": "code",
   "execution_count": 3,
   "id": "576a1fb5",
   "metadata": {},
   "outputs": [
    {
     "name": "stdout",
     "output_type": "stream",
     "text": [
      "first =  5\n",
      "Middele =  [6, 8, 890]\n",
      "last =  12\n"
     ]
    }
   ],
   "source": [
    "def filter_list(l):\n",
    "    print(\"first = \",l[0])\n",
    "    print(\"Middele = \",l[1:-1])\n",
    "    print(\"last = \",l[-1])\n",
    "filter_list([5,6,8,890,12])"
   ]
  },
  {
   "cell_type": "markdown",
   "id": "609001e0",
   "metadata": {},
   "source": [
    "Question 4\n",
    "Write a function that calculates the factorial of a number recursively."
   ]
  },
  {
   "cell_type": "code",
   "execution_count": 5,
   "id": "a44d740a",
   "metadata": {},
   "outputs": [
    {
     "data": {
      "text/plain": [
       "120"
      ]
     },
     "execution_count": 5,
     "metadata": {},
     "output_type": "execute_result"
    }
   ],
   "source": [
    "def factorial(n):\n",
    "    if n==0:\n",
    "        return 1\n",
    "    else:\n",
    "        return n*factorial(n-1)\n",
    "factorial(5)"
   ]
  },
  {
   "cell_type": "markdown",
   "id": "639e5c40",
   "metadata": {},
   "source": [
    "Question 5\n",
    "Write a function that moves all elements of one type to the end of the list.\n"
   ]
  },
  {
   "cell_type": "code",
   "execution_count": 8,
   "id": "73b008d7",
   "metadata": {},
   "outputs": [
    {
     "name": "stdout",
     "output_type": "stream",
     "text": [
      "[7, 8, 1, 2, 3, 4, 9]\n",
      "['b', 'a', 'a', 'a']\n"
     ]
    }
   ],
   "source": [
    "def move_to_end(l,num):\n",
    "    first_l = []\n",
    "    second_l = []\n",
    "    for i in l:\n",
    "        if i == num:\n",
    "            second_l.append(i)\n",
    "        else:\n",
    "            first_l.append(i)\n",
    "    first_l.extend(second_l)\n",
    "    return first_l\n",
    "print(move_to_end([7,8,9,1,2,3,4],9))\n",
    "print(move_to_end([\"a\",\"a\",\"a\",\"b\"],\"a\"))"
   ]
  },
  {
   "cell_type": "code",
   "execution_count": null,
   "id": "8280d729",
   "metadata": {},
   "outputs": [],
   "source": []
  },
  {
   "cell_type": "code",
   "execution_count": null,
   "id": "ff12ce03",
   "metadata": {},
   "outputs": [],
   "source": []
  },
  {
   "cell_type": "code",
   "execution_count": null,
   "id": "a67bfd7d",
   "metadata": {},
   "outputs": [],
   "source": []
  }
 ],
 "metadata": {
  "kernelspec": {
   "display_name": "Python 3 (ipykernel)",
   "language": "python",
   "name": "python3"
  },
  "language_info": {
   "codemirror_mode": {
    "name": "ipython",
    "version": 3
   },
   "file_extension": ".py",
   "mimetype": "text/x-python",
   "name": "python",
   "nbconvert_exporter": "python",
   "pygments_lexer": "ipython3",
   "version": "3.10.9"
  }
 },
 "nbformat": 4,
 "nbformat_minor": 5
}
