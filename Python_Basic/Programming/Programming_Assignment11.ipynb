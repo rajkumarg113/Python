{
 "cells": [
  {
   "cell_type": "markdown",
   "id": "de145a95",
   "metadata": {},
   "source": [
    "# Q1.Write a Python program to find words which are greater than given length k?"
   ]
  },
  {
   "cell_type": "code",
   "execution_count": 1,
   "id": "0d6fc8dd",
   "metadata": {},
   "outputs": [
    {
     "name": "stdout",
     "output_type": "stream",
     "text": [
      "Enter the string: rajkumar is student of fsds batch\n",
      "Enter the value of k3\n",
      "rajkumar,student,fsds,batch\n"
     ]
    }
   ],
   "source": [
    "def find_word():\n",
    "    out_str = []\n",
    "    for i in int_str.split(\" \"):\n",
    "        if len(i)>k:\n",
    "            out_str.append(i)\n",
    "    print(','.join(out_str))\n",
    "\n",
    "    \n",
    "int_str = input(\"Enter the string: \")\n",
    "k = int(input(\"Enter the value of k\"))\n",
    "find_word()"
   ]
  },
  {
   "cell_type": "markdown",
   "id": "4cfcfc9c",
   "metadata": {},
   "source": [
    "# Q2.Write a Python program for removing i-th character from a string?"
   ]
  },
  {
   "cell_type": "code",
   "execution_count": 3,
   "id": "6cf31a2b",
   "metadata": {},
   "outputs": [
    {
     "name": "stdout",
     "output_type": "stream",
     "text": [
      "Enter the string: rajkumar\n",
      "Enter the ith character: 3\n",
      "rajumar\n"
     ]
    }
   ],
   "source": [
    "def removechar():\n",
    "    result=\"\"\n",
    "    for i in range(len(string)):\n",
    "        if i!=pos:\n",
    "            result+=string[i]\n",
    "    print(result)\n",
    "    \n",
    "    \n",
    "string= input(\"Enter the string: \")\n",
    "pos= int(input(\"Enter the ith character: \"))    \n",
    "removechar()"
   ]
  },
  {
   "cell_type": "markdown",
   "id": "7326f73c",
   "metadata": {},
   "source": [
    "# Q3.Write a Python program to split and join a string?"
   ]
  },
  {
   "cell_type": "code",
   "execution_count": 9,
   "id": "3d951185",
   "metadata": {},
   "outputs": [
    {
     "name": "stdout",
     "output_type": "stream",
     "text": [
      "enter string: rajkumar gupta\n",
      "spliting string is  ['rajkumar', 'gupta']\n",
      "after joining  rajkumar gupta\n"
     ]
    }
   ],
   "source": [
    "string=input(\"enter string: \")\n",
    "print(\"spliting string is \",string.split(\" \"))\n",
    "print(\"after joining \",\"\".join(string))"
   ]
  },
  {
   "cell_type": "markdown",
   "id": "d8c9cf38",
   "metadata": {},
   "source": [
    "# Q4.Write a Python to check if a given string is binary string or not?"
   ]
  },
  {
   "cell_type": "code",
   "execution_count": 24,
   "id": "a7398919",
   "metadata": {},
   "outputs": [
    {
     "name": "stdout",
     "output_type": "stream",
     "text": [
      "enter string: hvGAFVBJK\n",
      "False\n"
     ]
    }
   ],
   "source": [
    "def check_str(s):\n",
    "    if s.count('1')+s.count('0')==len(s):\n",
    "        return True\n",
    "    return False\n",
    "\n",
    "\n",
    "\n",
    "\n",
    "string=input(\"enter string: \")\n",
    "print(check_str(string))\n"
   ]
  },
  {
   "cell_type": "code",
   "execution_count": null,
   "id": "eaf8d7b4",
   "metadata": {},
   "outputs": [],
   "source": []
  },
  {
   "cell_type": "markdown",
   "id": "ad78401e",
   "metadata": {},
   "source": [
    "# Q5.Write a Python program to find uncommon words from two Strings?"
   ]
  },
  {
   "cell_type": "code",
   "execution_count": 27,
   "id": "25456db5",
   "metadata": {},
   "outputs": [
    {
     "name": "stdout",
     "output_type": "stream",
     "text": [
      "Enter first string: mumbai delhi\n",
      "Enter second string: mumbai\n",
      "{'delhi'}\n"
     ]
    }
   ],
   "source": [
    "def unCommonWords():\n",
    "    s1 = set(str1.split(' '))\n",
    "    s2 = set(str2.split(' '))\n",
    "    res = (s1.union(s2)).difference(s1.intersection(s2))\n",
    "    print(res)\n",
    "    \n",
    "str1=input(\"Enter first string: \")\n",
    "str2=input(\"Enter second string: \")\n",
    "unCommonWords()"
   ]
  },
  {
   "cell_type": "markdown",
   "id": "09c0faaf",
   "metadata": {},
   "source": [
    "# Q6.Write a Python to find all duplicate characters in string?"
   ]
  },
  {
   "cell_type": "code",
   "execution_count": 9,
   "id": "52421a56",
   "metadata": {},
   "outputs": [
    {
     "name": "stdout",
     "output_type": "stream",
     "text": [
      "enter string rajkumarabc dsfef\n",
      "{'f', 'r', 'a'}\n"
     ]
    }
   ],
   "source": [
    "s=input(\"enter string \")\n",
    "l=[]\n",
    "for i in range(len(s)):\n",
    "    if(s.count(s[i])>1):\n",
    "        l.append(s[i])\n",
    "        \n",
    "print(set(l))\n",
    "        \n",
    "        "
   ]
  },
  {
   "cell_type": "markdown",
   "id": "a746e360",
   "metadata": {},
   "source": [
    "# Q7.Write a Python Program to check if a string contains any special character?"
   ]
  },
  {
   "cell_type": "code",
   "execution_count": 23,
   "id": "354c7970",
   "metadata": {},
   "outputs": [
    {
     "name": "stdout",
     "output_type": "stream",
     "text": [
      "enter string: raj&5&&##%\n",
      "Yes contain special char\n"
     ]
    }
   ],
   "source": [
    "import re\n",
    "\n",
    "def check(string):\n",
    "    spc_char=re.compile('[@_!$%^&*()<>?/\\|}{~:]#')\n",
    "    if spc_char.search(string) == None:\n",
    "        print(\"Not contain special char\")\n",
    "    else:\n",
    "        print(\"Yes contain special char\")\n",
    "string=input(\"enter string: \")\n",
    "check(string)"
   ]
  }
 ],
 "metadata": {
  "kernelspec": {
   "display_name": "Python 3 (ipykernel)",
   "language": "python",
   "name": "python3"
  },
  "language_info": {
   "codemirror_mode": {
    "name": "ipython",
    "version": 3
   },
   "file_extension": ".py",
   "mimetype": "text/x-python",
   "name": "python",
   "nbconvert_exporter": "python",
   "pygments_lexer": "ipython3",
   "version": "3.9.12"
  }
 },
 "nbformat": 4,
 "nbformat_minor": 5
}
