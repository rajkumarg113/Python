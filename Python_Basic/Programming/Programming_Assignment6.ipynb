{
 "cells": [
  {
   "cell_type": "markdown",
   "id": "7e31af21",
   "metadata": {},
   "source": [
    "# Write a Python Program to Display Fibonacci Sequence Using Recursion?"
   ]
  },
  {
   "cell_type": "code",
   "execution_count": 24,
   "id": "c5e5b795",
   "metadata": {},
   "outputs": [
    {
     "name": "stdout",
     "output_type": "stream",
     "text": [
      "how many fibonacci sequence u want?10\n",
      "0\n",
      "1\n",
      "1\n",
      "2\n",
      "3\n",
      "5\n",
      "8\n",
      "13\n",
      "21\n",
      "34\n"
     ]
    }
   ],
   "source": [
    "n=int(input(\"how many fibonacci sequence u want?\"))\n",
    "def fib(n):\n",
    "    if(n<=1):\n",
    "        return n\n",
    "    else:\n",
    "        return fib(n-1)+fib(n-2)\n",
    "for i in range(n):\n",
    "    print(fib(i))"
   ]
  },
  {
   "cell_type": "markdown",
   "id": "5ae4496d",
   "metadata": {},
   "source": [
    "# Write a Python Program to Find Factorial of Number Using Recursion?"
   ]
  },
  {
   "cell_type": "code",
   "execution_count": 4,
   "id": "92457b9f",
   "metadata": {},
   "outputs": [
    {
     "name": "stdout",
     "output_type": "stream",
     "text": [
      "enter number to get factorial:4\n",
      "24\n"
     ]
    }
   ],
   "source": [
    "num=int(input(\"enter number to get factorial:\"))\n",
    "def fact(n):\n",
    "    if(n>0):\n",
    "        return n*fact(n-1)\n",
    "    else:\n",
    "        return 1\n",
    "print(fact(num))\n"
   ]
  },
  {
   "cell_type": "markdown",
   "id": "e79455f9",
   "metadata": {},
   "source": [
    "# Write a Python Program to calculate your Body Mass Index?\n"
   ]
  },
  {
   "cell_type": "code",
   "execution_count": 6,
   "id": "01ccb485",
   "metadata": {},
   "outputs": [
    {
     "name": "stdout",
     "output_type": "stream",
     "text": [
      "enter your weight 45\n",
      "enter your height 1.60\n",
      "Your BMI is  28.125\n"
     ]
    }
   ],
   "source": [
    "wt=int(input(\"enter your weight \"))\n",
    "ht=float(input(\"enter your height \"))\n",
    "BMI=wt/ht\n",
    "print(\"Your BMI is \",BMI)"
   ]
  },
  {
   "cell_type": "code",
   "execution_count": null,
   "id": "0ea99bc1",
   "metadata": {},
   "outputs": [],
   "source": []
  },
  {
   "cell_type": "markdown",
   "id": "b091bd8e",
   "metadata": {},
   "source": [
    "# Write a Python Program to calculate the natural logarithm of any number?"
   ]
  },
  {
   "cell_type": "code",
   "execution_count": 14,
   "id": "ee8b07d4",
   "metadata": {},
   "outputs": [
    {
     "name": "stdout",
     "output_type": "stream",
     "text": [
      "enter any number to get its logarithmic:100\n",
      "enter base:10\n",
      "2.0\n"
     ]
    }
   ],
   "source": [
    "import math\n",
    "num=int(input(\"enter any number to get its logarithmic:\"))\n",
    "base=int(input(\"enter base:\"))\n",
    "print(math.log(num,base))"
   ]
  },
  {
   "cell_type": "markdown",
   "id": "d5984d81",
   "metadata": {},
   "source": [
    "# Write a Python Program for cube sum of first n natural numbers?"
   ]
  },
  {
   "cell_type": "code",
   "execution_count": 26,
   "id": "9c4ae036",
   "metadata": {},
   "outputs": [
    {
     "name": "stdout",
     "output_type": "stream",
     "text": [
      "Enter value of n:3\n",
      "sum of cube of 3 natural number is 36\n"
     ]
    }
   ],
   "source": [
    "n=int(input(\"Enter value of n:\"))\n",
    "i,total=1,0\n",
    "while(i<=n):\n",
    "    total+=i**3\n",
    "    i+=1;\n",
    "print(\"sum of cube of {} natural number is {}\".format(n,total))"
   ]
  }
 ],
 "metadata": {
  "kernelspec": {
   "display_name": "Python 3 (ipykernel)",
   "language": "python",
   "name": "python3"
  },
  "language_info": {
   "codemirror_mode": {
    "name": "ipython",
    "version": 3
   },
   "file_extension": ".py",
   "mimetype": "text/x-python",
   "name": "python",
   "nbconvert_exporter": "python",
   "pygments_lexer": "ipython3",
   "version": "3.9.12"
  }
 },
 "nbformat": 4,
 "nbformat_minor": 5
}
