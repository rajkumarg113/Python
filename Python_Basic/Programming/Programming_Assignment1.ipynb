{
 "cells": [
  {
   "cell_type": "code",
   "execution_count": 1,
   "id": "b7d6a86a",
   "metadata": {},
   "outputs": [],
   "source": [
    "#Q1.Write a Python program to print \"Hello Python\"?"
   ]
  },
  {
   "cell_type": "code",
   "execution_count": 2,
   "id": "33fef1b7",
   "metadata": {},
   "outputs": [
    {
     "name": "stdout",
     "output_type": "stream",
     "text": [
      "Hello Python\n"
     ]
    }
   ],
   "source": [
    "print(\"Hello Python\")"
   ]
  },
  {
   "cell_type": "code",
   "execution_count": 3,
   "id": "8fa59046",
   "metadata": {},
   "outputs": [],
   "source": [
    "#for double quotation"
   ]
  },
  {
   "cell_type": "code",
   "execution_count": 10,
   "id": "053d7107",
   "metadata": {},
   "outputs": [
    {
     "name": "stdout",
     "output_type": "stream",
     "text": [
      "\"Hello Python\"\n"
     ]
    }
   ],
   "source": [
    "print(\"\\\"Hello Python\\\"\")"
   ]
  },
  {
   "cell_type": "code",
   "execution_count": 11,
   "id": "9cfc8590",
   "metadata": {},
   "outputs": [],
   "source": [
    "#Q2.Write a Python program to do arithmetical operations addition and division.?"
   ]
  },
  {
   "cell_type": "code",
   "execution_count": 13,
   "id": "fae5150b",
   "metadata": {},
   "outputs": [
    {
     "name": "stdout",
     "output_type": "stream",
     "text": [
      "15\n",
      "2.0\n"
     ]
    }
   ],
   "source": [
    "a=10\n",
    "b=5\n",
    "print(a+b)\n",
    "print(a/b)"
   ]
  },
  {
   "cell_type": "code",
   "execution_count": 14,
   "id": "240a2ae6",
   "metadata": {},
   "outputs": [],
   "source": [
    "#Q3.Write a Python program to find the area of a triangle?"
   ]
  },
  {
   "cell_type": "code",
   "execution_count": 17,
   "id": "aa3c0f28",
   "metadata": {},
   "outputs": [
    {
     "name": "stdout",
     "output_type": "stream",
     "text": [
      "enter base:12\n",
      "enter height:4\n",
      "Area of Triangle is 24.0 sq\n"
     ]
    }
   ],
   "source": [
    "b=int(input(\"enter base:\"))\n",
    "h=int(input(\"enter height:\"))\n",
    "area=(b*h)/2;\n",
    "print(\"Area of Triangle is {} sq unit\".format(area))"
   ]
  },
  {
   "cell_type": "code",
   "execution_count": 18,
   "id": "5db49bda",
   "metadata": {},
   "outputs": [],
   "source": [
    "#Q4.Write a Python program to swap two variables?"
   ]
  },
  {
   "cell_type": "code",
   "execution_count": 25,
   "id": "c58359d6",
   "metadata": {},
   "outputs": [
    {
     "name": "stdout",
     "output_type": "stream",
     "text": [
      "Before swapping a=4  b=5\n",
      "After  swapping a=5  b=4\n"
     ]
    }
   ],
   "source": [
    "a,b=4,5;\n",
    "print(\"Before swapping a={}  b={}\".format(a,b))\n",
    "a=a+b;\n",
    "b=a-b;\n",
    "a=a-b;\n",
    "print(\"After  swapping a={}  b={}\".format(a,b))"
   ]
  },
  {
   "cell_type": "code",
   "execution_count": 26,
   "id": "d97e88b7",
   "metadata": {},
   "outputs": [],
   "source": [
    "#Q5.Write a Python program to generate a random number?"
   ]
  },
  {
   "cell_type": "code",
   "execution_count": 34,
   "id": "fb9330f3",
   "metadata": {},
   "outputs": [
    {
     "name": "stdout",
     "output_type": "stream",
     "text": [
      "Python has generated random number 58\n"
     ]
    }
   ],
   "source": [
    "import random\n",
    "rm_no=random.randint(1,100)  #for integer\n",
    "print(\"Python has generated random number {}\".format(rm_no))"
   ]
  }
 ],
 "metadata": {
  "kernelspec": {
   "display_name": "Python 3 (ipykernel)",
   "language": "python",
   "name": "python3"
  },
  "language_info": {
   "codemirror_mode": {
    "name": "ipython",
    "version": 3
   },
   "file_extension": ".py",
   "mimetype": "text/x-python",
   "name": "python",
   "nbconvert_exporter": "python",
   "pygments_lexer": "ipython3",
   "version": "3.9.12"
  }
 },
 "nbformat": 4,
 "nbformat_minor": 5
}
