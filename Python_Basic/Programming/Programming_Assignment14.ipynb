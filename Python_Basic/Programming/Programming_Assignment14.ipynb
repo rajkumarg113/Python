{
 "cells": [
  {
   "cell_type": "markdown",
   "id": "e1b6c2a5",
   "metadata": {},
   "source": [
    "Q1.Define a class with a generator which can iterate the numbers, which are divisible by 7, between a given range 0 and n."
   ]
  },
  {
   "cell_type": "code",
   "execution_count": 5,
   "id": "7df65557",
   "metadata": {},
   "outputs": [
    {
     "name": "stdout",
     "output_type": "stream",
     "text": [
      "0 7 14 21 28 35 42 49 56 63 70 77 84 91 98 105 112 119 126 133 140 147 154 161 168 175 182 189 196 203 210 217 224 231 238 245 252 259 266 273 280 287 294 301 308 315 322 329 336 343 350 357 364 371 378 385 392 399 "
     ]
    }
   ],
   "source": [
    "class generator:\n",
    "    def __init__(self,num):\n",
    "        self.n=num\n",
    "    def generate_num(self):\n",
    "        for i in range(0,self.n+1):\n",
    "            if i%7==0:\n",
    "                yield i\n",
    "obj=generator(400)\n",
    "for i in obj.generate_num():\n",
    "    print(i,end=' ')"
   ]
  },
  {
   "cell_type": "markdown",
   "id": "abf426b0",
   "metadata": {},
   "source": [
    "Q2.Write a program to compute the frequency of the words from the input. The output should output after sorting the key alphanumerically. "
   ]
  },
  {
   "cell_type": "code",
   "execution_count": 7,
   "id": "d8dd70b7",
   "metadata": {},
   "outputs": [
    {
     "name": "stdout",
     "output_type": "stream",
     "text": [
      "Enter the string: raj kumar 1 raj 1 5 6 3 python \n",
      "1:2 3:1 5:1 6:1 kumar:1 python:1 raj:2 "
     ]
    }
   ],
   "source": [
    "def checkFrequency():\n",
    "        string=input(\"Enter the string: \")\n",
    "        freq= {}\n",
    "        for i in string.split():\n",
    "            if (freq.get(i)==None):\n",
    "                 freq[i]=1\n",
    "            else:\n",
    "                freq[i]+=1\n",
    "        for i in sorted(freq):\n",
    "            print(f'{i}:{freq[i]}',end=' ')\n",
    "checkFrequency()"
   ]
  },
  {
   "cell_type": "markdown",
   "id": "b8023050",
   "metadata": {},
   "source": [
    "Q3.Define a class Person and its two child classes: Male and Female. All classes have a method \"getGender\" which can print \"Male\" for Male class and \"Female\" for Female class."
   ]
  },
  {
   "cell_type": "code",
   "execution_count": 8,
   "id": "eff92ae7",
   "metadata": {},
   "outputs": [
    {
     "name": "stdout",
     "output_type": "stream",
     "text": [
      "Male\n",
      "Female\n"
     ]
    }
   ],
   "source": [
    "class Person:\n",
    "    def getGender(self):\n",
    "        pass\n",
    "class Male(Person):\n",
    "    def getGender(self):\n",
    "        print(\"Male\")\n",
    "class Female(Person):\n",
    "    def getGender(self):\n",
    "        print(\"Female\")\n",
    "m=Male()\n",
    "m.getGender()\n",
    "f=Female()\n",
    "f.getGender()"
   ]
  },
  {
   "cell_type": "markdown",
   "id": "9ec144d2",
   "metadata": {},
   "source": [
    "Q4.Please write a program to generate all sentences where subject is in [\"I\", \"You\"] and verb is in [\"Play\", \"Love\"] and the object is in [\"Hockey\",\"Football\"]."
   ]
  },
  {
   "cell_type": "code",
   "execution_count": 9,
   "id": "144182c3",
   "metadata": {},
   "outputs": [
    {
     "name": "stdout",
     "output_type": "stream",
     "text": [
      "I Play Hockey\n",
      "I Play Football\n",
      "I Love Hockey\n",
      "I Love Football\n",
      "You Play Hockey\n",
      "You Play Football\n",
      "You Love Hockey\n",
      "You Love Football\n"
     ]
    }
   ],
   "source": [
    "def gen_Sentence():\n",
    "    subject = [\"I\",\"You\"]\n",
    "    verb = [\"Play\",\"Love\"]\n",
    "    object = ['Hockey','Football']\n",
    "    for s in subject:\n",
    "        for v in verb:\n",
    "            for o in object:\n",
    "                print(f'{s} {v} {o}')\n",
    "gen_Sentence()"
   ]
  },
  {
   "cell_type": "markdown",
   "id": "296e71a5",
   "metadata": {},
   "source": [
    "Q5.Please write a program to compress and decompress the string \"hello world!hello world!hello world!hello world!\"."
   ]
  },
  {
   "cell_type": "code",
   "execution_count": 12,
   "id": "492f793d",
   "metadata": {},
   "outputs": [
    {
     "name": "stdout",
     "output_type": "stream",
     "text": [
      "hel2o world!hel2o world!hel2o world!hel2o world!\n",
      " hello world!hello world!hello world!hello world!\n"
     ]
    }
   ],
   "source": [
    "def compress(string):\n",
    "    output=string[0]\n",
    "    count=1\n",
    "    for i in range(len(string)-1):\n",
    "        if string[i] == string[i+1]:\n",
    "            count+=1\n",
    "        else:\n",
    "            if count > 1:\n",
    "                output += str(count)\n",
    "            output += string[i+1]\n",
    "            count = 1\n",
    "    if count > 1:\n",
    "        output += str(count)\n",
    "    print(output)\n",
    "    \n",
    "def decompress(string):\n",
    "    output = ' '\n",
    "    for i in range(len(string)):\n",
    "        if string[i].isdigit():\n",
    "            output += output[-1]*(int(string[i])-1)\n",
    "        else:\n",
    "            output += string[i]\n",
    "    print(output)\n",
    "compress(\"hello world!hello world!hello world!hello world!\")\n",
    "decompress(\"hel2o world!hel2o world!hel2o world!hel2o world!\")"
   ]
  },
  {
   "cell_type": "markdown",
   "id": "8957a314",
   "metadata": {},
   "source": [
    "Q6.Please write a binary search function which searches an item in a sorted list. The function should return the index of element to be searched in the list."
   ]
  },
  {
   "cell_type": "code",
   "execution_count": 16,
   "id": "08857be2",
   "metadata": {},
   "outputs": [
    {
     "name": "stdout",
     "output_type": "stream",
     "text": [
      "None\n",
      "10\n"
     ]
    }
   ],
   "source": [
    "arr= [0,1,12,13,24,25,36,47,48,79,100]\n",
    "def binary_search(arr,key):\n",
    "    low = 0\n",
    "    high = len(arr)-1\n",
    "    while low < high:\n",
    "        mid = high+low//2\n",
    "        if arr[mid] < key:\n",
    "            low = mid+1\n",
    "        elif arr[mid] > key:\n",
    "            high = mid - 1\n",
    "        else:\n",
    "            return mid\n",
    "print(binary_search(arr,8))\n",
    "print(binary_search(arr,100))"
   ]
  },
  {
   "cell_type": "code",
   "execution_count": null,
   "id": "d08bb0ab",
   "metadata": {},
   "outputs": [],
   "source": []
  }
 ],
 "metadata": {
  "kernelspec": {
   "display_name": "Python 3 (ipykernel)",
   "language": "python",
   "name": "python3"
  },
  "language_info": {
   "codemirror_mode": {
    "name": "ipython",
    "version": 3
   },
   "file_extension": ".py",
   "mimetype": "text/x-python",
   "name": "python",
   "nbconvert_exporter": "python",
   "pygments_lexer": "ipython3",
   "version": "3.10.9"
  }
 },
 "nbformat": 4,
 "nbformat_minor": 5
}
