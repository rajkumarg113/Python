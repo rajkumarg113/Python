{
 "cells": [
  {
   "cell_type": "markdown",
   "id": "e741a4fd",
   "metadata": {},
   "source": [
    "Q1.Question1. Create a function that takes three arguments a, b, c and returns the sum of the numbers that are evenly divided by c from the range a, b inclusive."
   ]
  },
  {
   "cell_type": "code",
   "execution_count": 2,
   "id": "bf12cd05",
   "metadata": {},
   "outputs": [
    {
     "name": "stdout",
     "output_type": "stream",
     "text": [
      "18\n"
     ]
    }
   ],
   "source": [
    "class sumOfnum:\n",
    "    def evensum_div(self,a,b,c):\n",
    "        self.a = a\n",
    "        self.b = b\n",
    "        self.c = c\n",
    "        sum = 0\n",
    "        for i in range(a,b+1):\n",
    "            if i%c == 0:\n",
    "                sum = sum+i\n",
    "        print(sum)\n",
    "obj = sumOfnum()\n",
    "obj.evensum_div(1,10,3)"
   ]
  },
  {
   "cell_type": "code",
   "execution_count": null,
   "id": "3acc6e12",
   "metadata": {},
   "outputs": [],
   "source": [
    "Q2.Create a function that returns True if a given inequality expression is correct and False otherwise."
   ]
  },
  {
   "cell_type": "code",
   "execution_count": 3,
   "id": "cbaaf580",
   "metadata": {},
   "outputs": [
    {
     "name": "stdout",
     "output_type": "stream",
     "text": [
      "Enter the inequality expression: 2<5<7\n",
      "True\n",
      "Enter the inequality expression: 6>8<10\n",
      "False\n",
      "Enter the inequality expression: 7>3<8\n",
      "True\n"
     ]
    }
   ],
   "source": [
    "def check_inequality():\n",
    "    string = input(\"Enter the inequality expression: \")\n",
    "    ans= eval(string)\n",
    "    print(ans)\n",
    "for x in range(3):\n",
    "    check_inequality()"
   ]
  },
  {
   "cell_type": "markdown",
   "id": "f3b7cbc3",
   "metadata": {},
   "source": [
    "Question3. Create a function that replaces all the vowels in a string with a specified character."
   ]
  },
  {
   "cell_type": "code",
   "execution_count": 5,
   "id": "832b5264",
   "metadata": {},
   "outputs": [
    {
     "name": "stdout",
     "output_type": "stream",
     "text": [
      "Enter the string: rajkumar\n",
      "Enter the replacement character: @\n",
      "r@jk@m@r\n"
     ]
    }
   ],
   "source": [
    "def replaceVowels():\n",
    "    vowels = ['a','e','i','o','u','A','E','I','O','U']\n",
    "    string = input(\"Enter the string: \")\n",
    "    char = input(\"Enter the replacement character: \")\n",
    "    for i in string:\n",
    "        if i in vowels:\n",
    "            string = string.replace(i,char)\n",
    "    print(string)\n",
    "replaceVowels()"
   ]
  },
  {
   "cell_type": "markdown",
   "id": "6c65c177",
   "metadata": {},
   "source": [
    "Question4. Write a function that calculates the factorial of a number recursively."
   ]
  },
  {
   "cell_type": "code",
   "execution_count": 9,
   "id": "80fab3c1",
   "metadata": {},
   "outputs": [
    {
     "data": {
      "text/plain": [
       "120"
      ]
     },
     "execution_count": 9,
     "metadata": {},
     "output_type": "execute_result"
    }
   ],
   "source": [
    "def factorial(n):\n",
    "    if n==0:\n",
    "        return 1\n",
    "    else:\n",
    "        return n*factorial(n-1)\n",
    "factorial(5)"
   ]
  },
  {
   "cell_type": "markdown",
   "id": "8627c66b",
   "metadata": {},
   "source": [
    "Q5.Hamming distance is the number of characters that differ between two strings."
   ]
  },
  {
   "cell_type": "code",
   "execution_count": 10,
   "id": "7e6467d5",
   "metadata": {},
   "outputs": [
    {
     "name": "stdout",
     "output_type": "stream",
     "text": [
      "Enter the first string: abcde\n",
      "Enter the second  string: abcee\n",
      "Hamming Difference of string1 annd string2  are:  1\n"
     ]
    }
   ],
   "source": [
    "def hammingDistance():\n",
    "    string1 = input(\"Enter the first string: \")\n",
    "    string2 = input(\"Enter the second  string: \")\n",
    "    if len(string1)==len(string2):\n",
    "        count = 0\n",
    "        for i in range(len(string1)):\n",
    "            if string1[i]!=string2[i]:\n",
    "                count=count+1\n",
    "        print(\"Hamming Difference of string1 annd string2  are: \",count)\n",
    "    else:\n",
    "        print(\"Both the  string is of same length\")\n",
    "hammingDistance()"
   ]
  },
  {
   "cell_type": "code",
   "execution_count": null,
   "id": "d904277e",
   "metadata": {},
   "outputs": [],
   "source": []
  },
  {
   "cell_type": "code",
   "execution_count": null,
   "id": "c6d9482a",
   "metadata": {},
   "outputs": [],
   "source": []
  },
  {
   "cell_type": "code",
   "execution_count": null,
   "id": "711ddb6e",
   "metadata": {},
   "outputs": [],
   "source": []
  }
 ],
 "metadata": {
  "kernelspec": {
   "display_name": "Python 3 (ipykernel)",
   "language": "python",
   "name": "python3"
  },
  "language_info": {
   "codemirror_mode": {
    "name": "ipython",
    "version": 3
   },
   "file_extension": ".py",
   "mimetype": "text/x-python",
   "name": "python",
   "nbconvert_exporter": "python",
   "pygments_lexer": "ipython3",
   "version": "3.10.9"
  }
 },
 "nbformat": 4,
 "nbformat_minor": 5
}
