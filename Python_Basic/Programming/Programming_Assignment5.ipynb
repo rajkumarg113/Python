{
 "cells": [
  {
   "cell_type": "markdown",
   "id": "efdf9995",
   "metadata": {},
   "source": [
    "# Write a Python Program to Find LCM? "
   ]
  },
  {
   "cell_type": "code",
   "execution_count": 5,
   "id": "8cd65295",
   "metadata": {},
   "outputs": [
    {
     "name": "stdout",
     "output_type": "stream",
     "text": [
      "enter first number:8\n",
      "enter second number:9\n",
      "72  is LCM\n"
     ]
    }
   ],
   "source": [
    "num1=int(input(\"enter first number:\"))\n",
    "num2=int(input(\"enter second number:\"))\n",
    "i=max(num1,num2)\n",
    "while(True):\n",
    "    if(i%num1==0 and i%num2==0):\n",
    "        print(i,\" is LCM\")\n",
    "        break;\n",
    "    i+=1;"
   ]
  },
  {
   "cell_type": "markdown",
   "id": "dea0ddbf",
   "metadata": {},
   "source": [
    "# Write a Python Program to Find HCF?"
   ]
  },
  {
   "cell_type": "code",
   "execution_count": 11,
   "id": "c31de05c",
   "metadata": {},
   "outputs": [
    {
     "name": "stdout",
     "output_type": "stream",
     "text": [
      "enter first number:5\n",
      "enter second number:10\n",
      "5  is HCF\n"
     ]
    }
   ],
   "source": [
    "num1=int(input(\"enter first number:\"))\n",
    "num2=int(input(\"enter second number:\"))\n",
    "i=2;\n",
    "min_no=min(num1,num2)\n",
    "while(i<=min_no):\n",
    "    if(num1%i==0 and num2%i==0):\n",
    "        print(i,\" is HCF\")\n",
    "        break;\n",
    "    i+=1;\n",
    "else:\n",
    "    print(\"1 is LCM\")"
   ]
  },
  {
   "cell_type": "code",
   "execution_count": null,
   "id": "194cf89b",
   "metadata": {},
   "outputs": [],
   "source": []
  },
  {
   "cell_type": "markdown",
   "id": "9e62562b",
   "metadata": {},
   "source": [
    "# Write a Python Program to Convert Decimal to Binary, Octal and Hexadecimal?"
   ]
  },
  {
   "cell_type": "code",
   "execution_count": 21,
   "id": "8b771fe8",
   "metadata": {},
   "outputs": [
    {
     "name": "stdout",
     "output_type": "stream",
     "text": [
      "enter decimal number 10\n",
      "Binary number is : 1010\n",
      "Octal NUmber is : 12\n",
      "Octal NUmber is : a\n"
     ]
    }
   ],
   "source": [
    "num=int(input(\"enter decimal number \"))\n",
    "print(\"Binary number is :\",bin(num).replace(\"0b\",\"\"))    //replacing number indication formate\n",
    "print(\"Octal NUmber is :\",oct(num).replace(\"0o\",\"\"))\n",
    "print(\"Octal NUmber is :\",hex(num).replace(\"0x\",\"\"))"
   ]
  },
  {
   "cell_type": "markdown",
   "id": "d15b8249",
   "metadata": {},
   "source": [
    "# Write a Python Program To Find ASCII value of a character?"
   ]
  },
  {
   "cell_type": "code",
   "execution_count": 1,
   "id": "3907db06",
   "metadata": {},
   "outputs": [
    {
     "name": "stdout",
     "output_type": "stream",
     "text": [
      "enter any character to find its ascii value:a\n",
      "ASCII value of  a  is  97\n"
     ]
    }
   ],
   "source": [
    "ch=input(\"enter any character to find its ascii value:\")\n",
    "print(\"ASCII value of \",ch, \" is \",ord(ch))"
   ]
  },
  {
   "cell_type": "markdown",
   "id": "4964f9ba",
   "metadata": {},
   "source": [
    "# Write a Python Program to Make a Simple Calculator with 4 basic mathematical operations?"
   ]
  },
  {
   "cell_type": "code",
   "execution_count": 2,
   "id": "6fb6069f",
   "metadata": {},
   "outputs": [
    {
     "name": "stdout",
     "output_type": "stream",
     "text": [
      "enter first number: 3\n",
      "enter second number: 5\n",
      "enter + or - * or />>>>*\n",
      "15\n"
     ]
    }
   ],
   "source": [
    "num1=int(input(\"enter first number: \"))\n",
    "num2=int(input(\"enter second number: \"))\n",
    "ch=input(\"enter + or - * or />>>>\")\n",
    "if(ch=='+'):\n",
    "    print(num1+num2)\n",
    "elif(ch=='-'):\n",
    "    print(num1-num2)\n",
    "elif(ch=='*'):\n",
    "    print(num1*num2)\n",
    "elif(ch=='/'):\n",
    "    if(num2==0):\n",
    "        print(\"divide by zero not possible\")\n",
    "    else:\n",
    "        print(num1/num2)\n",
    "else:\n",
    "    print(\"Enter valid character\")"
   ]
  },
  {
   "cell_type": "code",
   "execution_count": null,
   "id": "b1e09625",
   "metadata": {},
   "outputs": [],
   "source": []
  }
 ],
 "metadata": {
  "kernelspec": {
   "display_name": "Python 3 (ipykernel)",
   "language": "python",
   "name": "python3"
  },
  "language_info": {
   "codemirror_mode": {
    "name": "ipython",
    "version": 3
   },
   "file_extension": ".py",
   "mimetype": "text/x-python",
   "name": "python",
   "nbconvert_exporter": "python",
   "pygments_lexer": "ipython3",
   "version": "3.9.12"
  }
 },
 "nbformat": 4,
 "nbformat_minor": 5
}
