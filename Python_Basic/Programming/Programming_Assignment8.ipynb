{
 "cells": [
  {
   "cell_type": "markdown",
   "id": "7f77efb8",
   "metadata": {},
   "source": [
    "# Write a Python Program to Add Two Matrices?"
   ]
  },
  {
   "cell_type": "code",
   "execution_count": 47,
   "id": "93de76d0",
   "metadata": {},
   "outputs": [
    {
     "name": "stdout",
     "output_type": "stream",
     "text": [
      "[3, 6, 8, 6]\n",
      "[67, 52, 37, 25]\n",
      "[29, 65, 75, 93]\n"
     ]
    }
   ],
   "source": [
    "mat1=[[1,2,3,4],\n",
    "     [22,40,5,7],\n",
    "     [8,12,32,45]]\n",
    "mat2=[[2,4,5,2],\n",
    "     [45,12,32,18],\n",
    "     [21,53,43,48]]\n",
    "mat3=[[0,0,0,0],\n",
    "     [0,0,0,0],\n",
    "     [0,0,0,0]]\n",
    "for i in range(len(mat1)):\n",
    "    for j in range(len(mat1[0])):\n",
    "        mat3[i][j]=mat1[i][j]+mat2[i][j]\n",
    "for i in mat3:\n",
    "    print(i)\n",
    "            \n",
    "\n"
   ]
  },
  {
   "cell_type": "markdown",
   "id": "87c90b54",
   "metadata": {},
   "source": [
    "# Write a Python Program to Multiply Two Matrices? "
   ]
  },
  {
   "cell_type": "code",
   "execution_count": 42,
   "id": "f200e801",
   "metadata": {},
   "outputs": [
    {
     "name": "stdout",
     "output_type": "stream",
     "text": [
      "[239, 399, 370, 374]\n",
      "[2096, 1204, 1906, 1340]\n",
      "[2173, 4257, 3735, 3928]\n"
     ]
    }
   ],
   "source": [
    "mat1=[[1,2,3,4],\n",
    "      [22,40,5,7],\n",
    "      [8,12,32,45]]\n",
    "mat2=[[2,4,5,2],\n",
    "      [45,12,32,18],\n",
    "      [21,53,43,48],\n",
    "     [21,53,43,48]]\n",
    "mat3=[[0,0,0,0],\n",
    "     [0,0,0,0],\n",
    "     [0,0,0,0]]\n",
    "for i in range(len(mat1)):\n",
    "    for j in range(len(mat2[0])):\n",
    "        for k in range(len(mat2)):\n",
    "            mat3[i][j]+=mat1[i][k]*mat2[k][j]\n",
    "            \n",
    "for i in mat3:\n",
    "    print(i)\n"
   ]
  },
  {
   "cell_type": "markdown",
   "id": "92f14894",
   "metadata": {},
   "source": [
    "# Write a Python Program to Transpose a Matrix?\n"
   ]
  },
  {
   "cell_type": "code",
   "execution_count": 27,
   "id": "958c60ac",
   "metadata": {},
   "outputs": [
    {
     "name": "stdout",
     "output_type": "stream",
     "text": [
      "[1, 22, 8, 4]\n",
      "[2, 40, 12, 34]\n",
      "[3, 5, 32, 32]\n",
      "[4, 7, 45, 56]\n"
     ]
    }
   ],
   "source": [
    "mat=[ [1,2,3,4],\n",
    "      [22,40,5,7],\n",
    "      [8,12,32,45],\n",
    "      [4,34,32,56]]\n",
    "for i in range(len(mat)):\n",
    "    for j in range(i+1,len(mat)):\n",
    "        tmp=mat[i][j]\n",
    "        mat[i][j]=mat[j][i]\n",
    "        mat[j][i]=tmp\n",
    "for trans_mat in mat:\n",
    "    print(trans_mat)"
   ]
  },
  {
   "cell_type": "markdown",
   "id": "d88465e6",
   "metadata": {},
   "source": [
    "# Write a Python Program to Sort Words in Alphabetic Order?"
   ]
  },
  {
   "cell_type": "code",
   "execution_count": 37,
   "id": "ee90317a",
   "metadata": {},
   "outputs": [
    {
     "name": "stdout",
     "output_type": "stream",
     "text": [
      "Enter sentance:tjng zxs abc\n",
      "abc\n",
      "tjng\n",
      "zxs\n"
     ]
    }
   ],
   "source": [
    "sen=input(\"Enter sentance:\")\n",
    "words=sen.split(\" \")\n",
    "words.sort()\n",
    "for word in words:\n",
    "    print(word)\n",
    "\n"
   ]
  },
  {
   "cell_type": "markdown",
   "id": "9c7fde10",
   "metadata": {},
   "source": [
    "# Write a Python Program to Remove Punctuation From a String?"
   ]
  },
  {
   "cell_type": "code",
   "execution_count": 49,
   "id": "8ea495a5",
   "metadata": {},
   "outputs": [
    {
     "name": "stdout",
     "output_type": "stream",
     "text": [
      "enter string:add\\cd..&&\n",
      "addcd\n"
     ]
    }
   ],
   "source": [
    "punc='''!()-[]{};:'\"\\,<>./?@#$%^&*_~'''\n",
    "string=input(\"enter string:\")\n",
    "res=\"\"\n",
    "for i in string:\n",
    "    if i not in punc:\n",
    "        res+=i\n",
    "print(res)"
   ]
  },
  {
   "cell_type": "code",
   "execution_count": null,
   "id": "bf770a34",
   "metadata": {},
   "outputs": [],
   "source": []
  }
 ],
 "metadata": {
  "kernelspec": {
   "display_name": "Python 3 (ipykernel)",
   "language": "python",
   "name": "python3"
  },
  "language_info": {
   "codemirror_mode": {
    "name": "ipython",
    "version": 3
   },
   "file_extension": ".py",
   "mimetype": "text/x-python",
   "name": "python",
   "nbconvert_exporter": "python",
   "pygments_lexer": "ipython3",
   "version": "3.9.12"
  }
 },
 "nbformat": 4,
 "nbformat_minor": 5
}
