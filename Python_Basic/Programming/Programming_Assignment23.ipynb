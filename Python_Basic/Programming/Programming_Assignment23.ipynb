{
 "cells": [
  {
   "cell_type": "markdown",
   "id": "5c018ae8",
   "metadata": {},
   "source": [
    "Question 1\n",
    "Create a function that takes a number as an argument and returns True or False depending on whether the number is symmetrical or not. A number is symmetrical when it is the same as its reverse.\n"
   ]
  },
  {
   "cell_type": "code",
   "execution_count": 2,
   "id": "b9b57a59",
   "metadata": {},
   "outputs": [
    {
     "name": "stdout",
     "output_type": "stream",
     "text": [
      "True\n",
      "False\n",
      "True\n",
      "False\n",
      "True\n"
     ]
    }
   ],
   "source": [
    "def is_symmetrical(num):\n",
    "    if str(num) == str(num)[::-1]:\n",
    "        print(\"True\")\n",
    "    else:\n",
    "        print(\"False\")\n",
    "is_symmetrical(7227)\n",
    "is_symmetrical(12567) \n",
    "is_symmetrical(44444444) \n",
    "is_symmetrical(9939) \n",
    "is_symmetrical(1112111)"
   ]
  },
  {
   "cell_type": "markdown",
   "id": "14818036",
   "metadata": {},
   "source": [
    "Question 2\n",
    "Given a string of numbers separated by a comma and space, return the product of the numbers."
   ]
  },
  {
   "cell_type": "code",
   "execution_count": 4,
   "id": "fdec1841",
   "metadata": {},
   "outputs": [
    {
     "name": "stdout",
     "output_type": "stream",
     "text": [
      "2,3 : 6\n",
      "1,2,3,4 : 24\n",
      "54,75,453,0 : 0\n",
      "10,-2 : -20\n"
     ]
    }
   ],
   "source": [
    "def multiply_nums(string):\n",
    "    m_string = string.split(',')\n",
    "    res = 1\n",
    "    for i in m_string:\n",
    "        res *= int(i)\n",
    "    print(f\"{string} : {res}\")\n",
    "  \n",
    "multiply_nums(\"2,3\")\n",
    "multiply_nums(\"1,2,3,4\")\n",
    "multiply_nums(\"54,75,453,0\") \n",
    "multiply_nums(\"10,-2\") "
   ]
  },
  {
   "cell_type": "markdown",
   "id": "e358b90f",
   "metadata": {},
   "source": [
    "Question 3\n",
    "Create a function that squares every digit of a number.\n"
   ]
  },
  {
   "cell_type": "code",
   "execution_count": null,
   "id": "2e0d37d6",
   "metadata": {},
   "outputs": [],
   "source": [
    "def square_digits(num):\n",
    "    l = [str(int(i)**2)  for i in str(in_num)]\n",
    "    out_list = ''.join(in_list)\n",
    "    print(f\"{in_num} : {out_list}\")\n",
    "square_digits(9119) \n",
    "square_digits(2483) \n",
    "square_digits(3212) "
   ]
  },
  {
   "cell_type": "markdown",
   "id": "5fc19b20",
   "metadata": {},
   "source": [
    "Question 4\n",
    "Create a function that sorts a list and removes all duplicate items from it.\n"
   ]
  },
  {
   "cell_type": "code",
   "execution_count": 6,
   "id": "f9b5450f",
   "metadata": {},
   "outputs": [
    {
     "name": "stdout",
     "output_type": "stream",
     "text": [
      "[1, 3, 3, 5, 5]: [1, 3, 5]\n",
      "[4, 4, 4, 4]: [4]\n",
      "[5, 7, 8, 9, 10, 15]: [5, 7, 8, 9, 10, 15]\n",
      "[3, 3, 3, 2, 1]: [1, 2, 3]\n"
     ]
    }
   ],
   "source": [
    "def sort_remove(list):\n",
    "    res = sorted(set(list))\n",
    "    print(f\"{list}: {res}\")\n",
    "sort_remove([1,3,3,5,5]) \n",
    "sort_remove([4,4,4,4]) \n",
    "sort_remove([5,7,8,9,10,15])\n",
    "sort_remove([3,3,3,2,1])"
   ]
  },
  {
   "cell_type": "markdown",
   "id": "34ef1e75",
   "metadata": {},
   "source": [
    "Question 5\n",
    "Create a function that returns the mean of all digits.\n"
   ]
  },
  {
   "cell_type": "code",
   "execution_count": 9,
   "id": "511a7146",
   "metadata": {},
   "outputs": [
    {
     "name": "stdout",
     "output_type": "stream",
     "text": [
      "42: 3.0\n",
      "12345: 3.0\n",
      "666: 6.0\n"
     ]
    }
   ],
   "source": [
    "def mean_list(num):\n",
    "    list = [int(i) for i in str(num)]\n",
    "    ans = sum(list)/len(str(num))\n",
    "    print(f\"{num}: {ans}\")\n",
    "mean_list(42)\n",
    "mean_list(12345)\n",
    "mean_list(666)"
   ]
  },
  {
   "cell_type": "code",
   "execution_count": null,
   "id": "18c4e1e0",
   "metadata": {},
   "outputs": [],
   "source": []
  }
 ],
 "metadata": {
  "kernelspec": {
   "display_name": "Python 3 (ipykernel)",
   "language": "python",
   "name": "python3"
  },
  "language_info": {
   "codemirror_mode": {
    "name": "ipython",
    "version": 3
   },
   "file_extension": ".py",
   "mimetype": "text/x-python",
   "name": "python",
   "nbconvert_exporter": "python",
   "pygments_lexer": "ipython3",
   "version": "3.10.9"
  }
 },
 "nbformat": 4,
 "nbformat_minor": 5
}
