{
 "cells": [
  {
   "cell_type": "markdown",
   "id": "7eccf1e7",
   "metadata": {},
   "source": [
    "# Q1.How do you distinguish between shutil.copy() and shutil.copytree()?"
   ]
  },
  {
   "cell_type": "code",
   "execution_count": 2,
   "id": "e0dd9d68",
   "metadata": {},
   "outputs": [],
   "source": [
    "#copy() will copy a single file, shutil. copytree() will copy an entire folder and every folder and file contained in it."
   ]
  },
  {
   "cell_type": "code",
   "execution_count": null,
   "id": "04ddb7f5",
   "metadata": {},
   "outputs": [],
   "source": []
  },
  {
   "cell_type": "markdown",
   "id": "47cd37f0",
   "metadata": {},
   "source": [
    "# Q2. What function is used to rename files?"
   ]
  },
  {
   "cell_type": "code",
   "execution_count": null,
   "id": "5003d8a9",
   "metadata": {},
   "outputs": [],
   "source": [
    "#os.rename() methis is used"
   ]
  },
  {
   "cell_type": "code",
   "execution_count": null,
   "id": "1860efad",
   "metadata": {},
   "outputs": [],
   "source": []
  },
  {
   "cell_type": "markdown",
   "id": "0f1326d2",
   "metadata": {},
   "source": [
    "# Q3. What is the difference between the delete function in the send2trash and shutil modules?"
   ]
  },
  {
   "cell_type": "code",
   "execution_count": 4,
   "id": "68bca9e2",
   "metadata": {},
   "outputs": [],
   "source": [
    "#The send2trash functions will move a file or folder to the recycle bin , while shutil functions will permanently delete files and folders."
   ]
  },
  {
   "cell_type": "code",
   "execution_count": null,
   "id": "2c3d798b",
   "metadata": {},
   "outputs": [],
   "source": []
  },
  {
   "cell_type": "code",
   "execution_count": null,
   "id": "82b9c8c3",
   "metadata": {},
   "outputs": [],
   "source": []
  },
  {
   "cell_type": "markdown",
   "id": "5cb9d167",
   "metadata": {},
   "source": [
    "# Q4.ZipFile objects have a close() method just like File objects’ close() method. What ZipFile method is equivalent to File objects’ open() method?"
   ]
  },
  {
   "cell_type": "code",
   "execution_count": null,
   "id": "8e7f2221",
   "metadata": {},
   "outputs": [],
   "source": [
    "#The zipfile.zipFile() function is equivalent to the open() function; the first argument is the filename , and the second\n",
    "#  argument is the mode to open the ZIP file in (read,write,or append)"
   ]
  },
  {
   "cell_type": "code",
   "execution_count": null,
   "id": "9ae203e4",
   "metadata": {},
   "outputs": [],
   "source": []
  },
  {
   "cell_type": "markdown",
   "id": "bc24e704",
   "metadata": {},
   "source": [
    "# Q5. Create a programme that searches a folder tree for files with a certain file extension (such as .pdf or .jpg). Copy these files from whatever location they are in to a new folder."
   ]
  },
  {
   "cell_type": "code",
   "execution_count": 5,
   "id": "b7f7bc64",
   "metadata": {},
   "outputs": [
    {
     "name": "stdout",
     "output_type": "stream",
     "text": [
      "Looking in F:\\DataScience\\Assignment\\Python_Basic\\theory\\randomFolder for files with extensions of  .php, .py\n"
     ]
    }
   ],
   "source": [
    "import os , shutil\n",
    "def selectiveCopy(folder,extensions,destFolder):\n",
    "    folder = os.path.abspath(folder)\n",
    "    destFolder = os.path.abspath(destFolder)\n",
    "    print('Looking in', folder , 'for files with extensions of', ','.join(extensions))\n",
    "    for foldername,subfolders,filenames in os.walk(folder):\n",
    "        for filename in filenames:\n",
    "            name,extension = os.path.splitext(filename)\n",
    "            if extension in extensions:\n",
    "                fileAbsPath = foldername + os.path.sep + filename\n",
    "                print('Copying', fileAbsPath,'to',destFolder)\n",
    "                shutil.copy(fileAbsPath,destFolder)\n",
    "extensions = [' .php' , ' .py']\n",
    "folder = 'randomFolder'\n",
    "destFolder = 'selectiveFolder'\n",
    "selectiveCopy(folder,extensions,destFolder)"
   ]
  },
  {
   "cell_type": "code",
   "execution_count": null,
   "id": "7031445b",
   "metadata": {},
   "outputs": [],
   "source": []
  },
  {
   "cell_type": "code",
   "execution_count": null,
   "id": "32370d53",
   "metadata": {},
   "outputs": [],
   "source": []
  },
  {
   "cell_type": "code",
   "execution_count": null,
   "id": "765db17f",
   "metadata": {},
   "outputs": [],
   "source": []
  },
  {
   "cell_type": "code",
   "execution_count": null,
   "id": "66db5b68",
   "metadata": {},
   "outputs": [],
   "source": []
  }
 ],
 "metadata": {
  "kernelspec": {
   "display_name": "Python 3 (ipykernel)",
   "language": "python",
   "name": "python3"
  },
  "language_info": {
   "codemirror_mode": {
    "name": "ipython",
    "version": 3
   },
   "file_extension": ".py",
   "mimetype": "text/x-python",
   "name": "python",
   "nbconvert_exporter": "python",
   "pygments_lexer": "ipython3",
   "version": "3.10.9"
  }
 },
 "nbformat": 4,
 "nbformat_minor": 5
}
