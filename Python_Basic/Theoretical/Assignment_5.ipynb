{
 "cells": [
  {
   "cell_type": "markdown",
   "id": "43afe3d0",
   "metadata": {},
   "source": [
    "# Q1.What does an empty dictionary's code look like?"
   ]
  },
  {
   "cell_type": "code",
   "execution_count": 1,
   "id": "b61b06d7",
   "metadata": {},
   "outputs": [
    {
     "name": "stdout",
     "output_type": "stream",
     "text": [
      "<class 'dict'>\n"
     ]
    }
   ],
   "source": [
    "d={}\n",
    "print(type(d))"
   ]
  },
  {
   "cell_type": "markdown",
   "id": "20abe6b8",
   "metadata": {},
   "source": [
    "# Q2.What is the value of a dictionary value with the key 'foo' and the value 42?"
   ]
  },
  {
   "cell_type": "code",
   "execution_count": 5,
   "id": "7412d211",
   "metadata": {},
   "outputs": [
    {
     "name": "stdout",
     "output_type": "stream",
     "text": [
      "dict_values([42])\n"
     ]
    }
   ],
   "source": [
    "d={'foo':42}\n",
    "print(d.values())"
   ]
  },
  {
   "cell_type": "markdown",
   "id": "dfacb3f4",
   "metadata": {},
   "source": [
    "# Q3.What is the most significant distinction between a dictionary and a list?"
   ]
  },
  {
   "cell_type": "code",
   "execution_count": null,
   "id": "00fe5a71",
   "metadata": {},
   "outputs": [],
   "source": [
    "#ans>>>>1)list is ordered colection of data whereas dictionary is unordered colection data in dictionary data is \n",
    "#        stored as key value pair \n",
    "#        2)we can store duplicate va;ue in list but wr cant store diplicate key in dictionary\n",
    "\n"
   ]
  },
  {
   "cell_type": "markdown",
   "id": "447271d3",
   "metadata": {},
   "source": [
    "# Q4.What happens if you try to access spam['foo'] if spam is {'bar': 100}?"
   ]
  },
  {
   "cell_type": "code",
   "execution_count": 7,
   "id": "80f2f7bf",
   "metadata": {},
   "outputs": [],
   "source": [
    "#ans>>>it  will throw key error "
   ]
  },
  {
   "cell_type": "markdown",
   "id": "53a9392f",
   "metadata": {},
   "source": [
    "# Q5.If a dictionary is stored in spam, what is the difference between the expressions'cat' in spam and 'cat' in spam.keys()?"
   ]
  },
  {
   "cell_type": "code",
   "execution_count": null,
   "id": "d048b824",
   "metadata": {},
   "outputs": [],
   "source": [
    "#ans>>>>>no difference both will return true as shown below"
   ]
  },
  {
   "cell_type": "code",
   "execution_count": 10,
   "id": "3753dd5b",
   "metadata": {},
   "outputs": [],
   "source": [
    "spam={'cat':'mou'}       "
   ]
  },
  {
   "cell_type": "code",
   "execution_count": 11,
   "id": "79aab524",
   "metadata": {},
   "outputs": [
    {
     "data": {
      "text/plain": [
       "True"
      ]
     },
     "execution_count": 11,
     "metadata": {},
     "output_type": "execute_result"
    }
   ],
   "source": [
    "'cat' in spam"
   ]
  },
  {
   "cell_type": "code",
   "execution_count": 13,
   "id": "14a3657a",
   "metadata": {},
   "outputs": [
    {
     "data": {
      "text/plain": [
       "True"
      ]
     },
     "execution_count": 13,
     "metadata": {},
     "output_type": "execute_result"
    }
   ],
   "source": [
    "'cat' in  spam.keys()"
   ]
  },
  {
   "cell_type": "markdown",
   "id": "eaa31a5b",
   "metadata": {},
   "source": [
    "# Q6.If a dictionary is stored in spam, what is the difference between the expressions 'cat' in spam and 'cat' in spam.values()?"
   ]
  },
  {
   "cell_type": "code",
   "execution_count": null,
   "id": "94bb6f91",
   "metadata": {},
   "outputs": [],
   "source": [
    "ans>>> it wll  return true in firat one but false i second one becaues spam.values check in value not in keys"
   ]
  },
  {
   "cell_type": "code",
   "execution_count": null,
   "id": "eb2c4813",
   "metadata": {},
   "outputs": [],
   "source": [
    "spam={'cat':'mou'} "
   ]
  },
  {
   "cell_type": "code",
   "execution_count": 17,
   "id": "a8684d1a",
   "metadata": {},
   "outputs": [
    {
     "data": {
      "text/plain": [
       "True"
      ]
     },
     "execution_count": 17,
     "metadata": {},
     "output_type": "execute_result"
    }
   ],
   "source": [
    "'cat' in spam"
   ]
  },
  {
   "cell_type": "code",
   "execution_count": 16,
   "id": "709c9521",
   "metadata": {},
   "outputs": [
    {
     "data": {
      "text/plain": [
       "False"
      ]
     },
     "execution_count": 16,
     "metadata": {},
     "output_type": "execute_result"
    }
   ],
   "source": [
    "'cat' in  spam.values()"
   ]
  },
  {
   "cell_type": "markdown",
   "id": "b1b387e5",
   "metadata": {},
   "source": [
    "# Q7.What is a shortcut for the following code?"
   ]
  },
  {
   "cell_type": "code",
   "execution_count": null,
   "id": "f6e49345",
   "metadata": {},
   "outputs": [],
   "source": [
    "#if 'color' not in spam:\n",
    "#spam['color'] = 'black'"
   ]
  },
  {
   "cell_type": "code",
   "execution_count": 30,
   "id": "e1ac4ba4",
   "metadata": {},
   "outputs": [
    {
     "name": "stdout",
     "output_type": "stream",
     "text": [
      "{1: 2, 'color': 'black'}\n"
     ]
    }
   ],
   "source": [
    "spam={1:2}\n",
    "spam.setdefault('color','black')\n",
    "print(spam)"
   ]
  },
  {
   "cell_type": "markdown",
   "id": "92d12e91",
   "metadata": {},
   "source": [
    "# Q8.How do you \"preety print\" dictionary values using which module and function?"
   ]
  },
  {
   "cell_type": "code",
   "execution_count": 18,
   "id": "bbc93c51",
   "metadata": {},
   "outputs": [],
   "source": [
    "#ans>>> module is pprint and function is also pprint"
   ]
  },
  {
   "cell_type": "code",
   "execution_count": 22,
   "id": "77b3a948",
   "metadata": {},
   "outputs": [],
   "source": [
    "import pprint"
   ]
  },
  {
   "cell_type": "code",
   "execution_count": 24,
   "id": "e2015ebc",
   "metadata": {},
   "outputs": [
    {
     "name": "stdout",
     "output_type": "stream",
     "text": [
      "{'course': 'mca', 'name': 'rajkumar'}\n",
      "{'name': 'rajkumar', 'course': 'mca'}\n"
     ]
    }
   ],
   "source": [
    "d={'name':'rajkumar','course':'mca'}\n",
    "pprint.pprint(d)"
   ]
  },
  {
   "cell_type": "code",
   "execution_count": null,
   "id": "92518d12",
   "metadata": {},
   "outputs": [],
   "source": []
  }
 ],
 "metadata": {
  "kernelspec": {
   "display_name": "Python 3 (ipykernel)",
   "language": "python",
   "name": "python3"
  },
  "language_info": {
   "codemirror_mode": {
    "name": "ipython",
    "version": 3
   },
   "file_extension": ".py",
   "mimetype": "text/x-python",
   "name": "python",
   "nbconvert_exporter": "python",
   "pygments_lexer": "ipython3",
   "version": "3.9.12"
  }
 },
 "nbformat": 4,
 "nbformat_minor": 5
}
