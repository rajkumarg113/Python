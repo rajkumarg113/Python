{
 "cells": [
  {
   "cell_type": "markdown",
   "id": "49ededdf",
   "metadata": {},
   "source": [
    "# Q1.What exactly is []?"
   ]
  },
  {
   "cell_type": "code",
   "execution_count": 1,
   "id": "7edb5a54",
   "metadata": {},
   "outputs": [],
   "source": [
    "#ans>>>This is slicing operator which take start,end,step three parameter sepated by semicolon"
   ]
  },
  {
   "cell_type": "markdown",
   "id": "43dccf79",
   "metadata": {},
   "source": [
    "# Q2.In a list of values stored in a variable called spam, how would you assign the value 'hello' as the third value? (Assume [2, 4, 6, 8, 10] are in spam.)"
   ]
  },
  {
   "cell_type": "code",
   "execution_count": 2,
   "id": "ca578bfc",
   "metadata": {},
   "outputs": [],
   "source": [
    "spam=[2,4,6,8,10]\n",
    "spam.insert(2,'hello')"
   ]
  },
  {
   "cell_type": "code",
   "execution_count": 3,
   "id": "0207dbe6",
   "metadata": {},
   "outputs": [
    {
     "data": {
      "text/plain": [
       "[2, 4, 'hello', 6, 8, 10]"
      ]
     },
     "execution_count": 3,
     "metadata": {},
     "output_type": "execute_result"
    }
   ],
   "source": [
    "spam"
   ]
  },
  {
   "cell_type": "markdown",
   "id": "c78d1b83",
   "metadata": {},
   "source": [
    "# Let's pretend the spam includes the list ['a', 'b', 'c', 'd'] for the next three queries."
   ]
  },
  {
   "cell_type": "code",
   "execution_count": 5,
   "id": "538b4680",
   "metadata": {},
   "outputs": [
    {
     "data": {
      "text/plain": [
       "6"
      ]
     },
     "execution_count": 5,
     "metadata": {},
     "output_type": "execute_result"
    }
   ],
   "source": [
    "#Q3.What is the value of spam[int(int('3' * 2) / 11)]?\n",
    "spam[int(int('3' * 2) / 11)]"
   ]
  },
  {
   "cell_type": "code",
   "execution_count": 6,
   "id": "3e3fbfef",
   "metadata": {},
   "outputs": [
    {
     "data": {
      "text/plain": [
       "10"
      ]
     },
     "execution_count": 6,
     "metadata": {},
     "output_type": "execute_result"
    }
   ],
   "source": [
    "#Q4.What is the value of spam[-1]?\n",
    "spam[-1]"
   ]
  },
  {
   "cell_type": "code",
   "execution_count": 7,
   "id": "34f3e8ef",
   "metadata": {},
   "outputs": [
    {
     "data": {
      "text/plain": [
       "[2, 4]"
      ]
     },
     "execution_count": 7,
     "metadata": {},
     "output_type": "execute_result"
    }
   ],
   "source": [
    "#Q5.What is the value of spam[:2]?\n",
    "spam[:2]"
   ]
  },
  {
   "cell_type": "markdown",
   "id": "40eabb68",
   "metadata": {},
   "source": [
    "# Let's pretend bacon has the list [3.14, 'cat,' 11, 'cat,' True] for the next three questions."
   ]
  },
  {
   "cell_type": "code",
   "execution_count": 11,
   "id": "f2dd6d78",
   "metadata": {},
   "outputs": [
    {
     "data": {
      "text/plain": [
       "1"
      ]
     },
     "execution_count": 11,
     "metadata": {},
     "output_type": "execute_result"
    }
   ],
   "source": [
    "#Q6.What is the value of bacon.index('cat')?\n",
    "bacon=[3.14, 'cat', 11, 'cat', True]\n",
    "bacon.index('cat')"
   ]
  },
  {
   "cell_type": "code",
   "execution_count": 12,
   "id": "f952b29e",
   "metadata": {},
   "outputs": [
    {
     "data": {
      "text/plain": [
       "[3.14, 'cat', 11, 'cat', True, 99]"
      ]
     },
     "execution_count": 12,
     "metadata": {},
     "output_type": "execute_result"
    }
   ],
   "source": [
    "#Q7.How does the bacon.append(99) change the look of the list value in bacon?\n",
    "bacon.append(99)\n",
    "bacon"
   ]
  },
  {
   "cell_type": "code",
   "execution_count": 13,
   "id": "0deffbb8",
   "metadata": {},
   "outputs": [
    {
     "data": {
      "text/plain": [
       "[3.14, 11, 'cat', True, 99]"
      ]
     },
     "execution_count": 13,
     "metadata": {},
     "output_type": "execute_result"
    }
   ],
   "source": [
    "#Q8.How does bacon.remove('cat') change the look of the list in bacon?\n",
    "bacon.remove('cat')\n",
    "bacon"
   ]
  },
  {
   "cell_type": "markdown",
   "id": "bc873bb7",
   "metadata": {},
   "source": [
    "# Q9.What are the list concatenation and list replication operators?"
   ]
  },
  {
   "cell_type": "code",
   "execution_count": null,
   "id": "525712ec",
   "metadata": {},
   "outputs": [],
   "source": [
    "#ans>>>The operator for list concatenation is + and the operator for replication is *"
   ]
  },
  {
   "cell_type": "markdown",
   "id": "6e58ac20",
   "metadata": {},
   "source": [
    "# Q10.What is the difference between list method append() and insert()?"
   ]
  },
  {
   "cell_type": "code",
   "execution_count": 15,
   "id": "0a5ca788",
   "metadata": {},
   "outputs": [],
   "source": [
    "#Ans>>>>append() adds a single element at the end of list whereas \n",
    "#        insert() adds a single element at a given position of list."
   ]
  },
  {
   "cell_type": "markdown",
   "id": "09233bda",
   "metadata": {},
   "source": [
    "# Q11.What are the two methods for removing items from a list?"
   ]
  },
  {
   "cell_type": "code",
   "execution_count": 16,
   "id": "4f22ac4f",
   "metadata": {},
   "outputs": [],
   "source": [
    "#ans>>>pop() and remove()  are two method "
   ]
  },
  {
   "cell_type": "markdown",
   "id": "ae5230f8",
   "metadata": {},
   "source": [
    "# Q12.Describe how list values and string values are identical."
   ]
  },
  {
   "cell_type": "code",
   "execution_count": null,
   "id": "6c2ca55d",
   "metadata": {},
   "outputs": [],
   "source": [
    "#ans>>>1) list and string both are python sequence data type\n",
    "#      2) list and string both support slicing operator "
   ]
  },
  {
   "cell_type": "markdown",
   "id": "14f0eab2",
   "metadata": {},
   "source": [
    "# Q13.What's the difference between tuples and lists?"
   ]
  },
  {
   "cell_type": "code",
   "execution_count": 17,
   "id": "77690380",
   "metadata": {},
   "outputs": [],
   "source": [
    "#ans>>>list are mutable object whereas tuple are immutable object"
   ]
  },
  {
   "cell_type": "markdown",
   "id": "35a71746",
   "metadata": {},
   "source": [
    "# Q14.How do you type a tuple value that only contains the integer 42?"
   ]
  },
  {
   "cell_type": "code",
   "execution_count": 19,
   "id": "26d7a86e",
   "metadata": {},
   "outputs": [
    {
     "name": "stdout",
     "output_type": "stream",
     "text": [
      "<class 'tuple'>\n"
     ]
    }
   ],
   "source": [
    "t=(42,)    "
   ]
  },
  {
   "cell_type": "markdown",
   "id": "dd499fcf",
   "metadata": {},
   "source": [
    "# Q15.. How do you get a list value's tuple form? How do you get a tuple value's list form?"
   ]
  },
  {
   "cell_type": "code",
   "execution_count": 20,
   "id": "d762ba69",
   "metadata": {},
   "outputs": [
    {
     "name": "stdout",
     "output_type": "stream",
     "text": [
      "[1, 2, 4, 'rajkumar', 'nit agartala']\n"
     ]
    }
   ],
   "source": [
    "#tuple to list conversion\n",
    "t=(1,2,4,'rajkumar','nit agartala')\n",
    "l=list(t)\n",
    "print(l)"
   ]
  },
  {
   "cell_type": "code",
   "execution_count": 21,
   "id": "73f155c5",
   "metadata": {},
   "outputs": [
    {
     "name": "stdout",
     "output_type": "stream",
     "text": [
      "(8, 7, 'rajkumar', 'nit agartala')\n"
     ]
    }
   ],
   "source": [
    "#list to tuple conversion\n",
    "l=[8,7,'rajkumar','nit agartala']\n",
    "t=tuple(l)\n",
    "print(t)"
   ]
  },
  {
   "cell_type": "markdown",
   "id": "dfd6af90",
   "metadata": {},
   "source": [
    "# Q16.Variables that \"contain\" list values are not necessarily lists themselves. Instead, what do they contain?"
   ]
  },
  {
   "cell_type": "code",
   "execution_count": null,
   "id": "e6241cb9",
   "metadata": {},
   "outputs": [],
   "source": [
    "ans>>>in list we can store any types of value like int,str,tuple list \n",
    "example:   l=[1,4,\"rajkumar\"]   or l=[12,[3,5,7]]     "
   ]
  },
  {
   "cell_type": "markdown",
   "id": "c6e4cd0e",
   "metadata": {},
   "source": [
    "# Q17.How do you distinguish between copy.copy() and copy.deepcopy()?"
   ]
  },
  {
   "cell_type": "code",
   "execution_count": null,
   "id": "30271770",
   "metadata": {},
   "outputs": [],
   "source": [
    "#ans>>> shallow copy:::\n",
    "#       A shallow copy creates a new object which stores the reference of the original elements.  \n",
    "#       So, a shallow copy doesn't create a copy of nested objects, instead it just copies the reference of nested objects.\n",
    "#\n",
    "#      deep copy():::: A deep copy creates a new object and recursively adds the copies of nested objects present \n",
    "#                in the original elements.\n",
    "#"
   ]
  },
  {
   "cell_type": "code",
   "execution_count": 39,
   "id": "68e0d7d1",
   "metadata": {},
   "outputs": [
    {
     "name": "stdout",
     "output_type": "stream",
     "text": [
      "[1, 2, 3, [4, 12, 8]]\n",
      "[1, 2, 3, [3, 6, 8]]\n"
     ]
    }
   ],
   "source": [
    "import copy\n",
    "l=[1,2,3,[4,6,8]]\n",
    "#l1=copy.copy(l)\n",
    "l[3][1]=12\n",
    "print(l)\n",
    "print(l1)     # we can see that l1[3][1] did not changes\n"
   ]
  },
  {
   "cell_type": "code",
   "execution_count": 40,
   "id": "7af74e24",
   "metadata": {},
   "outputs": [
    {
     "name": "stdout",
     "output_type": "stream",
     "text": [
      "[1, 2, 3, [4, 6, 8]]\n",
      "[1, 2, 3, [4, 6, 8]]\n"
     ]
    }
   ],
   "source": [
    "import copy\n",
    "a=[1,2,3,[4,6,8]]\n",
    "b=copy.deepcopy(a)\n",
    "l[3][1]=12\n",
    "print(a)     \n",
    "print(b)           # we can see that l1[3][1] changed "
   ]
  },
  {
   "cell_type": "code",
   "execution_count": null,
   "id": "f3cd4d4d",
   "metadata": {},
   "outputs": [],
   "source": []
  },
  {
   "cell_type": "code",
   "execution_count": null,
   "id": "c2dfc445",
   "metadata": {},
   "outputs": [],
   "source": []
  }
 ],
 "metadata": {
  "kernelspec": {
   "display_name": "Python 3 (ipykernel)",
   "language": "python",
   "name": "python3"
  },
  "language_info": {
   "codemirror_mode": {
    "name": "ipython",
    "version": 3
   },
   "file_extension": ".py",
   "mimetype": "text/x-python",
   "name": "python",
   "nbconvert_exporter": "python",
   "pygments_lexer": "ipython3",
   "version": "3.9.12"
  }
 },
 "nbformat": 4,
 "nbformat_minor": 5
}
