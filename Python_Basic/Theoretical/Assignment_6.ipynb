{
 "cells": [
  {
   "cell_type": "markdown",
   "id": "9feca239",
   "metadata": {},
   "source": [
    "# Q1.What are escape characters, and how do you use them?"
   ]
  },
  {
   "cell_type": "code",
   "execution_count": null,
   "id": "43809181",
   "metadata": {},
   "outputs": [],
   "source": [
    "#ans>>>if we want to insert character that are illegal in string then we use escape character\n",
    "#        \\ followed by character we use   \n",
    "#        example: \\n,\\t "
   ]
  },
  {
   "cell_type": "markdown",
   "id": "8c0a1173",
   "metadata": {},
   "source": [
    "# Q2.What do the escape characters n and t stand for?"
   ]
  },
  {
   "cell_type": "code",
   "execution_count": null,
   "id": "6d893b34",
   "metadata": {},
   "outputs": [],
   "source": [
    "#\\n stands for new line \n",
    "#\\t stands for tab"
   ]
  },
  {
   "cell_type": "markdown",
   "id": "48092384",
   "metadata": {},
   "source": [
    "# Q3.What is the way to include backslash characters in a string?"
   ]
  },
  {
   "cell_type": "code",
   "execution_count": 21,
   "id": "e69d30cd",
   "metadata": {},
   "outputs": [],
   "source": [
    "#ans>>1)st=\"hello\\rajkumar\"\n",
    "#     2)  st=\"hello\\\n",
    "#                 rajkumar\""
   ]
  },
  {
   "cell_type": "code",
   "execution_count": null,
   "id": "2e141556",
   "metadata": {},
   "outputs": [],
   "source": []
  },
  {
   "cell_type": "markdown",
   "id": "ebbc4d9b",
   "metadata": {},
   "source": [
    "# Q4.The string \"Howl's Moving Castle\" is a correct value. Why isn't the single quote character in the word Howl's not escaped a problem?"
   ]
  },
  {
   "cell_type": "code",
   "execution_count": null,
   "id": "c2b64a0b",
   "metadata": {},
   "outputs": [],
   "source": [
    "#ans>>>because we are palcing our string value in double quote"
   ]
  },
  {
   "cell_type": "markdown",
   "id": "9b99c644",
   "metadata": {},
   "source": [
    "# Q5.How do you write a string of newlines if you don't want to use the n character?"
   ]
  },
  {
   "cell_type": "code",
   "execution_count": null,
   "id": "7e30d5c6",
   "metadata": {},
   "outputs": [],
   "source": [
    "#ans>>>we can use triple qupte string syntax"
   ]
  },
  {
   "cell_type": "markdown",
   "id": "7904da05",
   "metadata": {},
   "source": [
    "# Q6.What are the values of the given expressions?"
   ]
  },
  {
   "cell_type": "code",
   "execution_count": null,
   "id": "a44cf3c6",
   "metadata": {},
   "outputs": [],
   "source": [
    "#'Hello, world!'[1]\n",
    "#'Hello, world!'[0:5]\n",
    "#'Hello, world!'[:5]\n",
    "#'Hello, world!'[3:]"
   ]
  },
  {
   "cell_type": "code",
   "execution_count": 22,
   "id": "b2b415d5",
   "metadata": {},
   "outputs": [
    {
     "data": {
      "text/plain": [
       "'e'"
      ]
     },
     "execution_count": 22,
     "metadata": {},
     "output_type": "execute_result"
    }
   ],
   "source": [
    "'Hello, world!'[1]"
   ]
  },
  {
   "cell_type": "code",
   "execution_count": 3,
   "id": "8cadfee7",
   "metadata": {},
   "outputs": [
    {
     "data": {
      "text/plain": [
       "'Hello'"
      ]
     },
     "execution_count": 3,
     "metadata": {},
     "output_type": "execute_result"
    }
   ],
   "source": [
    "'Hello, world!'[0:5]"
   ]
  },
  {
   "cell_type": "code",
   "execution_count": 4,
   "id": "a7ad126b",
   "metadata": {},
   "outputs": [
    {
     "data": {
      "text/plain": [
       "'Hello'"
      ]
     },
     "execution_count": 4,
     "metadata": {},
     "output_type": "execute_result"
    }
   ],
   "source": [
    "'Hello, world!'[:5]"
   ]
  },
  {
   "cell_type": "code",
   "execution_count": 5,
   "id": "d475784d",
   "metadata": {},
   "outputs": [
    {
     "data": {
      "text/plain": [
       "'lo, world!'"
      ]
     },
     "execution_count": 5,
     "metadata": {},
     "output_type": "execute_result"
    }
   ],
   "source": [
    "'Hello, world!'[3:]"
   ]
  },
  {
   "cell_type": "markdown",
   "id": "f50368a3",
   "metadata": {},
   "source": [
    "# Q7.What are the values of the following expressions?"
   ]
  },
  {
   "cell_type": "code",
   "execution_count": null,
   "id": "09ef1eb5",
   "metadata": {},
   "outputs": [],
   "source": [
    "#'Hello'.upper()\n",
    "#'Hello'.upper().isupper()\n",
    "#'Hello'.upper().lower()\n"
   ]
  },
  {
   "cell_type": "code",
   "execution_count": 6,
   "id": "de8986d9",
   "metadata": {},
   "outputs": [
    {
     "data": {
      "text/plain": [
       "'HELLO'"
      ]
     },
     "execution_count": 6,
     "metadata": {},
     "output_type": "execute_result"
    }
   ],
   "source": [
    "'Hello'.upper()"
   ]
  },
  {
   "cell_type": "code",
   "execution_count": 7,
   "id": "ff506778",
   "metadata": {},
   "outputs": [
    {
     "data": {
      "text/plain": [
       "True"
      ]
     },
     "execution_count": 7,
     "metadata": {},
     "output_type": "execute_result"
    }
   ],
   "source": [
    "'Hello'.upper().isupper()"
   ]
  },
  {
   "cell_type": "code",
   "execution_count": 8,
   "id": "297650af",
   "metadata": {},
   "outputs": [
    {
     "data": {
      "text/plain": [
       "'hello'"
      ]
     },
     "execution_count": 8,
     "metadata": {},
     "output_type": "execute_result"
    }
   ],
   "source": [
    "'Hello'.upper().lower()"
   ]
  },
  {
   "cell_type": "markdown",
   "id": "7c30b9b7",
   "metadata": {},
   "source": [
    "# Q8.What are the values of the following expressions?"
   ]
  },
  {
   "cell_type": "code",
   "execution_count": null,
   "id": "5c5a365e",
   "metadata": {},
   "outputs": [],
   "source": [
    "#'Remember, remember, the fifth of July.'.split()\n",
    "#'-'.join('There can only one.'.split())"
   ]
  },
  {
   "cell_type": "code",
   "execution_count": 9,
   "id": "8d93da2e",
   "metadata": {},
   "outputs": [
    {
     "data": {
      "text/plain": [
       "['Remember,', 'remember,', 'the', 'fifth', 'of', 'July.']"
      ]
     },
     "execution_count": 9,
     "metadata": {},
     "output_type": "execute_result"
    }
   ],
   "source": [
    "#'Remember, remember, the fifth of July.'.split()"
   ]
  },
  {
   "cell_type": "code",
   "execution_count": 13,
   "id": "07009368",
   "metadata": {},
   "outputs": [
    {
     "data": {
      "text/plain": [
       "'There-can-only-one.'"
      ]
     },
     "execution_count": 13,
     "metadata": {},
     "output_type": "execute_result"
    }
   ],
   "source": [
    "'-'.join('There can only one.'.split())"
   ]
  },
  {
   "cell_type": "code",
   "execution_count": null,
   "id": "0e2a33de",
   "metadata": {},
   "outputs": [],
   "source": []
  },
  {
   "cell_type": "markdown",
   "id": "780b7c04",
   "metadata": {},
   "source": [
    "# Q9.What are the methods for right-justifying, left-justifying, and centering a string?"
   ]
  },
  {
   "cell_type": "code",
   "execution_count": null,
   "id": "10dd184b",
   "metadata": {},
   "outputs": [],
   "source": [
    "#ans>>>The rjust(),ljust(),and center() are methods ."
   ]
  },
  {
   "cell_type": "markdown",
   "id": "7c788f4a",
   "metadata": {},
   "source": [
    "# Q10.What is the best way to remove whitespace characters from the start or end?"
   ]
  },
  {
   "cell_type": "code",
   "execution_count": null,
   "id": "e8e7da8a",
   "metadata": {},
   "outputs": [],
   "source": [
    "#ans>>>lstrip(),rstrip(),strip() are methode for removing whitespace from left,right ad from both end respectively()"
   ]
  },
  {
   "cell_type": "code",
   "execution_count": null,
   "id": "f868746f",
   "metadata": {},
   "outputs": [],
   "source": []
  }
 ],
 "metadata": {
  "kernelspec": {
   "display_name": "Python 3 (ipykernel)",
   "language": "python",
   "name": "python3"
  },
  "language_info": {
   "codemirror_mode": {
    "name": "ipython",
    "version": 3
   },
   "file_extension": ".py",
   "mimetype": "text/x-python",
   "name": "python",
   "nbconvert_exporter": "python",
   "pygments_lexer": "ipython3",
   "version": "3.9.12"
  }
 },
 "nbformat": 4,
 "nbformat_minor": 5
}
