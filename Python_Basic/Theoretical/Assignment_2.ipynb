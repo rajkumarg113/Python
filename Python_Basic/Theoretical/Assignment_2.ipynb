{
 "cells": [
  {
   "cell_type": "markdown",
   "id": "c0bee885",
   "metadata": {},
   "source": [
    "# Q1.What are the two values of the Boolean data type? How do you write them?"
   ]
  },
  {
   "cell_type": "code",
   "execution_count": null,
   "id": "51c877fd",
   "metadata": {},
   "outputs": [],
   "source": [
    "ans>>>1)False and True are value of Boolean type\n",
    "\n",
    "flag=False\n",
    "flag=True   \n",
    "\n",
    "false is treated as 0 and true is treated as 1 \n",
    "any non zero is true and zero is false"
   ]
  },
  {
   "cell_type": "markdown",
   "id": "6defb173",
   "metadata": {},
   "source": [
    "# Q2.What are the three different types of Boolean operators?\n"
   ]
  },
  {
   "cell_type": "code",
   "execution_count": null,
   "id": "ea6f77b0",
   "metadata": {},
   "outputs": [],
   "source": [
    "1)and     true if both condition are true  othws false\n",
    "2)or      true if any one condition are true othws false\n",
    "3)not     true if condition is false     othws false"
   ]
  },
  {
   "cell_type": "markdown",
   "id": "495b4307",
   "metadata": {},
   "source": [
    "# Q3.Make a list of each Boolean operator's truth tables (i.e. every possible combination of Boolean values for the operator and what it evaluate )."
   ]
  },
  {
   "cell_type": "code",
   "execution_count": 22,
   "id": "efa31161",
   "metadata": {},
   "outputs": [
    {
     "name": "stdout",
     "output_type": "stream",
     "text": [
      "1\n",
      "0\n",
      "0\n",
      "0\n"
     ]
    }
   ],
   "source": [
    "# and truth table\n",
    "print(1 and 1)\n",
    "print(1 and 0)\n",
    "print(0 and 1)\n",
    "print(0 and 0)"
   ]
  },
  {
   "cell_type": "code",
   "execution_count": 23,
   "id": "d4d00470",
   "metadata": {},
   "outputs": [
    {
     "name": "stdout",
     "output_type": "stream",
     "text": [
      "1\n",
      "1\n",
      "1\n",
      "0\n"
     ]
    }
   ],
   "source": [
    "# or truth table\n",
    "print(1 or 1)\n",
    "print(1 or 0)\n",
    "print(0 or 1)\n",
    "print(0 or 0)"
   ]
  },
  {
   "cell_type": "code",
   "execution_count": 27,
   "id": "e19a8b5b",
   "metadata": {},
   "outputs": [
    {
     "name": "stdout",
     "output_type": "stream",
     "text": [
      "False\n",
      "True\n"
     ]
    }
   ],
   "source": [
    "# not truth table\n",
    "print(not 1)\n",
    "print(not 0)"
   ]
  },
  {
   "cell_type": "markdown",
   "id": "15d6f49d",
   "metadata": {},
   "source": [
    "# Q4.What are the values of the following expressions?"
   ]
  },
  {
   "cell_type": "code",
   "execution_count": null,
   "id": "790eecc8",
   "metadata": {},
   "outputs": [],
   "source": [
    "1)(5 > 4) and (3 == 5)>>>>>false\n",
    "2)not (5 > 4)>>>>>>>>>false\n",
    "3)(5 > 4) or (3 == 5)>>>>>>>true\n",
    "4)not ((5 > 4) or (3 == 5))>>>>>false\n",
    "5)(True and True) and (True == False)>>>>>false\n",
    "5)(not False) or (not True)>>>>>>true"
   ]
  },
  {
   "cell_type": "markdown",
   "id": "d472f366",
   "metadata": {},
   "source": [
    "# Q5.What are the six comparison operators?"
   ]
  },
  {
   "cell_type": "code",
   "execution_count": null,
   "id": "3df29b5e",
   "metadata": {},
   "outputs": [],
   "source": [
    "(1) less than (<)\n",
    "(2) less than or equal to (<=)\n",
    "(3) greater than (>)\n",
    "(4) greater than or equal to (>=)\n",
    "(5) equal to (=)\n",
    "(6) not equal to (!=)"
   ]
  },
  {
   "cell_type": "markdown",
   "id": "41fcaade",
   "metadata": {},
   "source": [
    "# Q6.How do you tell the difference between the equal to and assignment operators?Describe a condition and when you would use one."
   ]
  },
  {
   "cell_type": "code",
   "execution_count": null,
   "id": "db768532",
   "metadata": {},
   "outputs": [],
   "source": [
    "the = operator is assignment operator which is used to assign a value to thre variable \n",
    "whereas == is the comparison operator wich is used to check wheather both hand side equal or not it return boolean value\n",
    "\n",
    "a=30    #assignment\n",
    "a==30   # checking wheather a is equal to 30 or no"
   ]
  },
  {
   "cell_type": "markdown",
   "id": "7d439137",
   "metadata": {},
   "source": [
    "# Q7.Identify the three blocks in this code: "
   ]
  },
  {
   "cell_type": "code",
   "execution_count": null,
   "id": "a429cbde",
   "metadata": {},
   "outputs": [],
   "source": [
    "spam = 0\n",
    "if spam == 10:  \n",
    "print('eggs')\n",
    "if spam > 5:\n",
    "print('bacon')\n",
    "else:\n",
    "print('ham')\n",
    "print('spam')\n",
    "print('spam')"
   ]
  },
  {
   "cell_type": "code",
   "execution_count": null,
   "id": "6f57ea5b",
   "metadata": {},
   "outputs": [],
   "source": [
    "ans>>>>>first block starts from line no 3\n",
    "        second block start from line no 5\n",
    "        third block start from line no 7      as per above wrong code\n",
    "      \n",
    "spam = 0\n",
    "if spam == 10:  \n",
    "    print('eggs')\n",
    "if spam > 5:\n",
    "    print('bacon')\n",
    "else:\n",
    "    print('ham')\n",
    "    print('spam')\n",
    "    print('spam')    "
   ]
  },
  {
   "cell_type": "markdown",
   "id": "edab93f6",
   "metadata": {},
   "source": [
    "# Q8.Write code that prints Hello if 1 is stored in spam, prints Howdy if 2 is stored in spam, and prints Greetings! if anything else is stored in spam."
   ]
  },
  {
   "cell_type": "code",
   "execution_count": null,
   "id": "df4f36a1",
   "metadata": {},
   "outputs": [],
   "source": [
    "#ans>>>first if spam contain only single integer then \n",
    "spam=1\n",
    "if(spam==1):\n",
    "    print(\"Hello\")\n",
    "elif (spam==2):\n",
    "    print('Howdy')\n",
    "else:\n",
    "    print(\"Greetings\")\n",
    "    \n",
    "#an>>>>>>>>>second it is possible that spam contain multiple value so for that\n",
    "\n",
    "spam=[1,2,\"jbh\",'d']\n",
    "for i in spam:\n",
    "    if(i==1):\n",
    "        print(\"hello\")\n",
    "    elif(spam==2):\n",
    "        print(\"howdy\")\n",
    "    else:\n",
    "        print(\"Greetings\")"
   ]
  },
  {
   "cell_type": "markdown",
   "id": "c448432d",
   "metadata": {},
   "source": [
    "# Q9.If your programme is stuck in an endless loop, what keys you’ll press?"
   ]
  },
  {
   "cell_type": "code",
   "execution_count": null,
   "id": "8a55069b",
   "metadata": {},
   "outputs": [],
   "source": [
    "ans>>>> CTRL+C "
   ]
  },
  {
   "cell_type": "markdown",
   "id": "c2d23a79",
   "metadata": {},
   "source": [
    "# Q10.How can you tell the difference between break and continue?"
   ]
  },
  {
   "cell_type": "code",
   "execution_count": null,
   "id": "13783928",
   "metadata": {},
   "outputs": [],
   "source": [
    "ans>>>>break terminate the execution of current loop whereas continue skip the next line of code and jump to loop again\n",
    "        again\n",
    "\n",
    "below is the example"
   ]
  },
  {
   "cell_type": "code",
   "execution_count": 15,
   "id": "3e6d3648",
   "metadata": {},
   "outputs": [
    {
     "name": "stdout",
     "output_type": "stream",
     "text": [
      "demonstarting break   will print only before 2\n",
      "1\n",
      "demonstarting continue will skip 2 and print all other \n",
      "1\n",
      "3\n",
      "4\n"
     ]
    }
   ],
   "source": [
    "print(\"demonstarting break   will print only before 2\")\n",
    "for i in range (1,5):\n",
    "    if i==2 :\n",
    "        break\n",
    "    else:\n",
    "        print(i)\n",
    "print(\"demonstarting continue will skip 2 and print all other \")\n",
    "for i in range(1,5):\n",
    "    if i==2:\n",
    "        continue\n",
    "    else:\n",
    "        print(i)"
   ]
  },
  {
   "cell_type": "markdown",
   "id": "3682e0ca",
   "metadata": {},
   "source": [
    "# Q11.In a for loop, what is the difference between range(10), range(0, 10), and range(0, 10, 1)?"
   ]
  },
  {
   "cell_type": "code",
   "execution_count": null,
   "id": "4ffc107e",
   "metadata": {},
   "outputs": [],
   "source": [
    "ans>>>>all three generate output from 0 to 9  output wise there is no difference but the way we write is different\n",
    "1)range(10)>>>>>we provide only one argument i.e end\n",
    "2)range(0,10)>>>>>>we provide only two argumen i.e start and end\n",
    "3)range(0,10,1)>>>>>>>we provide three argument i,e start,end step   \n"
   ]
  },
  {
   "cell_type": "markdown",
   "id": "75321009",
   "metadata": {},
   "source": [
    "# Q12.Write a short program that prints the numbers 1 to 10 using a for loop. Then write an equivalent program that prints the numbers 1 to 10 using a while loop."
   ]
  },
  {
   "cell_type": "code",
   "execution_count": 20,
   "id": "b53450d0",
   "metadata": {},
   "outputs": [
    {
     "name": "stdout",
     "output_type": "stream",
     "text": [
      "usinfg for loop\n",
      "1 2 3 4 5 6 7 8 9 10 \n",
      "using while loop\n",
      "1 2 3 4 5 6 7 8 9 10 "
     ]
    }
   ],
   "source": [
    "print(\"usinfg for loop\")\n",
    "for i in range(1,11):\n",
    "    print(i,end=\" \")\n",
    "    \n",
    "print(\"\\nusing while loop\")\n",
    "i=1\n",
    "while(i<=10):\n",
    "    print(i,end=\" \")\n",
    "    i+=1"
   ]
  },
  {
   "cell_type": "markdown",
   "id": "4d5686c9",
   "metadata": {},
   "source": [
    "# Q13. If you had a function named bacon() inside a module named spam, how would you call it after importing spam?\n"
   ]
  },
  {
   "cell_type": "code",
   "execution_count": null,
   "id": "ecfe1b6f",
   "metadata": {},
   "outputs": [],
   "source": [
    "ans>>>spam.bacon()"
   ]
  },
  {
   "cell_type": "code",
   "execution_count": null,
   "id": "b7e9ad28",
   "metadata": {},
   "outputs": [],
   "source": []
  }
 ],
 "metadata": {
  "kernelspec": {
   "display_name": "Python 3 (ipykernel)",
   "language": "python",
   "name": "python3"
  },
  "language_info": {
   "codemirror_mode": {
    "name": "ipython",
    "version": 3
   },
   "file_extension": ".py",
   "mimetype": "text/x-python",
   "name": "python",
   "nbconvert_exporter": "python",
   "pygments_lexer": "ipython3",
   "version": "3.9.12"
  }
 },
 "nbformat": 4,
 "nbformat_minor": 5
}
