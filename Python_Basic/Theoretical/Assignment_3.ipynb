{
 "cells": [
  {
   "cell_type": "markdown",
   "id": "228e9fa7",
   "metadata": {},
   "source": [
    "# Q1.Why are functions advantageous to have in your programs?"
   ]
  },
  {
   "cell_type": "code",
   "execution_count": null,
   "id": "23df0476",
   "metadata": {},
   "outputs": [],
   "source": [
    "#ans>>>>>1)reusability\n",
    "#        2)readibility\n",
    "#       3)once defined can call from any where"
   ]
  },
  {
   "cell_type": "markdown",
   "id": "529f6a58",
   "metadata": {},
   "source": [
    "# Q2.When does the code in a function run: when it's specified or when it's called?"
   ]
  },
  {
   "cell_type": "code",
   "execution_count": null,
   "id": "47ae87d9",
   "metadata": {},
   "outputs": [],
   "source": [
    "#ans>>>>when it is called"
   ]
  },
  {
   "cell_type": "markdown",
   "id": "6c897c49",
   "metadata": {},
   "source": [
    "# Q3.What statement creates a function?"
   ]
  },
  {
   "cell_type": "code",
   "execution_count": null,
   "id": "82412422",
   "metadata": {},
   "outputs": [],
   "source": [
    "#ans>>> def keword is used to crate function\n",
    "#       example   def test():\n",
    "#                      print(\"hello\")"
   ]
  },
  {
   "cell_type": "markdown",
   "id": "a8188976",
   "metadata": {},
   "source": [
    "# Q4.What is the difference between a function and a function call?"
   ]
  },
  {
   "cell_type": "code",
   "execution_count": null,
   "id": "7accc606",
   "metadata": {},
   "outputs": [],
   "source": [
    "#function defination is where we define our function\n",
    "#function call is from where we  call it\n",
    "\n",
    "#example::\n",
    "\n",
    "#           def test():     #function defination\n",
    "#             pass\n",
    "#test()        #function call     \n",
    "        "
   ]
  },
  {
   "cell_type": "markdown",
   "id": "088e681c",
   "metadata": {},
   "source": [
    "# Q5.How many global scopes are there in a Python program? How many local scopes?"
   ]
  },
  {
   "cell_type": "code",
   "execution_count": null,
   "id": "e8189d91",
   "metadata": {},
   "outputs": [],
   "source": [
    "#ans>>>there is one local scope and one global scope  in python program"
   ]
  },
  {
   "cell_type": "markdown",
   "id": "8712a4d6",
   "metadata": {},
   "source": [
    "# Q6.What happens to variables in a local scope when the function call returns?"
   ]
  },
  {
   "cell_type": "code",
   "execution_count": 3,
   "id": "226beaf9",
   "metadata": {},
   "outputs": [],
   "source": [
    "#ans>>>>when fuction call return local variable is destroyed "
   ]
  },
  {
   "cell_type": "markdown",
   "id": "737086ea",
   "metadata": {},
   "source": [
    "# Q7.What is the concept of a return value? Is it possible to have a return value in an expression?"
   ]
  },
  {
   "cell_type": "code",
   "execution_count": null,
   "id": "a6b501e2",
   "metadata": {},
   "outputs": [],
   "source": [
    "ans>>>>in function there is return value which function return from where it is called ...."
   ]
  },
  {
   "cell_type": "markdown",
   "id": "f993a1a6",
   "metadata": {},
   "source": [
    "# Q8.If a function does not have a return statement, what is the return value of a call to that function?"
   ]
  },
  {
   "cell_type": "code",
   "execution_count": null,
   "id": "4b668665",
   "metadata": {},
   "outputs": [],
   "source": [
    "#ans>>> its return value is none"
   ]
  },
  {
   "cell_type": "markdown",
   "id": "dd171778",
   "metadata": {},
   "source": [
    "# Q9.How do you make a function variable refer to the global variable?\n"
   ]
  },
  {
   "cell_type": "code",
   "execution_count": null,
   "id": "a4e30ba7",
   "metadata": {},
   "outputs": [],
   "source": [
    "ans>>>>by using global keyword we can make global variable"
   ]
  },
  {
   "cell_type": "markdown",
   "id": "0c9c9f53",
   "metadata": {},
   "source": [
    "# Q10.What is the data type of None?"
   ]
  },
  {
   "cell_type": "code",
   "execution_count": null,
   "id": "b0689e51",
   "metadata": {},
   "outputs": [],
   "source": [
    "ans>>> none iteselfi None Typeq11."
   ]
  },
  {
   "cell_type": "markdown",
   "id": "c59fc894",
   "metadata": {},
   "source": [
    "# Q11.What does the sentence import areallyourpetsnamederic do?"
   ]
  },
  {
   "cell_type": "code",
   "execution_count": null,
   "id": "69e90c32",
   "metadata": {},
   "outputs": [],
   "source": [
    "ans>>> import areallyourpetsnamederic will import all the python code means all the function written in that module  in current\n",
    "       python file so that we can  use that function"
   ]
  },
  {
   "cell_type": "markdown",
   "id": "c5ab9fa8",
   "metadata": {},
   "source": [
    "# Q12.f you had a bacon() feature in a spam module, what would you call it after importing spam?"
   ]
  },
  {
   "cell_type": "code",
   "execution_count": null,
   "id": "427ae0a2",
   "metadata": {},
   "outputs": [],
   "source": [
    "ans>>> import spam  then we can call it spam.bacon()\n",
    "    "
   ]
  },
  {
   "cell_type": "markdown",
   "id": "18330ae4",
   "metadata": {},
   "source": [
    "# Q13.What can you do to save a programme from crashing if it encounters an error?"
   ]
  },
  {
   "cell_type": "code",
   "execution_count": null,
   "id": "625405ba",
   "metadata": {},
   "outputs": [],
   "source": [
    "ans>>>> we can use exception handling i.e try except finally  else "
   ]
  },
  {
   "cell_type": "markdown",
   "id": "f2eec158",
   "metadata": {},
   "source": [
    "# Q14.What is the purpose of the try clause? What is the purpose of the except clause?"
   ]
  },
  {
   "cell_type": "code",
   "execution_count": null,
   "id": "2d191ba0",
   "metadata": {},
   "outputs": [],
   "source": [
    "ans>>>in try block we write those line of code which can cause any error at runtime\n",
    "      in except block we handle error if occur  in try block "
   ]
  },
  {
   "cell_type": "code",
   "execution_count": null,
   "id": "5e620724",
   "metadata": {},
   "outputs": [],
   "source": []
  },
  {
   "cell_type": "code",
   "execution_count": null,
   "id": "03bc4853",
   "metadata": {},
   "outputs": [],
   "source": []
  }
 ],
 "metadata": {
  "kernelspec": {
   "display_name": "Python 3 (ipykernel)",
   "language": "python",
   "name": "python3"
  },
  "language_info": {
   "codemirror_mode": {
    "name": "ipython",
    "version": 3
   },
   "file_extension": ".py",
   "mimetype": "text/x-python",
   "name": "python",
   "nbconvert_exporter": "python",
   "pygments_lexer": "ipython3",
   "version": "3.9.12"
  }
 },
 "nbformat": 4,
 "nbformat_minor": 5
}
