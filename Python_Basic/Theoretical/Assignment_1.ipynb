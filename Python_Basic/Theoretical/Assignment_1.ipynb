{
 "cells": [
  {
   "cell_type": "markdown",
   "id": "a85bc082",
   "metadata": {},
   "source": [
    "# Q1. In the below elements which of them are values or an expression? eg:- values can be integer or string and expressions will be mathematical operators.\n"
   ]
  },
  {
   "cell_type": "code",
   "execution_count": null,
   "id": "c13ef82d",
   "metadata": {},
   "outputs": [],
   "source": [
    "ans>>>> 1)* it is an expression\n",
    "        2)'hello' it is a value\n",
    "        3)-87.8  it is value\n",
    "        4)-  it is expression\n",
    "        5)/  it is expression\n",
    "        6)+ it is expression\n",
    "        7)6 it is value\n",
    "\n",
    "\n"
   ]
  },
  {
   "cell_type": "markdown",
   "id": "d3c76d4e",
   "metadata": {},
   "source": [
    "# Q2.What is the difference between string and variable?"
   ]
  },
  {
   "cell_type": "code",
   "execution_count": null,
   "id": "096bc0df",
   "metadata": {},
   "outputs": [],
   "source": [
    "ans>>>>variable is name use to refer a memory location or we can say that it is used to store value of different data type\n",
    "        whereas string in python is immutable data type which contain collection of character in singlequote,double or triple  quote\n",
    "    we can say that variable holds the string type of value \n",
    "    example mystr=\"rajkumar\"\n",
    "    here mystr is variable and rajkumar is string type of value "
   ]
  },
  {
   "cell_type": "markdown",
   "id": "25d7c7ba",
   "metadata": {},
   "source": [
    "# Q3.Describe three different data types."
   ]
  },
  {
   "cell_type": "code",
   "execution_count": null,
   "id": "9bbf2988",
   "metadata": {},
   "outputs": [],
   "source": [
    "ans>>>1)Numeric data type:::it contain integer,complex number,float  example a=4,b=3.5\n",
    "      2)dictionary data type:::it coontain key values pair example-d={\"name\":\"rajkumar}\n",
    "      3)boolean data type::: it holde value only true or false"
   ]
  },
  {
   "cell_type": "markdown",
   "id": "df2aa11e",
   "metadata": {},
   "source": [
    "# Q4.What is an expression made up of? What do all expressions do?"
   ]
  },
  {
   "cell_type": "code",
   "execution_count": null,
   "id": "8c08a686",
   "metadata": {},
   "outputs": [],
   "source": [
    "ans>>>>An expression is a combination of symbols .Python evluates it into a end result value\n",
    "example:: a=a+3 it is expression"
   ]
  },
  {
   "cell_type": "markdown",
   "id": "4a0e5617",
   "metadata": {},
   "source": [
    "# Q5.This assignment statements, like spam = 10. What is the difference between and expression and a statement?"
   ]
  },
  {
   "cell_type": "code",
   "execution_count": null,
   "id": "1c0c922f",
   "metadata": {},
   "outputs": [],
   "source": [
    "ans>>>expression evaluate to a value whereas statement may or may not evaluate value\n",
    "    >>> every expresion cant be statement but every statement can be expression\n",
    "    \n",
    "    here spam=10 is statement "
   ]
  },
  {
   "cell_type": "markdown",
   "id": "38e27034",
   "metadata": {},
   "source": [
    "# Q6.After running the following code, what does the variable bacon contain?\n",
    "bacon = 22\n",
    "bacon + 1"
   ]
  },
  {
   "cell_type": "code",
   "execution_count": null,
   "id": "7898c082",
   "metadata": {},
   "outputs": [],
   "source": [
    "ans>>> initially bacon is 22 but after incrementing 1 it become 23"
   ]
  },
  {
   "cell_type": "markdown",
   "id": "95b2dbd0",
   "metadata": {},
   "source": [
    "# Q7.What should the values of the following two terms be?\n",
    "'spam'+'spamspam'\n",
    "'spam'*3"
   ]
  },
  {
   "cell_type": "code",
   "execution_count": null,
   "id": "0d46aa39",
   "metadata": {},
   "outputs": [],
   "source": [
    "ans>>>>spamspamspam "
   ]
  },
  {
   "cell_type": "markdown",
   "id": "dff4d671",
   "metadata": {},
   "source": [
    "# Q8.Why is eggs a valid variable name while 100 is invalid?"
   ]
  },
  {
   "cell_type": "code",
   "execution_count": null,
   "id": "d892db8f",
   "metadata": {},
   "outputs": [],
   "source": [
    "ans>>>in python there is some rule defined for declaring variable name so that interepreter can understand it is variable\n",
    "    variable name must start with only alphabet or underscore thats why egg is valid variable name but 100 start with integer\n",
    "    so it not valid varible name\n",
    "    \n",
    "    valid::: egg,_egg, egg12\n",
    "    invalid:: 12,12gfgf,"
   ]
  },
  {
   "cell_type": "markdown",
   "id": "35a6205f",
   "metadata": {},
   "source": [
    "# Q9.What three functions can be used to get the integer, floating-point number, or string version of a value?\n"
   ]
  },
  {
   "cell_type": "code",
   "execution_count": null,
   "id": "7527e99c",
   "metadata": {},
   "outputs": [],
   "source": [
    "ans>>>1)int()\n",
    "      2)float()\n",
    "      3)str()"
   ]
  },
  {
   "cell_type": "markdown",
   "id": "9b0f8497",
   "metadata": {},
   "source": [
    "# Q10.Why does this expression cause an error? How can you fix it?\n",
    "'i have eaten'+99+'burritos'"
   ]
  },
  {
   "cell_type": "code",
   "execution_count": null,
   "id": "6a9639e4",
   "metadata": {},
   "outputs": [],
   "source": [
    "ans>>>in the above expression we are concatening int type with string value which is not valid \n",
    "thats why first we will conver int to string then we will concate following are two ways\n",
    "\n",
    ">>>>'i have eaten'+str(99)+'burritos'\n",
    ">>>>'i have eaten'+'99'+'burritos'\n"
   ]
  },
  {
   "cell_type": "code",
   "execution_count": null,
   "id": "00cd5070",
   "metadata": {},
   "outputs": [],
   "source": []
  },
  {
   "cell_type": "code",
   "execution_count": null,
   "id": "931ddafb",
   "metadata": {},
   "outputs": [],
   "source": []
  }
 ],
 "metadata": {
  "kernelspec": {
   "display_name": "Python 3 (ipykernel)",
   "language": "python",
   "name": "python3"
  },
  "language_info": {
   "codemirror_mode": {
    "name": "ipython",
    "version": 3
   },
   "file_extension": ".py",
   "mimetype": "text/x-python",
   "name": "python",
   "nbconvert_exporter": "python",
   "pygments_lexer": "ipython3",
   "version": "3.9.12"
  }
 },
 "nbformat": 4,
 "nbformat_minor": 5
}
