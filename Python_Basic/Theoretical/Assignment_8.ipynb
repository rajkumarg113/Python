{
 "cells": [
  {
   "cell_type": "markdown",
   "metadata": {},
   "source": [
    "# Q1.Is the Python Standard Library included with PyInputPlus?\n",
    "ANS:No, PyInputPlus is not a part of Python Standard Library, it needs to be installed explicitly \n",
    "    using the command"
   ]
  },
  {
   "cell_type": "markdown",
   "metadata": {},
   "source": [
    "# Q2. Why is PyInputPlus commonly imported with import pyinputplus as pypi?\n",
    "ANS:You can import the module with import pyinputplus as pyip so that you can enter a shorter name when calling the module's functions."
   ]
  },
  {
   "cell_type": "markdown",
   "metadata": {
    "tags": [
     "parameters"
    ]
   },
   "source": [
    "# Q3.How do you distinguish between inputInt() and inputFloat()?\n",
    "ANS:inputInt() function Accepts an integer value. This also takes additional parameters min, max, \n",
    "greaterThan and lessThan for bounds. And it always returns an int.\n",
    "\n",
    "Whereas inputFloat() function Accepts a floating-point numeric value. this also takes additional min, max, \n",
    "greaterThan and lessThan parameters. and always returns a float."
   ]
  },
  {
   "cell_type": "markdown",
   "metadata": {
    "tags": [
     "parameters"
    ]
   },
   "source": [
    "# Q4.Using PyInputPlus, how do you ensure that the user enters a whole number between 0 and 99?\n",
    "Ans: PyInputPlus module provides a function called as inputInt() which only returns only integer values. \n",
    "inorder to restrict the input between 0 and 99, i'ii use parameters like min & max to ensure \n",
    "that user enters the values between the defined range only.\n",
    "\n"
   ]
  },
  {
   "cell_type": "markdown",
   "metadata": {},
   "source": [
    "# Q5.What is transferred to the keyword arguments allowRegexes and blockRegexes?\n",
    "Ans: we can use allowRegexes and blockRegexes keyword arguments to take \n",
    "list of regular expression strings to determine what the pyinputplus function will reject or accept valid input."
   ]
  },
  {
   "cell_type": "markdown",
   "metadata": {},
   "source": [
    "# Q6.If a blank input is entered three times, what does inputStr(limit=3) do?\n",
    "Ans: The statement inputStr(limit=3) will throw two exceptions ValidationException and RetryLimitException. \n",
    "The first exception is thrown because blank values are not allowed by inputStr() function by default. \n",
    "it we want to consider blank values as valid input, we have to set blank=True.\n",
    "\n",
    "The second exception is occured because we have reached the\n",
    "max limit we have specified by using limit parameter. inorder to avoid this exception \n",
    "we can use default parameter to return a default value when max limit is reached."
   ]
  },
  {
   "cell_type": "markdown",
   "metadata": {},
   "source": [
    "# Q7.If blank input is entered three times, what does inputStr(limit=3, default=&#39;hello&#39;) do?\n",
    "Ans: Since the default parameter is set to hello. after blank input is entered three times instead of\n",
    " raising RetryLimitException exception. the function will return hello as response to the calling function"
   ]
  },
  {
   "cell_type": "code",
   "execution_count": null,
   "metadata": {},
   "outputs": [],
   "source": []
  },
  {
   "cell_type": "code",
   "execution_count": null,
   "metadata": {},
   "outputs": [],
   "source": []
  }
 ],
 "metadata": {
  "kernelspec": {
   "display_name": "Python 3 (ipykernel)",
   "language": "python",
   "name": "python3"
  },
  "language_info": {
   "codemirror_mode": {
    "name": "ipython",
    "version": 3
   },
   "file_extension": ".py",
   "mimetype": "text/x-python",
   "name": "python",
   "nbconvert_exporter": "python",
   "pygments_lexer": "ipython3",
   "version": "3.10.9"
  }
 },
 "nbformat": 4,
 "nbformat_minor": 2
}
