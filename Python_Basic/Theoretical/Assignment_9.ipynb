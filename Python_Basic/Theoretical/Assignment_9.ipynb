{
 "cells": [
  {
   "cell_type": "markdown",
   "id": "728d798a",
   "metadata": {},
   "source": [
    "# Q1. To what does a relative path refer?"
   ]
  },
  {
   "cell_type": "code",
   "execution_count": null,
   "id": "0e77808a",
   "metadata": {},
   "outputs": [],
   "source": [
    "#A relative path refers to a location of a file or folder is relative to the current woorking directory.\n",
    "#it use two special symbol dot(.) and two dot(..)"
   ]
  },
  {
   "cell_type": "markdown",
   "id": "6dde0242",
   "metadata": {},
   "source": [
    "# Q2. What does an absolute path start with your operating system?"
   ]
  },
  {
   "cell_type": "code",
   "execution_count": null,
   "id": "9ea5a137",
   "metadata": {},
   "outputs": [],
   "source": [
    "#An absolute path refers to the complete details needed to locate a file or folder, \n",
    "#starting from the root element and ending with the other subdirectories.\n"
   ]
  },
  {
   "cell_type": "markdown",
   "id": "e50c880d",
   "metadata": {},
   "source": [
    "# Q3.What do the functions os.getcwd() and os.chdir() do?"
   ]
  },
  {
   "cell_type": "code",
   "execution_count": null,
   "id": "f4830b9a",
   "metadata": {},
   "outputs": [],
   "source": [
    "#1)os.getcwd() used to get present working directory in which we are now\n",
    "#2)os.chdir()   used to change the directory"
   ]
  },
  {
   "cell_type": "markdown",
   "id": "5526aac5",
   "metadata": {},
   "source": [
    "# Q4. What are the . and .. folders?"
   ]
  },
  {
   "cell_type": "code",
   "execution_count": null,
   "id": "9df11a6d",
   "metadata": {},
   "outputs": [],
   "source": [
    "#represent current directory and .. represent the parent directory of the current directory."
   ]
  },
  {
   "cell_type": "markdown",
   "id": "123811b9",
   "metadata": {},
   "source": [
    "# Q5. In C:\\bacon\\eggs\\spam.txt, which part is the dir name, and which part is the base name?"
   ]
  },
  {
   "cell_type": "code",
   "execution_count": null,
   "id": "b4e57373",
   "metadata": {},
   "outputs": [],
   "source": [
    "#Directory name : C:\\bacon\\eggs\n",
    "#Base name : spam.txt"
   ]
  },
  {
   "cell_type": "markdown",
   "id": "33c0308c",
   "metadata": {},
   "source": [
    "# Q6. What are the three “mode” arguments that can be passed to the open() function?"
   ]
  },
  {
   "cell_type": "code",
   "execution_count": null,
   "id": "d7e60e27",
   "metadata": {},
   "outputs": [],
   "source": [
    "#  1'r': (Read mode) 2. 'w':(Write Mode) 3. 'a':(append mode) "
   ]
  },
  {
   "cell_type": "markdown",
   "id": "f75e0343",
   "metadata": {},
   "source": [
    "# Q7. What happens if an existing file is opened in write mode?"
   ]
  },
  {
   "cell_type": "code",
   "execution_count": null,
   "id": "f7697552",
   "metadata": {},
   "outputs": [],
   "source": [
    "# it can overwrite any existing content in the file.If the file not exist then the new file is created."
   ]
  },
  {
   "cell_type": "markdown",
   "id": "66c04c6e",
   "metadata": {},
   "source": [
    "# Q8. How do you tell the difference between read() and readlines()?"
   ]
  },
  {
   "cell_type": "code",
   "execution_count": null,
   "id": "8ff7f286",
   "metadata": {},
   "outputs": [],
   "source": [
    "#1)read() reads the entire contents of the file into a string\n",
    "#2)readlines() method will return all the lines in a file in the format of a list \n",
    "#where each element is a line in the file."
   ]
  },
  {
   "cell_type": "markdown",
   "id": "bd602f26",
   "metadata": {},
   "source": [
    "# Q9. What data structure does a shelf value resemble?"
   ]
  },
  {
   "cell_type": "code",
   "execution_count": null,
   "id": "7e44a27e",
   "metadata": {},
   "outputs": [],
   "source": [
    "#A shelf value resembles a dictionary value; it has keys and values, along with keys() and values() methods \n",
    "#that work similarly to the dictionary methods of the same names.\n"
   ]
  }
 ],
 "metadata": {
  "kernelspec": {
   "display_name": "Python 3 (ipykernel)",
   "language": "python",
   "name": "python3"
  },
  "language_info": {
   "codemirror_mode": {
    "name": "ipython",
    "version": 3
   },
   "file_extension": ".py",
   "mimetype": "text/x-python",
   "name": "python",
   "nbconvert_exporter": "python",
   "pygments_lexer": "ipython3",
   "version": "3.9.12"
  }
 },
 "nbformat": 4,
 "nbformat_minor": 5
}
