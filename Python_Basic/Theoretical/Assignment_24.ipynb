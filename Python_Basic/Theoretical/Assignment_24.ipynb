{
 "cells": [
  {
   "cell_type": "markdown",
   "id": "99048b83",
   "metadata": {},
   "source": [
    "# Q1. What is the relationship between def statements and lambda expressions?"
   ]
  },
  {
   "cell_type": "markdown",
   "id": "0c95342c",
   "metadata": {},
   "source": [
    "Ans1. def statement is used to create a normal function whereas lambda expressions is used to create an Anonymous functions.\n",
    "      Lambda's body is a single expression and not a block of statements like def statements"
   ]
  },
  {
   "cell_type": "markdown",
   "id": "fc891564",
   "metadata": {},
   "source": [
    "# Q2. What is the benefit of lambda?"
   ]
  },
  {
   "cell_type": "markdown",
   "id": "a1c664bb",
   "metadata": {},
   "source": [
    "Ans2.   (1) It can be used to create a nameless/anonymous function in a complex funnction if we are planning to use at once.\n",
    "       (2) A small functions can be created in a single line."
   ]
  },
  {
   "cell_type": "markdown",
   "id": "25fb2e2d",
   "metadata": {},
   "source": [
    "# Q3. Compare and contrast map,filter,and reduce."
   ]
  },
  {
   "cell_type": "code",
   "execution_count": null,
   "id": "05144407",
   "metadata": {},
   "outputs": [],
   "source": [
    "Ans3. map() : This functions takes another function as a parameter along with a sequence of iterables and returns an output \n",
    "            after applying  the function to each iterable present in the sequence.\n",
    "       filter() : This function is used to create an output list consisting of values for which the function returns true.\n",
    "      reduce() : This functions,as the name describes,appies a givenn function to the iterables and returns a single value."
   ]
  },
  {
   "cell_type": "markdown",
   "id": "0ae21710",
   "metadata": {},
   "source": [
    "# Q4. What are function annotations, and how are they used?"
   ]
  },
  {
   "cell_type": "code",
   "execution_count": null,
   "id": "28a88f2d",
   "metadata": {},
   "outputs": [],
   "source": [
    "#Ans4. Function annotations provide a way  of associating various parts  of a function with arbitary python expressions at \n",
    "#        compile time.\n",
    "#        Annotations of single parameters def func(x: expression, y: expression = 20):\n",
    "#        Whereas the annotations for excess parameters are as- def func (**args: expression,**kwargs: expression):"
   ]
  },
  {
   "cell_type": "markdown",
   "id": "19b91298",
   "metadata": {},
   "source": [
    "# Q5. What are recursive functions, and how are they used?"
   ]
  },
  {
   "cell_type": "code",
   "execution_count": null,
   "id": "340c304e",
   "metadata": {},
   "outputs": [],
   "source": [
    "Ans5 : A recursive function is a function that calls itself during its execution.\n",
    "        The process may repeate several times,outputting the result and the end of each iteration."
   ]
  },
  {
   "cell_type": "code",
   "execution_count": 8,
   "id": "6c8a8028",
   "metadata": {},
   "outputs": [
    {
     "name": "stdout",
     "output_type": "stream",
     "text": [
      "\n",
      "\n",
      "Recursion Example Results\n",
      "1\n",
      "3\n",
      "6\n",
      "10\n",
      "15\n",
      "21\n",
      "28\n",
      "36\n",
      "45\n"
     ]
    },
    {
     "data": {
      "text/plain": [
       "45"
      ]
     },
     "execution_count": 8,
     "metadata": {},
     "output_type": "execute_result"
    }
   ],
   "source": [
    "def tri_recursion(k):\n",
    "    if(k>0):\n",
    "        result = k+tri_recursion(k-1)\n",
    "        print(result)\n",
    "    else:\n",
    "        result = 0\n",
    "    return result\n",
    "\n",
    "print(\"\\n\\nRecursion Example Results\")\n",
    "tri_recursion(9)"
   ]
  },
  {
   "cell_type": "markdown",
   "id": "455e10c1",
   "metadata": {},
   "source": [
    "# Q6. What are some general design guidelines for cooding functions?"
   ]
  },
  {
   "cell_type": "code",
   "execution_count": null,
   "id": "dc02200d",
   "metadata": {},
   "outputs": [],
   "source": [
    "Ans: (1)No whitespace inside parantheses , brackets, or braces\n",
    "      (2)Surround operators with single whitespace on either side\n",
    "      (3)Proper identation to increase the code relability."
   ]
  },
  {
   "cell_type": "markdown",
   "id": "438a3d53",
   "metadata": {},
   "source": [
    "# Q7. Name three or more ways that functions cann communicate results to a caller"
   ]
  },
  {
   "cell_type": "code",
   "execution_count": null,
   "id": "282cef6c",
   "metadata": {},
   "outputs": [],
   "source": [
    "Ans:   (1) print\n",
    "        (2)return\n",
    "        (3)yield"
   ]
  }
 ],
 "metadata": {
  "kernelspec": {
   "display_name": "Python 3 (ipykernel)",
   "language": "python",
   "name": "python3"
  },
  "language_info": {
   "codemirror_mode": {
    "name": "ipython",
    "version": 3
   },
   "file_extension": ".py",
   "mimetype": "text/x-python",
   "name": "python",
   "nbconvert_exporter": "python",
   "pygments_lexer": "ipython3",
   "version": "3.10.9"
  }
 },
 "nbformat": 4,
 "nbformat_minor": 5
}
