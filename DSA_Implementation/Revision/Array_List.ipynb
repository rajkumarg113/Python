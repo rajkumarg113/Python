{
 "cells": [
  {
   "cell_type": "markdown",
   "id": "fe5591b8-45f3-468a-9daa-f304b8c27b18",
   "metadata": {},
   "source": [
    "In Python there is builins module in which all the classes and object are there "
   ]
  },
  {
   "cell_type": "markdown",
   "id": "76f3deeb-22ed-4ce1-b773-c03779ce17c3",
   "metadata": {},
   "source": [
    "**In Python builty in array is not present in builtin it is present in array module**\n",
    "\n",
    "**in array we can keep some limited types of data in array. we have to keep all the data of same type.**\n",
    "\n",
    "**generally array size is fixed but in python size of array is not fixed.**"
   ]
  },
  {
   "cell_type": "code",
   "execution_count": 2,
   "id": "81f8127d-cdd6-4b1e-8294-c65099ed7057",
   "metadata": {},
   "outputs": [],
   "source": [
    "from array import *"
   ]
  },
  {
   "cell_type": "code",
   "execution_count": 3,
   "id": "eae11d51-9a05-4f03-a855-0564a78153b4",
   "metadata": {},
   "outputs": [],
   "source": [
    "a=array('i',[1,2,3])"
   ]
  },
  {
   "cell_type": "code",
   "execution_count": 5,
   "id": "35ab08b2-c0bc-42c2-a985-c777b66c26b6",
   "metadata": {},
   "outputs": [
    {
     "data": {
      "text/plain": [
       "array.array"
      ]
     },
     "execution_count": 5,
     "metadata": {},
     "output_type": "execute_result"
    }
   ],
   "source": [
    "type(a)"
   ]
  },
  {
   "cell_type": "code",
   "execution_count": 7,
   "id": "04d17e13-9894-4f9e-949e-b6df2725cd64",
   "metadata": {},
   "outputs": [
    {
     "name": "stdout",
     "output_type": "stream",
     "text": [
      "array('i', [1, 2, 3])\n"
     ]
    }
   ],
   "source": [
    "print(a)"
   ]
  },
  {
   "cell_type": "code",
   "execution_count": 8,
   "id": "a6486986-63c2-42ca-8d04-e098df5d58ff",
   "metadata": {},
   "outputs": [
    {
     "name": "stdout",
     "output_type": "stream",
     "text": [
      "1\n",
      "2\n",
      "3\n"
     ]
    }
   ],
   "source": [
    "for i in a:\n",
    "    print(i)\n",
    "    "
   ]
  },
  {
   "cell_type": "code",
   "execution_count": 10,
   "id": "85c995ed-82ef-4309-a9ca-8e5234d31939",
   "metadata": {},
   "outputs": [
    {
     "name": "stdout",
     "output_type": "stream",
     "text": [
      "1\n",
      "2\n",
      "3\n"
     ]
    }
   ],
   "source": [
    "for i in range(0,3):\n",
    "    print(a[i])"
   ]
  },
  {
   "cell_type": "code",
   "execution_count": 11,
   "id": "013f1667-ab77-4deb-acde-71d21c5ce73e",
   "metadata": {},
   "outputs": [],
   "source": [
    "a.append(5)"
   ]
  },
  {
   "cell_type": "code",
   "execution_count": 13,
   "id": "0c181f93-0555-41a3-9fc5-4f2176cf9c8d",
   "metadata": {},
   "outputs": [
    {
     "name": "stdout",
     "output_type": "stream",
     "text": [
      "['__add__', '__buffer__', '__class__', '__class_getitem__', '__contains__', '__copy__', '__deepcopy__', '__delattr__', '__delitem__', '__dir__', '__doc__', '__eq__', '__format__', '__ge__', '__getattribute__', '__getitem__', '__getstate__', '__gt__', '__hash__', '__iadd__', '__imul__', '__init__', '__init_subclass__', '__iter__', '__le__', '__len__', '__lt__', '__module__', '__mul__', '__ne__', '__new__', '__reduce__', '__reduce_ex__', '__release_buffer__', '__repr__', '__rmul__', '__setattr__', '__setitem__', '__sizeof__', '__str__', '__subclasshook__', 'append', 'buffer_info', 'byteswap', 'count', 'extend', 'frombytes', 'fromfile', 'fromlist', 'fromunicode', 'index', 'insert', 'itemsize', 'pop', 'remove', 'reverse', 'tobytes', 'tofile', 'tolist', 'tounicode', 'typecode']\n"
     ]
    }
   ],
   "source": [
    "print(dir(a))"
   ]
  },
  {
   "cell_type": "markdown",
   "id": "9c7e0d75-a291-441c-b97d-537c56e53363",
   "metadata": {},
   "source": [
    "# **We will use numpy array instead of array**"
   ]
  },
  {
   "cell_type": "markdown",
   "id": "47c5a6c1-9d75-4ba4-9c7f-4fe462471072",
   "metadata": {},
   "source": [
    "# **LIST**"
   ]
  },
  {
   "cell_type": "markdown",
   "id": "4106e1eb-8ef7-4732-9c6a-9c63157c28e4",
   "metadata": {},
   "source": [
    "**list is implemented by using dynamic array we can also keep different types of array**"
   ]
  },
  {
   "cell_type": "code",
   "execution_count": 17,
   "id": "c075dd67-95e5-43e5-8393-45cec4ea1504",
   "metadata": {},
   "outputs": [],
   "source": [
    "l=[1,2,3,4]"
   ]
  },
  {
   "cell_type": "code",
   "execution_count": 19,
   "id": "a0544bf4-59c2-4f07-a362-864df14c18f5",
   "metadata": {},
   "outputs": [],
   "source": [
    "l.append(6)"
   ]
  },
  {
   "cell_type": "code",
   "execution_count": 20,
   "id": "bd0393a5-3170-4765-8df1-93d14e074b33",
   "metadata": {},
   "outputs": [
    {
     "data": {
      "text/plain": [
       "[1, 2, 3, 4, 6, 6]"
      ]
     },
     "execution_count": 20,
     "metadata": {},
     "output_type": "execute_result"
    }
   ],
   "source": [
    "l"
   ]
  },
  {
   "cell_type": "code",
   "execution_count": 21,
   "id": "536646fc-5435-4492-9022-9496f9157a3f",
   "metadata": {},
   "outputs": [
    {
     "name": "stdout",
     "output_type": "stream",
     "text": [
      "['__add__', '__class__', '__class_getitem__', '__contains__', '__delattr__', '__delitem__', '__dir__', '__doc__', '__eq__', '__format__', '__ge__', '__getattribute__', '__getitem__', '__getstate__', '__gt__', '__hash__', '__iadd__', '__imul__', '__init__', '__init_subclass__', '__iter__', '__le__', '__len__', '__lt__', '__mul__', '__ne__', '__new__', '__reduce__', '__reduce_ex__', '__repr__', '__reversed__', '__rmul__', '__setattr__', '__setitem__', '__sizeof__', '__str__', '__subclasshook__', 'append', 'clear', 'copy', 'count', 'extend', 'index', 'insert', 'pop', 'remove', 'reverse', 'sort']\n"
     ]
    }
   ],
   "source": [
    "print(dir(l))"
   ]
  },
  {
   "cell_type": "markdown",
   "id": "4488d47a-14ac-4e41-b50e-182902fa9297",
   "metadata": {},
   "source": [
    "# **Hands on Classes And Object**"
   ]
  },
  {
   "cell_type": "code",
   "execution_count": 1,
   "id": "daf5331e-fb76-4f43-bac3-941bed304c23",
   "metadata": {},
   "outputs": [],
   "source": [
    "class Person():\n",
    "    def __init__(self,name,age):\n",
    "        self.name=name\n",
    "        self.age=age\n",
    "\n",
    "    def show(self):\n",
    "        print(\"Name:\",self.name)\n",
    "        print(\"Age\",self.age)"
   ]
  },
  {
   "cell_type": "code",
   "execution_count": 2,
   "id": "4a2a6333-c47b-4971-8613-86552fd2b08f",
   "metadata": {},
   "outputs": [],
   "source": [
    "p1=Person(\"Rajkumar\",25)"
   ]
  },
  {
   "cell_type": "code",
   "execution_count": 4,
   "id": "886637df-daa9-4590-a705-d1ad073c11ec",
   "metadata": {},
   "outputs": [
    {
     "name": "stdout",
     "output_type": "stream",
     "text": [
      "Name: Rajkumar\n",
      "Age 25\n"
     ]
    }
   ],
   "source": [
    "p1.show()"
   ]
  },
  {
   "cell_type": "code",
   "execution_count": null,
   "id": "0039cbb9-100d-4ab2-bc32-217bb4828be2",
   "metadata": {},
   "outputs": [],
   "source": []
  }
 ],
 "metadata": {
  "kernelspec": {
   "display_name": "Python 3 (ipykernel)",
   "language": "python",
   "name": "python3"
  },
  "language_info": {
   "codemirror_mode": {
    "name": "ipython",
    "version": 3
   },
   "file_extension": ".py",
   "mimetype": "text/x-python",
   "name": "python",
   "nbconvert_exporter": "python",
   "pygments_lexer": "ipython3",
   "version": "3.12.8"
  }
 },
 "nbformat": 4,
 "nbformat_minor": 5
}
