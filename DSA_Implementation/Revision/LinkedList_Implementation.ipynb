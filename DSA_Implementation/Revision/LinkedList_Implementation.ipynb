{
 "cells": [
  {
   "cell_type": "code",
   "execution_count": 4,
   "id": "bbcb6148-41dc-4834-8b87-c18e694a434b",
   "metadata": {},
   "outputs": [],
   "source": [
    "class Node:\n",
    "    def __init__(self,item=None,next=None):\n",
    "        self.item=item\n",
    "        self.next=next\n",
    "\n",
    "class SLL:\n",
    "    def __init__(self,start=None):\n",
    "        self.start=start\n",
    "    def is_empty(self):\n",
    "        return self.start==None\n",
    "    def insert_at_start(self,item):\n",
    "         n=Node(item,self.start)\n",
    "         self.start=n\n",
    "    def insert_at_last(self,item):\n",
    "        n=Node(item)\n",
    "        if self.is_empty():\n",
    "            self.start=n\n",
    "        else:\n",
    "            curr=self.start\n",
    "            while curr.next is not None:\n",
    "                curr=curr.next\n",
    "            curr.next=n\n",
    "\n",
    "my_list=SLL()\n",
    "my_list.is_empty()\n",
    "my_list.insert_at_start(10)\n",
    "my_list.insert_at_start(20)\n",
    "my_list.insert_at_last(50)\n",
    "\n",
    "            \n",
    "        \n",
    "            \n",
    "            \n",
    "\n",
    "        "
   ]
  },
  {
   "cell_type": "code",
   "execution_count": null,
   "id": "0bc0e3c0-62f6-480b-a5f0-e2f14aa535b5",
   "metadata": {},
   "outputs": [],
   "source": []
  }
 ],
 "metadata": {
  "kernelspec": {
   "display_name": "Python 3 (ipykernel)",
   "language": "python",
   "name": "python3"
  },
  "language_info": {
   "codemirror_mode": {
    "name": "ipython",
    "version": 3
   },
   "file_extension": ".py",
   "mimetype": "text/x-python",
   "name": "python",
   "nbconvert_exporter": "python",
   "pygments_lexer": "ipython3",
   "version": "3.12.8"
  }
 },
 "nbformat": 4,
 "nbformat_minor": 5
}
