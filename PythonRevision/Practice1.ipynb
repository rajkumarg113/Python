{
 "cells": [
  {
   "cell_type": "markdown",
   "id": "51bbcaed-e006-4f37-b23a-0aa130bd90c2",
   "metadata": {},
   "source": [
    "# **diiferent way of using printf in python**"
   ]
  },
  {
   "cell_type": "markdown",
   "id": "1c0f5088-6d98-4fae-8780-61c738f5e20a",
   "metadata": {},
   "source": [
    "**1.Using print with Comma-Separated Values**"
   ]
  },
  {
   "cell_type": "code",
   "execution_count": 1,
   "id": "b4c91369-dfad-4802-b135-00b03f243809",
   "metadata": {},
   "outputs": [
    {
     "name": "stdout",
     "output_type": "stream",
     "text": [
      "My name is Rajkumar and I am 25 years old.\n"
     ]
    }
   ],
   "source": [
    "name = \"Rajkumar\"\n",
    "age = 25\n",
    "print(\"My name is\", name, \"and I am\", age, \"years old.\")\n"
   ]
  },
  {
   "cell_type": "markdown",
   "id": "f9c4edf5-55e4-4763-8e4e-f6403bb7bc07",
   "metadata": {},
   "source": [
    "**2. Using format() Method**"
   ]
  },
  {
   "cell_type": "code",
   "execution_count": 2,
   "id": "c97c5c13-4268-4c41-836b-feab4340911a",
   "metadata": {},
   "outputs": [
    {
     "name": "stdout",
     "output_type": "stream",
     "text": [
      "My name is Rajkumar and I am 25 years old.\n"
     ]
    }
   ],
   "source": [
    "print(\"My name is {} and I am {} years old.\".format(name, age))"
   ]
  },
  {
   "cell_type": "markdown",
   "id": "63338870-ae5e-4bea-b81a-c863f55bf469",
   "metadata": {},
   "source": [
    "**3. Using f-Strings (Python 3.6+)**"
   ]
  },
  {
   "cell_type": "code",
   "execution_count": 4,
   "id": "db362dc7-f4c4-4186-a947-0054dc52f54e",
   "metadata": {},
   "outputs": [
    {
     "name": "stdout",
     "output_type": "stream",
     "text": [
      "My name is Rajkumar and I am 25 years old.\n"
     ]
    }
   ],
   "source": [
    "print(f\"My name is {name} and I am {age} years old.\")"
   ]
  },
  {
   "cell_type": "markdown",
   "id": "5c035ee6-a3a5-4f11-8b49-82f2972fd34f",
   "metadata": {},
   "source": [
    "**4. Using printf Style (% Formatting, Like C)**"
   ]
  },
  {
   "cell_type": "code",
   "execution_count": 6,
   "id": "cd9d5acf-454d-4f40-a232-41ee447d8fd0",
   "metadata": {},
   "outputs": [
    {
     "name": "stdout",
     "output_type": "stream",
     "text": [
      "My name is Rajkumar and I am 25 years old.\n"
     ]
    }
   ],
   "source": [
    "print(\"My name is %s and I am %d years old.\" % (name, age))"
   ]
  },
  {
   "cell_type": "markdown",
   "id": "d1c3eec7-ed2c-4891-8d57-2dbe9e39c4ce",
   "metadata": {},
   "source": [
    "# **variable name convention**"
   ]
  },
  {
   "cell_type": "code",
   "execution_count": 7,
   "id": "a6cd18f3-69ec-4dee-9d77-f3ebbcf2aa42",
   "metadata": {},
   "outputs": [],
   "source": [
    "#for variable use snakecase      abc_xyz\n",
    "#for class name   use pasclasnake   AbcXyz\n",
    "#for function     use abc_xyz\n",
    "#for boolean      use is_small=True"
   ]
  },
  {
   "cell_type": "code",
   "execution_count": 1,
   "id": "6d0aaef4-f958-4c88-985f-0b76ec7cfe77",
   "metadata": {},
   "outputs": [],
   "source": [
    "#"
   ]
  },
  {
   "cell_type": "code",
   "execution_count": null,
   "id": "b52e1574-f02f-41d0-970b-84f9b345566b",
   "metadata": {},
   "outputs": [],
   "source": []
  }
 ],
 "metadata": {
  "kernelspec": {
   "display_name": "Python 3 (ipykernel)",
   "language": "python",
   "name": "python3"
  },
  "language_info": {
   "codemirror_mode": {
    "name": "ipython",
    "version": 3
   },
   "file_extension": ".py",
   "mimetype": "text/x-python",
   "name": "python",
   "nbconvert_exporter": "python",
   "pygments_lexer": "ipython3",
   "version": "3.12.8"
  }
 },
 "nbformat": 4,
 "nbformat_minor": 5
}
